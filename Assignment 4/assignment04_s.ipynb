{
 "cells": [
  {
   "cell_type": "markdown",
   "metadata": {
    "id": "8k-ZtyGzJDLX"
   },
   "source": [
    "# Task\n",
    "\n",
    "Keep using the One-piece [competition case](https://www.kaggle.com/t/f5f7783abf31495f9593b3d93a18f9eb).\n",
    "\n",
    "Build on your Assignment 3.\n",
    "\n",
    "1. Keep improving some ideas that were not explored before.\n",
    "1. Week 8 will talk about PCA as a simple summary of many variables.\n",
    "1. Get the test sample for prediction and submit your results on Kaggle to get your Kaggle score screenshot. Show the screenshot in the PDF file.\n",
    "\n",
    "**Note:**\n",
    "- All instructions in Assignment 1 apply.\n",
    "- Use $\\leq 300$ words."
   ]
  }
 ],
 "metadata": {
  "colab": {
   "authorship_tag": "ABX9TyPK4RYJz/iZ7mf/zb9yNhe5",
   "provenance": [
    {
     "file_id": "1AEbxyavgWhOglNr1_B1oIAR4Uo37ZJdx",
     "timestamp": 1724817099334
    },
    {
     "file_id": "1Q8i8Ak6979_V4txuQQsqFJff2QuPxReQ",
     "timestamp": 1723592159774
    }
   ]
  },
  "kernelspec": {
   "display_name": "Python 3",
   "name": "python3"
  },
  "language_info": {
   "name": "python"
  }
 },
 "nbformat": 4,
 "nbformat_minor": 0
}
