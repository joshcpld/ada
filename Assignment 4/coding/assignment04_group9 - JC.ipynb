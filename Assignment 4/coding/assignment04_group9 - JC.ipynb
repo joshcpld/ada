{
 "cells": [
  {
   "cell_type": "markdown",
   "metadata": {
    "id": "8k-ZtyGzJDLX"
   },
   "source": [
    "# Task\n",
    "\n",
    "Keep using the One-piece [competition case](https://www.kaggle.com/t/f5f7783abf31495f9593b3d93a18f9eb).\n",
    "\n",
    "Build on your Assignment 3.\n",
    "\n",
    "1. Keep improving some ideas that were not explored before.\n",
    "1. Week 8 will talk about PCA as a simple summary of many variables.\n",
    "1. Get the test sample for prediction and submit your results on Kaggle to get your Kaggle score screenshot. Show the screenshot in the PDF file.\n",
    "\n",
    "**Note:**\n",
    "- All instructions in Assignment 1 apply.\n",
    "- Use $\\leq 300$ words."
   ]
  },
  {
   "cell_type": "markdown",
   "metadata": {},
   "source": [
    "## Install Packages"
   ]
  },
  {
   "cell_type": "code",
   "execution_count": 1,
   "metadata": {},
   "outputs": [],
   "source": [
    "import pandas as pd\n",
    "import numpy as np\n",
    "import plotly.graph_objects as go\n",
    "import plotly.io as pio\n",
    "import statsmodels.api as sm\n",
    "from statsmodels.nonparametric.smoothers_lowess import lowess\n",
    "from sklearn.preprocessing import StandardScaler\n",
    "from sklearn.linear_model import  Lasso, LinearRegression,LassoCV, Ridge, ElasticNetCV\n",
    "from sklearn.model_selection import cross_val_score, KFold\n",
    "from sklearn.pipeline import Pipeline\n",
    "from sklearn.metrics import mean_squared_error\n",
    "from sklearn.decomposition import PCA\n",
    "from sklearn.model_selection import LeaveOneOut\n",
    "from itertools import combinations\n",
    "import matplotlib.pyplot as plt\n",
    "pio.renderers.default = \"vscode\"   # if you’re using VS Code Interactive/Notebooks"
   ]
  },
  {
   "cell_type": "markdown",
   "metadata": {},
   "source": [
    "# Assignment 3 Feedback \n",
    "\n",
    "Key points of feedack from Assignment 3 were:\n",
    "\n",
    "* Not extending the transformation to higher order polynomials,\n",
    "* Model selection being based on one set of explanatory variables.\n",
    "\n",
    "Incorporating this feedback, we do the following:\n",
    "\n",
    "* Extend the analysis up to quartic polynomials,\n",
    "* Use a weighted average for prediction rather than just a simple average."
   ]
  },
  {
   "cell_type": "markdown",
   "metadata": {},
   "source": [
    "## 1. Read Data"
   ]
  },
  {
   "cell_type": "code",
   "execution_count": 2,
   "metadata": {},
   "outputs": [
    {
     "data": {
      "text/html": [
       "<div>\n",
       "<style scoped>\n",
       "    .dataframe tbody tr th:only-of-type {\n",
       "        vertical-align: middle;\n",
       "    }\n",
       "\n",
       "    .dataframe tbody tr th {\n",
       "        vertical-align: top;\n",
       "    }\n",
       "\n",
       "    .dataframe thead th {\n",
       "        text-align: right;\n",
       "    }\n",
       "</style>\n",
       "<table border=\"1\" class=\"dataframe\">\n",
       "  <thead>\n",
       "    <tr style=\"text-align: right;\">\n",
       "      <th></th>\n",
       "      <th>ID</th>\n",
       "      <th>Y</th>\n",
       "      <th>X1</th>\n",
       "      <th>X2</th>\n",
       "      <th>X3</th>\n",
       "      <th>X4</th>\n",
       "      <th>X5</th>\n",
       "      <th>X6</th>\n",
       "      <th>X7</th>\n",
       "      <th>X8</th>\n",
       "      <th>...</th>\n",
       "      <th>X41</th>\n",
       "      <th>X42</th>\n",
       "      <th>X43</th>\n",
       "      <th>X44</th>\n",
       "      <th>X45</th>\n",
       "      <th>X46</th>\n",
       "      <th>X47</th>\n",
       "      <th>X48</th>\n",
       "      <th>X49</th>\n",
       "      <th>X50</th>\n",
       "    </tr>\n",
       "  </thead>\n",
       "  <tbody>\n",
       "    <tr>\n",
       "      <th>0</th>\n",
       "      <td>0</td>\n",
       "      <td>-1.399091</td>\n",
       "      <td>1.174139</td>\n",
       "      <td>1.413109</td>\n",
       "      <td>0.164693</td>\n",
       "      <td>-1.067338</td>\n",
       "      <td>0.015324</td>\n",
       "      <td>-1.280970</td>\n",
       "      <td>0.489681</td>\n",
       "      <td>-0.371982</td>\n",
       "      <td>...</td>\n",
       "      <td>-0.115044</td>\n",
       "      <td>-2.580043</td>\n",
       "      <td>-0.812428</td>\n",
       "      <td>0.772820</td>\n",
       "      <td>-0.460444</td>\n",
       "      <td>0.190422</td>\n",
       "      <td>-0.362052</td>\n",
       "      <td>-1.119038</td>\n",
       "      <td>0.916313</td>\n",
       "      <td>-1.517434</td>\n",
       "    </tr>\n",
       "    <tr>\n",
       "      <th>1</th>\n",
       "      <td>1</td>\n",
       "      <td>3.097990</td>\n",
       "      <td>0.208922</td>\n",
       "      <td>0.931231</td>\n",
       "      <td>0.838779</td>\n",
       "      <td>0.893483</td>\n",
       "      <td>-0.510555</td>\n",
       "      <td>0.900289</td>\n",
       "      <td>-0.042490</td>\n",
       "      <td>0.839400</td>\n",
       "      <td>...</td>\n",
       "      <td>1.155635</td>\n",
       "      <td>0.673035</td>\n",
       "      <td>-0.438152</td>\n",
       "      <td>-0.001316</td>\n",
       "      <td>-0.761800</td>\n",
       "      <td>1.335092</td>\n",
       "      <td>0.901978</td>\n",
       "      <td>-1.549504</td>\n",
       "      <td>-0.456224</td>\n",
       "      <td>0.223405</td>\n",
       "    </tr>\n",
       "    <tr>\n",
       "      <th>2</th>\n",
       "      <td>2</td>\n",
       "      <td>-1.707346</td>\n",
       "      <td>-0.744982</td>\n",
       "      <td>0.962118</td>\n",
       "      <td>0.615392</td>\n",
       "      <td>-0.427943</td>\n",
       "      <td>-0.014912</td>\n",
       "      <td>1.138781</td>\n",
       "      <td>1.159491</td>\n",
       "      <td>0.055467</td>\n",
       "      <td>...</td>\n",
       "      <td>0.299277</td>\n",
       "      <td>1.387495</td>\n",
       "      <td>-0.007519</td>\n",
       "      <td>-0.464825</td>\n",
       "      <td>0.830986</td>\n",
       "      <td>0.373124</td>\n",
       "      <td>0.319232</td>\n",
       "      <td>-0.577295</td>\n",
       "      <td>-1.363846</td>\n",
       "      <td>-0.347154</td>\n",
       "    </tr>\n",
       "    <tr>\n",
       "      <th>3</th>\n",
       "      <td>3</td>\n",
       "      <td>0.610625</td>\n",
       "      <td>-0.170428</td>\n",
       "      <td>-1.361771</td>\n",
       "      <td>0.206042</td>\n",
       "      <td>0.623124</td>\n",
       "      <td>0.907441</td>\n",
       "      <td>-0.873814</td>\n",
       "      <td>1.287383</td>\n",
       "      <td>0.901191</td>\n",
       "      <td>...</td>\n",
       "      <td>1.209247</td>\n",
       "      <td>0.095866</td>\n",
       "      <td>-0.287905</td>\n",
       "      <td>-1.110714</td>\n",
       "      <td>-1.660352</td>\n",
       "      <td>0.207231</td>\n",
       "      <td>-0.419119</td>\n",
       "      <td>-0.517563</td>\n",
       "      <td>-1.050697</td>\n",
       "      <td>-0.096327</td>\n",
       "    </tr>\n",
       "    <tr>\n",
       "      <th>4</th>\n",
       "      <td>4</td>\n",
       "      <td>-0.689196</td>\n",
       "      <td>-0.858792</td>\n",
       "      <td>0.321308</td>\n",
       "      <td>-0.415649</td>\n",
       "      <td>1.014056</td>\n",
       "      <td>-0.522858</td>\n",
       "      <td>0.926634</td>\n",
       "      <td>-0.390663</td>\n",
       "      <td>0.790054</td>\n",
       "      <td>...</td>\n",
       "      <td>-1.191989</td>\n",
       "      <td>-1.127448</td>\n",
       "      <td>0.246358</td>\n",
       "      <td>0.407769</td>\n",
       "      <td>1.132454</td>\n",
       "      <td>-0.016621</td>\n",
       "      <td>0.964745</td>\n",
       "      <td>0.091532</td>\n",
       "      <td>0.649593</td>\n",
       "      <td>-0.818020</td>\n",
       "    </tr>\n",
       "  </tbody>\n",
       "</table>\n",
       "<p>5 rows × 52 columns</p>\n",
       "</div>"
      ],
      "text/plain": [
       "   ID         Y        X1        X2        X3        X4        X5        X6  \\\n",
       "0   0 -1.399091  1.174139  1.413109  0.164693 -1.067338  0.015324 -1.280970   \n",
       "1   1  3.097990  0.208922  0.931231  0.838779  0.893483 -0.510555  0.900289   \n",
       "2   2 -1.707346 -0.744982  0.962118  0.615392 -0.427943 -0.014912  1.138781   \n",
       "3   3  0.610625 -0.170428 -1.361771  0.206042  0.623124  0.907441 -0.873814   \n",
       "4   4 -0.689196 -0.858792  0.321308 -0.415649  1.014056 -0.522858  0.926634   \n",
       "\n",
       "         X7        X8  ...       X41       X42       X43       X44       X45  \\\n",
       "0  0.489681 -0.371982  ... -0.115044 -2.580043 -0.812428  0.772820 -0.460444   \n",
       "1 -0.042490  0.839400  ...  1.155635  0.673035 -0.438152 -0.001316 -0.761800   \n",
       "2  1.159491  0.055467  ...  0.299277  1.387495 -0.007519 -0.464825  0.830986   \n",
       "3  1.287383  0.901191  ...  1.209247  0.095866 -0.287905 -1.110714 -1.660352   \n",
       "4 -0.390663  0.790054  ... -1.191989 -1.127448  0.246358  0.407769  1.132454   \n",
       "\n",
       "        X46       X47       X48       X49       X50  \n",
       "0  0.190422 -0.362052 -1.119038  0.916313 -1.517434  \n",
       "1  1.335092  0.901978 -1.549504 -0.456224  0.223405  \n",
       "2  0.373124  0.319232 -0.577295 -1.363846 -0.347154  \n",
       "3  0.207231 -0.419119 -0.517563 -1.050697 -0.096327  \n",
       "4 -0.016621  0.964745  0.091532  0.649593 -0.818020  \n",
       "\n",
       "[5 rows x 52 columns]"
      ]
     },
     "execution_count": 2,
     "metadata": {},
     "output_type": "execute_result"
    }
   ],
   "source": [
    "train_url = \"https://github.com/joshcpld/ada/raw/main/Assignment%202/data/train_data.csv\"\n",
    "train_df = pd.read_csv(train_url)\n",
    "test_url = \"https://github.com/joshcpld/ada/raw/main/Assignment%202/data/test_data.csv\"\n",
    "test_df = pd.read_csv(test_url)\n",
    "\n",
    "train_df.head()"
   ]
  },
  {
   "cell_type": "markdown",
   "metadata": {},
   "source": [
    "Separate the X predictors from our outcome variable Y."
   ]
  },
  {
   "cell_type": "code",
   "execution_count": 4,
   "metadata": {},
   "outputs": [],
   "source": [
    "# Separate the X predictors and Y outcome variable\n",
    "X0_train = train_df.drop(columns=['Y', 'ID'])\n",
    "y0_train = train_df['Y'].values\n",
    "x0_test = test_df.drop(columns=[\"ID\"])\n",
    "cols = X0_train.columns.tolist()"
   ]
  },
  {
   "cell_type": "markdown",
   "metadata": {},
   "source": [
    "### 2. LASSO regulatisation with K-fold CV\n",
    "\n",
    "In this section, we begin with LASSO regularisation to reduce our parameter scope using cross-validation."
   ]
  },
  {
   "cell_type": "markdown",
   "metadata": {},
   "source": [
    "Moving forward with our LASSO regularisation, we first create a second matrix of higher order polynomial and interaction terms. Notably, relative to assignment 3, this includes higher order terms for cubes and quartics."
   ]
  },
  {
   "cell_type": "code",
   "execution_count": 6,
   "metadata": {},
   "outputs": [
    {
     "name": "stdout",
     "output_type": "stream",
     "text": [
      "Dimensionality of original training set: (2400, 50)\n",
      "Dimensionality of new training set: (2400, 1425)\n"
     ]
    }
   ],
   "source": [
    "# Define function\n",
    "def matrix(df, cols):\n",
    "    # Original terms: X1, X2, ..., Xk\n",
    "    base = df[cols].copy()\n",
    "\n",
    "    # Squared (X^2), Cubic (X^3), Quartic (X^4) terms for each column\n",
    "    squares  = pd.DataFrame({f\"{c}^2\": df[c]**2 for c in cols}, index=df.index)\n",
    "    cubes    = pd.DataFrame({f\"{c}^3\": df[c]**3 for c in cols}, index=df.index)\n",
    "    quartics = pd.DataFrame({f\"{c}^4\": df[c]**4 for c in cols}, index=df.index)\n",
    "\n",
    "    # Interaction terms (keep exactly what you had)\n",
    "    inter_dict = {}\n",
    "    for i, c1 in enumerate(cols):\n",
    "        for j in range(i + 1, len(cols)):\n",
    "            c2 = cols[j]\n",
    "            inter_dict[f\"{c1}*{c2}\"] = df[c1] * df[c2]\n",
    "    inter = pd.DataFrame(inter_dict, index=df.index)\n",
    "\n",
    "    # Combine all together (base → squares → cubes → quartics → interactions)\n",
    "    X_vars = pd.concat([base, \n",
    "                        squares, \n",
    "                        cubes, \n",
    "                        quartics, \n",
    "                        inter], axis=1)\n",
    "\n",
    "    return X_vars\n",
    "\n",
    "# Create the polynomial (up to quartic) and interaction terms training set\n",
    "X_vars_train = matrix(train_df, cols)\n",
    "X_vars_test = matrix(test_df.drop(columns=['ID']), cols)\n",
    "\n",
    "print(\"Dimensionality of original training set:\", X0_train.shape)\n",
    "print(\"Dimensionality of new training set:\", X_vars_train.shape)"
   ]
  },
  {
   "cell_type": "markdown",
   "metadata": {},
   "source": [
    "Before we begin, we use the LOWESS method to capture local trends that may not be captured by our polynomial regression models."
   ]
  },
  {
   "cell_type": "markdown",
   "metadata": {},
   "source": [
    "Secondly, we then scale the predictors to ensure comparability"
   ]
  },
  {
   "cell_type": "code",
   "execution_count": 7,
   "metadata": {},
   "outputs": [],
   "source": [
    "scaler = StandardScaler()\n",
    "X1_train = scaler.fit_transform(X_vars_train.values)"
   ]
  },
  {
   "cell_type": "markdown",
   "metadata": {},
   "source": [
    "Then, we select the 'optimal' alpha for LASSO regularisation (which we combine with cross-validation)."
   ]
  },
  {
   "cell_type": "code",
   "execution_count": 8,
   "metadata": {},
   "outputs": [
    {
     "name": "stdout",
     "output_type": "stream",
     "text": [
      "Optimal Alpha: 0.06579332246575675\n"
     ]
    }
   ],
   "source": [
    "lasso_cv_model = LassoCV(alphas=np.logspace(-5, 2, num=100), cv=10, max_iter=10000)\n",
    "\n",
    "# Fit the LassoCV model to the scaled training data\n",
    "lasso_cv_model.fit(X1_train, y0_train)\n",
    "\n",
    "# The optimal alpha selected by cross-validation\n",
    "optimal_alpha_lasso = lasso_cv_model.alpha_\n",
    "print(\"Optimal Alpha:\", optimal_alpha_lasso)"
   ]
  },
  {
   "cell_type": "markdown",
   "metadata": {},
   "source": [
    "As we are interested in a range of models, and want to see which set of models perform the best, let us select a range of alphas one standard error from our optimal point."
   ]
  },
  {
   "cell_type": "code",
   "execution_count": 9,
   "metadata": {},
   "outputs": [
    {
     "name": "stdout",
     "output_type": "stream",
     "text": [
      "alpha=0.09112 | predictors=89\n",
      "alpha=0.07743 | predictors=138\n",
      "alpha=0.06579 | predictors=193\n",
      "alpha=0.05591 | predictors=245\n",
      "alpha=0.04751 | predictors=324\n"
     ]
    }
   ],
   "source": [
    "# Get the mean CV error per alpha\n",
    "mean_mse = lasso_cv_model.mse_path_.mean(axis=1)\n",
    "\n",
    "# Calculate the standard error of the mean CV error\n",
    "std_mse = lasso_cv_model.mse_path_.std(axis=1) / np.sqrt(lasso_cv_model.mse_path_.shape[1])\n",
    "\n",
    "# Index of best alpha\n",
    "optimal_alpha_lasso_index = np.where(lasso_cv_model.alphas_ == optimal_alpha_lasso)[0][0]\n",
    "\n",
    "# Create a threshold using one standard error from the mean CV error of the optimal alpha\n",
    "alpha_threshold = mean_mse[optimal_alpha_lasso_index] + std_mse[optimal_alpha_lasso_index]\n",
    "\n",
    "# Apply this threshold to select a set of alphas\n",
    "threshold_inequality = mean_mse <= alpha_threshold\n",
    "selected_alphas = lasso_cv_model.alphas_[threshold_inequality]\n",
    "\n",
    "# Use LASSO on these set of alphas to select a set of features for our multiple linear regression model\n",
    "LASSO_features = {}\n",
    "for a in selected_alphas:\n",
    "    model = Lasso(alpha=a).fit(X1_train, y0_train)\n",
    "    LASSO_features[a] = model\n",
    "    n_predictors = np.sum(model.coef_ != 0)\n",
    "    print(f\"alpha={a:.5f} | predictors={n_predictors}\")"
   ]
  },
  {
   "cell_type": "code",
   "execution_count": 12,
   "metadata": {},
   "outputs": [
    {
     "name": "stdout",
     "output_type": "stream",
     "text": [
      "Model 1: 89 predictors selected\n",
      "Model 2: 138 predictors selected\n",
      "Model 3: 193 predictors selected\n",
      "Model 4: 245 predictors selected\n",
      "Model 5: 324 predictors selected\n"
     ]
    }
   ],
   "source": [
    "# Extract selected predictors from each LASSO model\n",
    "\n",
    "selected_predictors = {}\n",
    "model_counter = 1\n",
    "\n",
    "for alpha, lasso_model in LASSO_features.items():\n",
    "    # Get the selected feature names\n",
    "    selected_features = X_vars_train.columns[lasso_model.coef_ != 0].tolist()\n",
    "    \n",
    "    # Store in dictionary with model name\n",
    "    selected_predictors[f\"Model {model_counter}\"] = selected_features\n",
    "    model_counter += 1\n",
    "\n",
    "# Print summary of selected features for each model\n",
    "for model_name, features in selected_predictors.items():\n",
    "    print(f\"{model_name}: {len(features)} predictors selected\")"
   ]
  },
  {
   "cell_type": "markdown",
   "metadata": {},
   "source": [
    "# 3. LOWESS"
   ]
  },
  {
   "cell_type": "markdown",
   "metadata": {},
   "source": [
    "In this section, we use the LOWESS methodology to understand local trends that may not be captured by our linear regression models, which can allow us to determine the existence of non-linear relationships."
   ]
  },
  {
   "cell_type": "code",
   "execution_count": null,
   "metadata": {},
   "outputs": [
    {
     "data": {
      "application/vnd.plotly.v1+json": {
       "config": {
        "plotlyServerURL": "https://plot.ly"
       },
       "data": [
        {
         "line": {
          "color": "blue",
          "width": 2
         },
         "mode": "lines",
         "name": "Above Threshold",
         "type": "scatter",
         "x": {
          "bdata": "QLx1/7qLCcA32HEQdfkIwC70bSEvZwjAJRBqMunUB8AcLGZDo0IHwBJIYlRdsAbACmReZRceBsAAgFp20YsFwPebVoeL+QTA7rdSmEVnBMDl006p/9QDwNzvSrq5QgPA0wtHy3OwAsDKJ0PcLR4CwMFDP+3niwHAuF87/qH5AMCuezcPXGcAwEsvZ0Asqv+/OWdfYqCF/r8mn1eEFGH9vxTXT6aIPPy/Ag9IyPwX+7/wRkDqcPP5v95+OAzlzvi/zLYwLlmq97+57ihQzYX2v6cmIXJBYfW/lV4ZlLU89L+DlhG2KRjzv3DOCdid8/G/XgYC+hHP8L+YfPQ3DFXvv3Ts5Hv0C+2/UFzVv9zC6r8szMUDxXnovwg8tketMOa/5Kumi5Xn47/AG5fPfZ7hvzAXDyfMqt6/6PbvrpwY2r+g1tA2bYbVv1i2sb499NC/ICwljRzEyL8g1805ez+/vwCsorJ67am/gKysHAJIlT9ArKdnvpq3P7AWEiS+8cQ/QFdQFB0Wzj/wS0cCPp3TPzhsZnptL9g/gIyF8pzB3D9kVlI15qngP4jmYfH98uI/rHZxrRU85T/QBoFpLYXnP/SWkCVFzuk/GCeg4VwX7D9At6+ddGDuP7Cj3yzGVPA/xGvnClJ58T/UM+/o3Z3yP+j79sZpwvM/+MP+pPXm9D8MjAaDgQv2PyBUDmENMPc/MBwWP5lU+D9E5B0dJXn5P1SsJfuwnfo/aHQt2TzC+z94PDW3yOb8P4wEPZVUC/4/nMxEc+Av/z9YSqYoNioAQGAuqhd8vABAahKuBsJOAUB09rH1B+EBQHzateRNcwJAhr6505MFA0COor3C2ZcDQJiGwbEfKgRAoGrFoGW8BECqTsmPq04FQLIyzX7x4AVAvBbRbTdzBkDE+tRcfQUHQM7e2EvDlwdA2MLcOgkqCEDgpuApT7wIQOqK5BiVTglA8m7oB9vgCUD8Uuz2IHMKQAQ38OVmBQtADhv01KyXC0AW//fD8ikMQCDj+7I4vAxAKMf/oX5ODUAyqwORxOANQDyPB4AKcw5ARHMLb1AFD0A=",
          "dtype": "f8"
         },
         "y": {
          "bdata": "DRey3H5o3T8NF7LcfmjdPw0Xstx+aN0/DRey3H5o3T8NF7LcfmjdPw0Xstx+aN0/DRey3H5o3T8NF7LcfmjdPw0Xstx+aN0/DRey3H5o3T8NF7LcfmjdPw0Xstx+aN0/DRey3H5o3T8NF7LcfmjdPw0Xstx+aN0/DRey3H5o3T8NF7LcfmjdPw0Xstx+aN0/DRey3H5o3T8NF7LcfmjdPw0Xstx+aN0/DRey3H5o3T8NF7LcfmjdPw0Xstx+aN0/DRey3H5o3T8NF7LcfmjdPw0Xstx+aN0/DRey3H5o3T8NF7LcfmjdPw0Xstx+aN0/DRey3H5o3T8NF7LcfmjdPw0Xstx+aN0/DRey3H5o3T8NF7LcfmjdPw0Xstx+aN0/DRey3H5o3T8NF7LcfmjdPw0Xstx+aN0/DRey3H5o3T8NF7LcfmjdPw0Xstx+aN0/DRey3H5o3T8NF7LcfmjdPw0Xstx+aN0/DRey3H5o3T9otrQhWa/dPxE5/QaIt90/rH5sBuGJ3T8jNzaX/UHdP6x7wUaC+dw/SzSlD/mX3D+wiYVEH5rbPw9YcSfa49s/D+rcrgot3j/pEUy7H37gPzbhduu7zeE/dst09COc4j9EFK/DHiTjPxnje02q3+M/bgTQfs4g5T+XVTULNoHmP4x33yCv2ec/iXhukP466T+gRqOsBazqP7jKBDyvIuw/BxL+6TSO7T+6gxhzT/DuP2t+hT9HGvA/sZ9Jsjqn8D+EkU2leCHxP1h7MSVdkvE/ApG0P4cN8j8Nq0stzaDyP3cadrinTPM/qCMW45AJ9D/SMlzv3Nj0P2j3IxDizPU/c40qyTno9j/McUI+Wib4P0gIX1Fwc/k/HMOZxF/O+j+PU6cO4S78Py4aVItljv0/N+rdXXXt/j8e3TOYQiYAQIzfZYFQ0wBANLaOQgOAAUDajLcDtiwCQINj4MRo2QJAKToJhhuGA0Aul3kcwj8EQECzMyhJ+wRAVc/tM9C2BUBn66c/V3IGQHwHYkveLQdAjiMcV2XpB0CjP9Zi7KQIQLhbkG5zYAlAyndKevobCkA=",
          "dtype": "f8"
         }
        },
        {
         "line": {
          "color": "red",
          "width": 2
         },
         "mode": "lines",
         "name": "Below Threshold",
         "type": "scatter",
         "x": {
          "bdata": "QLx1/7qLCcA32HEQdfkIwC70bSEvZwjAJRBqMunUB8AcLGZDo0IHwBJIYlRdsAbACmReZRceBsAAgFp20YsFwPebVoeL+QTA7rdSmEVnBMDl006p/9QDwNzvSrq5QgPA0wtHy3OwAsDKJ0PcLR4CwMFDP+3niwHAuF87/qH5AMCuezcPXGcAwEsvZ0Asqv+/OWdfYqCF/r8mn1eEFGH9vxTXT6aIPPy/Ag9IyPwX+7/wRkDqcPP5v95+OAzlzvi/zLYwLlmq97+57ihQzYX2v6cmIXJBYfW/lV4ZlLU89L+DlhG2KRjzv3DOCdid8/G/XgYC+hHP8L+YfPQ3DFXvv3Ts5Hv0C+2/UFzVv9zC6r8szMUDxXnovwg8tketMOa/5Kumi5Xn47/AG5fPfZ7hvzAXDyfMqt6/6PbvrpwY2r+g1tA2bYbVv1i2sb499NC/ICwljRzEyL8g1805ez+/vwCsorJ67am/gKysHAJIlT9ArKdnvpq3P7AWEiS+8cQ/QFdQFB0Wzj/wS0cCPp3TPzhsZnptL9g/gIyF8pzB3D9kVlI15qngP4jmYfH98uI/rHZxrRU85T/QBoFpLYXnP/SWkCVFzuk/GCeg4VwX7D9At6+ddGDuP7Cj3yzGVPA/xGvnClJ58T/UM+/o3Z3yP+j79sZpwvM/+MP+pPXm9D8MjAaDgQv2PyBUDmENMPc/MBwWP5lU+D9E5B0dJXn5P1SsJfuwnfo/aHQt2TzC+z94PDW3yOb8P4wEPZVUC/4/nMxEc+Av/z9YSqYoNioAQGAuqhd8vABAahKuBsJOAUB09rH1B+EBQHzateRNcwJAhr6505MFA0COor3C2ZcDQJiGwbEfKgRAoGrFoGW8BECqTsmPq04FQLIyzX7x4AVAvBbRbTdzBkDE+tRcfQUHQM7e2EvDlwdA2MLcOgkqCEDgpuApT7wIQOqK5BiVTglA8m7oB9vgCUD8Uuz2IHMKQAQ38OVmBQtADhv01KyXC0AW//fD8ikMQCDj+7I4vAxAKMf/oX5ODUAyqwORxOANQDyPB4AKcw5ARHMLb1AFD0A=",
          "dtype": "f8"
         },
         "y": {
          "bdata": "eHdm+Gi3BMAH2PFEVQMEwJU4fZFBTwPAJJkI3i2bAsCy+ZMqGucBwNuaGwzFMgHACBPC5759AMAPyWvW2Y//v2aDZw1gI/6/q736Niq0/L/OsFSP7EH7v8JDu2Hczvm/tvMEz0lZ+L/5HTaMFeL2vxIJtUL7afW/nSBhvPjx87+wDW1oZ3vyvxyFbuXxCPG/2yhMOfg677/ObJHa/3TsvzB7/tC4s+m/8i7SQJbr5r8i1jn2mxfkv4TegzOqMeG/YiUHHt2B3L/cSKrkeLjWv1dcGNXx79C/2v/2Ct3Cxb/4v54TVSmzv57tHUqO7Yg/YHOKYP2muT+otTzqv/PGP4tPPNMxis0/pj5vS+1O0D8xsIKFtsvPP1dTgrJICsw/obe2NslRyT+sRDVccsrGP4F9mqpxy8Q/9mv1WLBYxj8SjfGGLejKP4p2VKgoDNA/0J3m0ib10j+7L6eV0R/WP9MPt7/ve9k/J4VINaYK3T+Mr+2M23bdP4yv7Yzbdt0/jK/tjNt23T+Mr+2M23bdP4yv7Yzbdt0/jK/tjNt23T+Mr+2M23bdP4yv7Yzbdt0/jK/tjNt23T+Mr+2M23bdP4yv7Yzbdt0/jK/tjNt23T+Mr+2M23bdP4yv7Yzbdt0/jK/tjNt23T+Mr+2M23bdP4yv7Yzbdt0/jK/tjNt23T+Mr+2M23bdP4yv7Yzbdt0/jK/tjNt23T+Mr+2M23bdP4yv7Yzbdt0/jK/tjNt23T+Mr+2M23bdP4yv7Yzbdt0/jK/tjNt23T+Mr+2M23bdP4yv7Yzbdt0/jK/tjNt23T+Mr+2M23bdP4yv7Yzbdt0/jK/tjNt23T+Mr+2M23bdP4yv7Yzbdt0/jK/tjNt23T+Mr+2M23bdP4yv7Yzbdt0/jK/tjNt23T+Mr+2M23bdP4yv7Yzbdt0/jK/tjNt23T+Mr+2M23bdP4yv7Yzbdt0/jK/tjNt23T+Mr+2M23bdP4yv7Yzbdt0/jK/tjNt23T+Mr+2M23bdP4yv7Yzbdt0/jK/tjNt23T+Mr+2M23bdP4yv7Yzbdt0/jK/tjNt23T8=",
          "dtype": "f8"
         }
        }
       ],
       "layout": {
        "template": {
         "data": {
          "bar": [
           {
            "error_x": {
             "color": "#2a3f5f"
            },
            "error_y": {
             "color": "#2a3f5f"
            },
            "marker": {
             "line": {
              "color": "#E5ECF6",
              "width": 0.5
             },
             "pattern": {
              "fillmode": "overlay",
              "size": 10,
              "solidity": 0.2
             }
            },
            "type": "bar"
           }
          ],
          "barpolar": [
           {
            "marker": {
             "line": {
              "color": "#E5ECF6",
              "width": 0.5
             },
             "pattern": {
              "fillmode": "overlay",
              "size": 10,
              "solidity": 0.2
             }
            },
            "type": "barpolar"
           }
          ],
          "carpet": [
           {
            "aaxis": {
             "endlinecolor": "#2a3f5f",
             "gridcolor": "white",
             "linecolor": "white",
             "minorgridcolor": "white",
             "startlinecolor": "#2a3f5f"
            },
            "baxis": {
             "endlinecolor": "#2a3f5f",
             "gridcolor": "white",
             "linecolor": "white",
             "minorgridcolor": "white",
             "startlinecolor": "#2a3f5f"
            },
            "type": "carpet"
           }
          ],
          "choropleth": [
           {
            "colorbar": {
             "outlinewidth": 0,
             "ticks": ""
            },
            "type": "choropleth"
           }
          ],
          "contour": [
           {
            "colorbar": {
             "outlinewidth": 0,
             "ticks": ""
            },
            "colorscale": [
             [
              0,
              "#0d0887"
             ],
             [
              0.1111111111111111,
              "#46039f"
             ],
             [
              0.2222222222222222,
              "#7201a8"
             ],
             [
              0.3333333333333333,
              "#9c179e"
             ],
             [
              0.4444444444444444,
              "#bd3786"
             ],
             [
              0.5555555555555556,
              "#d8576b"
             ],
             [
              0.6666666666666666,
              "#ed7953"
             ],
             [
              0.7777777777777778,
              "#fb9f3a"
             ],
             [
              0.8888888888888888,
              "#fdca26"
             ],
             [
              1,
              "#f0f921"
             ]
            ],
            "type": "contour"
           }
          ],
          "contourcarpet": [
           {
            "colorbar": {
             "outlinewidth": 0,
             "ticks": ""
            },
            "type": "contourcarpet"
           }
          ],
          "heatmap": [
           {
            "colorbar": {
             "outlinewidth": 0,
             "ticks": ""
            },
            "colorscale": [
             [
              0,
              "#0d0887"
             ],
             [
              0.1111111111111111,
              "#46039f"
             ],
             [
              0.2222222222222222,
              "#7201a8"
             ],
             [
              0.3333333333333333,
              "#9c179e"
             ],
             [
              0.4444444444444444,
              "#bd3786"
             ],
             [
              0.5555555555555556,
              "#d8576b"
             ],
             [
              0.6666666666666666,
              "#ed7953"
             ],
             [
              0.7777777777777778,
              "#fb9f3a"
             ],
             [
              0.8888888888888888,
              "#fdca26"
             ],
             [
              1,
              "#f0f921"
             ]
            ],
            "type": "heatmap"
           }
          ],
          "histogram": [
           {
            "marker": {
             "pattern": {
              "fillmode": "overlay",
              "size": 10,
              "solidity": 0.2
             }
            },
            "type": "histogram"
           }
          ],
          "histogram2d": [
           {
            "colorbar": {
             "outlinewidth": 0,
             "ticks": ""
            },
            "colorscale": [
             [
              0,
              "#0d0887"
             ],
             [
              0.1111111111111111,
              "#46039f"
             ],
             [
              0.2222222222222222,
              "#7201a8"
             ],
             [
              0.3333333333333333,
              "#9c179e"
             ],
             [
              0.4444444444444444,
              "#bd3786"
             ],
             [
              0.5555555555555556,
              "#d8576b"
             ],
             [
              0.6666666666666666,
              "#ed7953"
             ],
             [
              0.7777777777777778,
              "#fb9f3a"
             ],
             [
              0.8888888888888888,
              "#fdca26"
             ],
             [
              1,
              "#f0f921"
             ]
            ],
            "type": "histogram2d"
           }
          ],
          "histogram2dcontour": [
           {
            "colorbar": {
             "outlinewidth": 0,
             "ticks": ""
            },
            "colorscale": [
             [
              0,
              "#0d0887"
             ],
             [
              0.1111111111111111,
              "#46039f"
             ],
             [
              0.2222222222222222,
              "#7201a8"
             ],
             [
              0.3333333333333333,
              "#9c179e"
             ],
             [
              0.4444444444444444,
              "#bd3786"
             ],
             [
              0.5555555555555556,
              "#d8576b"
             ],
             [
              0.6666666666666666,
              "#ed7953"
             ],
             [
              0.7777777777777778,
              "#fb9f3a"
             ],
             [
              0.8888888888888888,
              "#fdca26"
             ],
             [
              1,
              "#f0f921"
             ]
            ],
            "type": "histogram2dcontour"
           }
          ],
          "mesh3d": [
           {
            "colorbar": {
             "outlinewidth": 0,
             "ticks": ""
            },
            "type": "mesh3d"
           }
          ],
          "parcoords": [
           {
            "line": {
             "colorbar": {
              "outlinewidth": 0,
              "ticks": ""
             }
            },
            "type": "parcoords"
           }
          ],
          "pie": [
           {
            "automargin": true,
            "type": "pie"
           }
          ],
          "scatter": [
           {
            "fillpattern": {
             "fillmode": "overlay",
             "size": 10,
             "solidity": 0.2
            },
            "type": "scatter"
           }
          ],
          "scatter3d": [
           {
            "line": {
             "colorbar": {
              "outlinewidth": 0,
              "ticks": ""
             }
            },
            "marker": {
             "colorbar": {
              "outlinewidth": 0,
              "ticks": ""
             }
            },
            "type": "scatter3d"
           }
          ],
          "scattercarpet": [
           {
            "marker": {
             "colorbar": {
              "outlinewidth": 0,
              "ticks": ""
             }
            },
            "type": "scattercarpet"
           }
          ],
          "scattergeo": [
           {
            "marker": {
             "colorbar": {
              "outlinewidth": 0,
              "ticks": ""
             }
            },
            "type": "scattergeo"
           }
          ],
          "scattergl": [
           {
            "marker": {
             "colorbar": {
              "outlinewidth": 0,
              "ticks": ""
             }
            },
            "type": "scattergl"
           }
          ],
          "scattermap": [
           {
            "marker": {
             "colorbar": {
              "outlinewidth": 0,
              "ticks": ""
             }
            },
            "type": "scattermap"
           }
          ],
          "scattermapbox": [
           {
            "marker": {
             "colorbar": {
              "outlinewidth": 0,
              "ticks": ""
             }
            },
            "type": "scattermapbox"
           }
          ],
          "scatterpolar": [
           {
            "marker": {
             "colorbar": {
              "outlinewidth": 0,
              "ticks": ""
             }
            },
            "type": "scatterpolar"
           }
          ],
          "scatterpolargl": [
           {
            "marker": {
             "colorbar": {
              "outlinewidth": 0,
              "ticks": ""
             }
            },
            "type": "scatterpolargl"
           }
          ],
          "scatterternary": [
           {
            "marker": {
             "colorbar": {
              "outlinewidth": 0,
              "ticks": ""
             }
            },
            "type": "scatterternary"
           }
          ],
          "surface": [
           {
            "colorbar": {
             "outlinewidth": 0,
             "ticks": ""
            },
            "colorscale": [
             [
              0,
              "#0d0887"
             ],
             [
              0.1111111111111111,
              "#46039f"
             ],
             [
              0.2222222222222222,
              "#7201a8"
             ],
             [
              0.3333333333333333,
              "#9c179e"
             ],
             [
              0.4444444444444444,
              "#bd3786"
             ],
             [
              0.5555555555555556,
              "#d8576b"
             ],
             [
              0.6666666666666666,
              "#ed7953"
             ],
             [
              0.7777777777777778,
              "#fb9f3a"
             ],
             [
              0.8888888888888888,
              "#fdca26"
             ],
             [
              1,
              "#f0f921"
             ]
            ],
            "type": "surface"
           }
          ],
          "table": [
           {
            "cells": {
             "fill": {
              "color": "#EBF0F8"
             },
             "line": {
              "color": "white"
             }
            },
            "header": {
             "fill": {
              "color": "#C8D4E3"
             },
             "line": {
              "color": "white"
             }
            },
            "type": "table"
           }
          ]
         },
         "layout": {
          "annotationdefaults": {
           "arrowcolor": "#2a3f5f",
           "arrowhead": 0,
           "arrowwidth": 1
          },
          "autotypenumbers": "strict",
          "coloraxis": {
           "colorbar": {
            "outlinewidth": 0,
            "ticks": ""
           }
          },
          "colorscale": {
           "diverging": [
            [
             0,
             "#8e0152"
            ],
            [
             0.1,
             "#c51b7d"
            ],
            [
             0.2,
             "#de77ae"
            ],
            [
             0.3,
             "#f1b6da"
            ],
            [
             0.4,
             "#fde0ef"
            ],
            [
             0.5,
             "#f7f7f7"
            ],
            [
             0.6,
             "#e6f5d0"
            ],
            [
             0.7,
             "#b8e186"
            ],
            [
             0.8,
             "#7fbc41"
            ],
            [
             0.9,
             "#4d9221"
            ],
            [
             1,
             "#276419"
            ]
           ],
           "sequential": [
            [
             0,
             "#0d0887"
            ],
            [
             0.1111111111111111,
             "#46039f"
            ],
            [
             0.2222222222222222,
             "#7201a8"
            ],
            [
             0.3333333333333333,
             "#9c179e"
            ],
            [
             0.4444444444444444,
             "#bd3786"
            ],
            [
             0.5555555555555556,
             "#d8576b"
            ],
            [
             0.6666666666666666,
             "#ed7953"
            ],
            [
             0.7777777777777778,
             "#fb9f3a"
            ],
            [
             0.8888888888888888,
             "#fdca26"
            ],
            [
             1,
             "#f0f921"
            ]
           ],
           "sequentialminus": [
            [
             0,
             "#0d0887"
            ],
            [
             0.1111111111111111,
             "#46039f"
            ],
            [
             0.2222222222222222,
             "#7201a8"
            ],
            [
             0.3333333333333333,
             "#9c179e"
            ],
            [
             0.4444444444444444,
             "#bd3786"
            ],
            [
             0.5555555555555556,
             "#d8576b"
            ],
            [
             0.6666666666666666,
             "#ed7953"
            ],
            [
             0.7777777777777778,
             "#fb9f3a"
            ],
            [
             0.8888888888888888,
             "#fdca26"
            ],
            [
             1,
             "#f0f921"
            ]
           ]
          },
          "colorway": [
           "#636efa",
           "#EF553B",
           "#00cc96",
           "#ab63fa",
           "#FFA15A",
           "#19d3f3",
           "#FF6692",
           "#B6E880",
           "#FF97FF",
           "#FECB52"
          ],
          "font": {
           "color": "#2a3f5f"
          },
          "geo": {
           "bgcolor": "white",
           "lakecolor": "white",
           "landcolor": "#E5ECF6",
           "showlakes": true,
           "showland": true,
           "subunitcolor": "white"
          },
          "hoverlabel": {
           "align": "left"
          },
          "hovermode": "closest",
          "mapbox": {
           "style": "light"
          },
          "paper_bgcolor": "white",
          "plot_bgcolor": "#E5ECF6",
          "polar": {
           "angularaxis": {
            "gridcolor": "white",
            "linecolor": "white",
            "ticks": ""
           },
           "bgcolor": "#E5ECF6",
           "radialaxis": {
            "gridcolor": "white",
            "linecolor": "white",
            "ticks": ""
           }
          },
          "scene": {
           "xaxis": {
            "backgroundcolor": "#E5ECF6",
            "gridcolor": "white",
            "gridwidth": 2,
            "linecolor": "white",
            "showbackground": true,
            "ticks": "",
            "zerolinecolor": "white"
           },
           "yaxis": {
            "backgroundcolor": "#E5ECF6",
            "gridcolor": "white",
            "gridwidth": 2,
            "linecolor": "white",
            "showbackground": true,
            "ticks": "",
            "zerolinecolor": "white"
           },
           "zaxis": {
            "backgroundcolor": "#E5ECF6",
            "gridcolor": "white",
            "gridwidth": 2,
            "linecolor": "white",
            "showbackground": true,
            "ticks": "",
            "zerolinecolor": "white"
           }
          },
          "shapedefaults": {
           "line": {
            "color": "#2a3f5f"
           }
          },
          "ternary": {
           "aaxis": {
            "gridcolor": "white",
            "linecolor": "white",
            "ticks": ""
           },
           "baxis": {
            "gridcolor": "white",
            "linecolor": "white",
            "ticks": ""
           },
           "bgcolor": "#E5ECF6",
           "caxis": {
            "gridcolor": "white",
            "linecolor": "white",
            "ticks": ""
           }
          },
          "title": {
           "x": 0.05
          },
          "xaxis": {
           "automargin": true,
           "gridcolor": "white",
           "linecolor": "white",
           "ticks": "",
           "title": {
            "standoff": 15
           },
           "zerolinecolor": "white",
           "zerolinewidth": 2
          },
          "yaxis": {
           "automargin": true,
           "gridcolor": "white",
           "linecolor": "white",
           "ticks": "",
           "title": {
            "standoff": 15
           },
           "zerolinecolor": "white",
           "zerolinewidth": 2
          }
         }
        },
        "xaxis": {
         "title": {
          "text": "X1"
         }
        },
        "yaxis": {
         "title": {
          "text": "Y (Outcome)"
         }
        }
       }
      }
     },
     "metadata": {},
     "output_type": "display_data"
    },
    {
     "name": "stdout",
     "output_type": "stream",
     "text": [
      "LOWESS reveals different local trends above and below X1 = 0.029\n"
     ]
    }
   ],
   "source": [
    "# Select a key predictor for threshold analysis\n",
    "key_predictor = selected_predictors[\"Model 1\"][0]\n",
    "threshold_value = X_vars_train[key_predictor].median()\n",
    "\n",
    "# Create above and below indices\n",
    "above_indices = X_vars_train[key_predictor] >= threshold_value\n",
    "below_indices = X_vars_train[key_predictor] < threshold_value\n",
    "\n",
    "# Fit LOWESS models for above and below data\n",
    "fit_above = sm.nonparametric.lowess(y0_train[above_indices], X_vars_train.loc[above_indices, key_predictor])\n",
    "fit_below = sm.nonparametric.lowess(y0_train[below_indices], X_vars_train.loc[below_indices, key_predictor])\n",
    "\n",
    "# Generate range of values for prediction\n",
    "x_min, x_max = X_vars_train[key_predictor].min(), X_vars_train[key_predictor].max()\n",
    "rr = np.linspace(x_min, x_max, num=100)\n",
    "\n",
    "# Predictions for above and below data\n",
    "pred_above = np.interp(rr, fit_above[:, 0], fit_above[:, 1])\n",
    "pred_below = np.interp(rr, fit_below[:, 0], fit_below[:, 1])\n",
    "\n",
    "# Plot\n",
    "fig = go.Figure()\n",
    "\n",
    "fig.add_trace(go.Scatter(x=rr, y=pred_above, mode='lines', \n",
    "                        line=dict(color='blue', width=2), name='Above Threshold'))\n",
    "fig.add_trace(go.Scatter(x=rr, y=pred_below, mode='lines', \n",
    "                        line=dict(color='red', width=2), name='Below Threshold'))\n",
    "\n",
    "fig.update_layout(\n",
    "    xaxis_title=key_predictor,\n",
    "    yaxis_title=\"Y (Outcome)\",\n",
    ")\n",
    "\n",
    "fig.show()\n",
    "\n",
    "print(f\"LOWESS reveals different local trends above and below {key_predictor} = {threshold_value:.3f}\")"
   ]
  },
  {
   "cell_type": "markdown",
   "metadata": {},
   "source": [
    "The LOWESS methodology reveals different local trends above and below our threshold. This confirms that our approach to using higher order polynomials is prudent."
   ]
  },
  {
   "cell_type": "markdown",
   "metadata": {},
   "source": [
    "# 4. Model Averaging and Evaluation\n",
    "\n",
    "In this section, we attempt to select which combination of multiple linear regression models performs best on the training data. The average of the model combinations that perform the best will be selected for our model prediction.\n",
    "\n",
    "However, we have decided to make two changes to how we evaluate our models and average the predictions.\n",
    "\n",
    "* (1) We confirm cubic and quartic polynomials are being used in our model evaluation here.\n",
    "* (2) We construct models using a weighted rather than simple average. The predictions from each model are combined using weights inversely proportional to their individual cross-validated MSE, so better-performing models receive more influence in the ensemble.\n",
    "\n",
    "As compared to our approach from Assignment 3, this has only slightly improved the performance of our models."
   ]
  },
  {
   "cell_type": "code",
   "execution_count": null,
   "metadata": {},
   "outputs": [
    {
     "name": "stdout",
     "output_type": "stream",
     "text": [
      "Model 1\n",
      "  total features: 89\n",
      "  cubic terms:    ['X1^3', 'X10^3', 'X16^3', 'X48^3']\n",
      "  quartic terms:  ['X6^4', 'X14^4', 'X28^4', 'X41^4', 'X49^4']\n",
      "\n",
      "Model 2\n",
      "  total features: 138\n",
      "  cubic terms:    ['X1^3', 'X10^3', 'X16^3', 'X31^3', 'X48^3']\n",
      "  quartic terms:  ['X2^4', 'X6^4', 'X14^4', 'X28^4', 'X40^4', 'X41^4', 'X49^4']\n",
      "\n",
      "Model 3\n",
      "  total features: 193\n",
      "  cubic terms:    ['X1^3', 'X10^3', 'X16^3', 'X20^3', 'X31^3', 'X38^3', 'X46^3', 'X48^3']\n",
      "  quartic terms:  ['X2^4', 'X6^4', 'X14^4', 'X28^4', 'X40^4', 'X41^4', 'X49^4']\n",
      "\n",
      "Model 4\n",
      "  total features: 245\n",
      "  cubic terms:    ['X1^3', 'X10^3', 'X16^3', 'X17^3', 'X20^3', 'X31^3', 'X34^3', 'X35^3', 'X38^3', 'X46^3', 'X48^3']\n",
      "  quartic terms:  ['X2^4', 'X6^4', 'X14^4', 'X28^4', 'X40^4', 'X41^4', 'X49^4']\n",
      "\n",
      "Model 5\n",
      "  total features: 324\n",
      "  cubic terms:    ['X1^3', 'X2^3', 'X10^3', 'X16^3', 'X17^3', 'X20^3', 'X31^3', 'X34^3', 'X35^3', 'X38^3', 'X40^3', 'X46^3', 'X47^3', 'X48^3']\n",
      "  quartic terms:  ['X2^4', 'X6^4', 'X11^4', 'X14^4', 'X15^4', 'X26^4', 'X28^4', 'X29^4', 'X35^4', 'X40^4', 'X41^4', 'X49^4']\n",
      "\n",
      "Individual model CV MSEs (used for weights):\n",
      "Model 1: 4.101052\n",
      "Model 2: 4.010991\n",
      "Model 3: 3.932540\n",
      "Model 4: 3.897664\n",
      "Model 5: 4.066188\n"
     ]
    },
    {
     "data": {
      "text/html": [
       "<div>\n",
       "<style scoped>\n",
       "    .dataframe tbody tr th:only-of-type {\n",
       "        vertical-align: middle;\n",
       "    }\n",
       "\n",
       "    .dataframe tbody tr th {\n",
       "        vertical-align: top;\n",
       "    }\n",
       "\n",
       "    .dataframe thead th {\n",
       "        text-align: right;\n",
       "    }\n",
       "</style>\n",
       "<table border=\"1\" class=\"dataframe\">\n",
       "  <thead>\n",
       "    <tr style=\"text-align: right;\">\n",
       "      <th></th>\n",
       "      <th>Models</th>\n",
       "      <th>CV_MSE</th>\n",
       "    </tr>\n",
       "  </thead>\n",
       "  <tbody>\n",
       "    <tr>\n",
       "      <th>0</th>\n",
       "      <td>(Model 1, Model 4, Model 5)</td>\n",
       "      <td>3.715469</td>\n",
       "    </tr>\n",
       "    <tr>\n",
       "      <th>1</th>\n",
       "      <td>(Model 1, Model 2, Model 4, Model 5)</td>\n",
       "      <td>3.719652</td>\n",
       "    </tr>\n",
       "    <tr>\n",
       "      <th>2</th>\n",
       "      <td>(Model 1, Model 3, Model 4, Model 5)</td>\n",
       "      <td>3.720182</td>\n",
       "    </tr>\n",
       "    <tr>\n",
       "      <th>3</th>\n",
       "      <td>(Model 1, Model 3, Model 5)</td>\n",
       "      <td>3.724232</td>\n",
       "    </tr>\n",
       "    <tr>\n",
       "      <th>4</th>\n",
       "      <td>(Model 1, Model 2, Model 3, Model 4, Model 5)</td>\n",
       "      <td>3.729227</td>\n",
       "    </tr>\n",
       "    <tr>\n",
       "      <th>5</th>\n",
       "      <td>(Model 2, Model 4, Model 5)</td>\n",
       "      <td>3.741428</td>\n",
       "    </tr>\n",
       "    <tr>\n",
       "      <th>6</th>\n",
       "      <td>(Model 1, Model 2, Model 3, Model 5)</td>\n",
       "      <td>3.744841</td>\n",
       "    </tr>\n",
       "    <tr>\n",
       "      <th>7</th>\n",
       "      <td>(Model 1, Model 5)</td>\n",
       "      <td>3.746220</td>\n",
       "    </tr>\n",
       "    <tr>\n",
       "      <th>8</th>\n",
       "      <td>(Model 2, Model 3, Model 4, Model 5)</td>\n",
       "      <td>3.747065</td>\n",
       "    </tr>\n",
       "    <tr>\n",
       "      <th>9</th>\n",
       "      <td>(Model 1, Model 2, Model 5)</td>\n",
       "      <td>3.750030</td>\n",
       "    </tr>\n",
       "    <tr>\n",
       "      <th>10</th>\n",
       "      <td>(Model 2, Model 3, Model 5)</td>\n",
       "      <td>3.751543</td>\n",
       "    </tr>\n",
       "    <tr>\n",
       "      <th>11</th>\n",
       "      <td>(Model 2, Model 5)</td>\n",
       "      <td>3.757060</td>\n",
       "    </tr>\n",
       "    <tr>\n",
       "      <th>12</th>\n",
       "      <td>(Model 1, Model 4)</td>\n",
       "      <td>3.778228</td>\n",
       "    </tr>\n",
       "    <tr>\n",
       "      <th>13</th>\n",
       "      <td>(Model 1, Model 3, Model 4)</td>\n",
       "      <td>3.780493</td>\n",
       "    </tr>\n",
       "    <tr>\n",
       "      <th>14</th>\n",
       "      <td>(Model 3, Model 4, Model 5)</td>\n",
       "      <td>3.781328</td>\n",
       "    </tr>\n",
       "    <tr>\n",
       "      <th>15</th>\n",
       "      <td>(Model 3, Model 5)</td>\n",
       "      <td>3.789993</td>\n",
       "    </tr>\n",
       "    <tr>\n",
       "      <th>16</th>\n",
       "      <td>(Model 1, Model 2, Model 3, Model 4)</td>\n",
       "      <td>3.797998</td>\n",
       "    </tr>\n",
       "    <tr>\n",
       "      <th>17</th>\n",
       "      <td>(Model 1, Model 2, Model 4)</td>\n",
       "      <td>3.803075</td>\n",
       "    </tr>\n",
       "    <tr>\n",
       "      <th>18</th>\n",
       "      <td>(Model 2, Model 4)</td>\n",
       "      <td>3.805367</td>\n",
       "    </tr>\n",
       "    <tr>\n",
       "      <th>19</th>\n",
       "      <td>(Model 2, Model 3, Model 4)</td>\n",
       "      <td>3.813965</td>\n",
       "    </tr>\n",
       "    <tr>\n",
       "      <th>20</th>\n",
       "      <td>(Model 3, Model 4)</td>\n",
       "      <td>3.842968</td>\n",
       "    </tr>\n",
       "    <tr>\n",
       "      <th>21</th>\n",
       "      <td>(Model 4, Model 5)</td>\n",
       "      <td>3.846319</td>\n",
       "    </tr>\n",
       "    <tr>\n",
       "      <th>22</th>\n",
       "      <td>(Model 1, Model 3)</td>\n",
       "      <td>3.864591</td>\n",
       "    </tr>\n",
       "    <tr>\n",
       "      <th>23</th>\n",
       "      <td>(Model 1, Model 2, Model 3)</td>\n",
       "      <td>3.877487</td>\n",
       "    </tr>\n",
       "    <tr>\n",
       "      <th>24</th>\n",
       "      <td>(Model 2, Model 3)</td>\n",
       "      <td>3.893042</td>\n",
       "    </tr>\n",
       "    <tr>\n",
       "      <th>25</th>\n",
       "      <td>(Model 4,)</td>\n",
       "      <td>3.897664</td>\n",
       "    </tr>\n",
       "    <tr>\n",
       "      <th>26</th>\n",
       "      <td>(Model 3,)</td>\n",
       "      <td>3.932540</td>\n",
       "    </tr>\n",
       "    <tr>\n",
       "      <th>27</th>\n",
       "      <td>(Model 1, Model 2)</td>\n",
       "      <td>3.977838</td>\n",
       "    </tr>\n",
       "    <tr>\n",
       "      <th>28</th>\n",
       "      <td>(Model 2,)</td>\n",
       "      <td>4.010991</td>\n",
       "    </tr>\n",
       "    <tr>\n",
       "      <th>29</th>\n",
       "      <td>(Model 5,)</td>\n",
       "      <td>4.066188</td>\n",
       "    </tr>\n",
       "    <tr>\n",
       "      <th>30</th>\n",
       "      <td>(Model 1,)</td>\n",
       "      <td>4.101052</td>\n",
       "    </tr>\n",
       "  </tbody>\n",
       "</table>\n",
       "</div>"
      ],
      "text/plain": [
       "                                           Models    CV_MSE\n",
       "0                     (Model 1, Model 4, Model 5)  3.715469\n",
       "1            (Model 1, Model 2, Model 4, Model 5)  3.719652\n",
       "2            (Model 1, Model 3, Model 4, Model 5)  3.720182\n",
       "3                     (Model 1, Model 3, Model 5)  3.724232\n",
       "4   (Model 1, Model 2, Model 3, Model 4, Model 5)  3.729227\n",
       "5                     (Model 2, Model 4, Model 5)  3.741428\n",
       "6            (Model 1, Model 2, Model 3, Model 5)  3.744841\n",
       "7                              (Model 1, Model 5)  3.746220\n",
       "8            (Model 2, Model 3, Model 4, Model 5)  3.747065\n",
       "9                     (Model 1, Model 2, Model 5)  3.750030\n",
       "10                    (Model 2, Model 3, Model 5)  3.751543\n",
       "11                             (Model 2, Model 5)  3.757060\n",
       "12                             (Model 1, Model 4)  3.778228\n",
       "13                    (Model 1, Model 3, Model 4)  3.780493\n",
       "14                    (Model 3, Model 4, Model 5)  3.781328\n",
       "15                             (Model 3, Model 5)  3.789993\n",
       "16           (Model 1, Model 2, Model 3, Model 4)  3.797998\n",
       "17                    (Model 1, Model 2, Model 4)  3.803075\n",
       "18                             (Model 2, Model 4)  3.805367\n",
       "19                    (Model 2, Model 3, Model 4)  3.813965\n",
       "20                             (Model 3, Model 4)  3.842968\n",
       "21                             (Model 4, Model 5)  3.846319\n",
       "22                             (Model 1, Model 3)  3.864591\n",
       "23                    (Model 1, Model 2, Model 3)  3.877487\n",
       "24                             (Model 2, Model 3)  3.893042\n",
       "25                                     (Model 4,)  3.897664\n",
       "26                                     (Model 3,)  3.932540\n",
       "27                             (Model 1, Model 2)  3.977838\n",
       "28                                     (Model 2,)  4.010991\n",
       "29                                     (Model 5,)  4.066188\n",
       "30                                     (Model 1,)  4.101052"
      ]
     },
     "execution_count": 13,
     "metadata": {},
     "output_type": "execute_result"
    }
   ],
   "source": [
    "# Check if cubic or quartic features were selected in each model\n",
    "for model_name, features in selected_predictors.items():\n",
    "    cubics   = [f for f in features if \"^3\" in f]\n",
    "    quartics = [f for f in features if \"^4\" in f]\n",
    "    print(model_name)\n",
    "    print(\"  total features:\", len(features))\n",
    "    print(\"  cubic terms:   \", cubics)\n",
    "    print(\"  quartic terms: \", quartics)\n",
    "    print()\n",
    "\n",
    "\n",
    "# Create 5 fold CV to evaluate the performance of each model combination\n",
    "k_fold = KFold(n_splits=5, shuffle=True, random_state=42)\n",
    "model_names = list(selected_predictors.keys())\n",
    "\n",
    "# Pass 1: Get individual model CV MSEs to use later for weighting\n",
    "indiv_mse = {} # Dictionary to store the CV MSE for each single model\n",
    "for name in model_names: # Loop through each model individually\n",
    "    fold_mse = [] # Store the MSE for each fold\n",
    "    for train_idx, val_idx in k_fold.split(X_vars_train):\n",
    "        y_train, y_val = y0_train[train_idx], y0_train[val_idx] # Split into training and validation subsets\n",
    "        X_train = X_vars_train.iloc[train_idx][selected_predictors[name]] # Predictors for training subset\n",
    "        X_val   = X_vars_train.iloc[val_idx][selected_predictors[name]] # Predictors for validation subset\n",
    "        m = LinearRegression().fit(X_train, y_train) # Fit linear regression on the training subset\n",
    "        y_hat = m.predict(X_val) # Predict the validation subset\n",
    "        fold_mse.append(mean_squared_error(y_val, y_hat)) # Compute the MSE for this fold and store it\n",
    "    indiv_mse[name] = float(np.mean(fold_mse)) # Average fold MSEs for this model\n",
    "\n",
    "# Pass 2: Evaluate all combinations using inverse-MSE weights\n",
    "cv_mse = {} # Dictionary to store the CV MSE for each model combination\n",
    "\n",
    "for i in range(1, len(model_names) + 1):\n",
    "    for x in combinations(model_names, i): # Generate all combinations of model names of size i\n",
    "        fold_mse = [] # Store the MSE for each fold\n",
    "        for train_idx, val_idx in k_fold.split(X_vars_train):\n",
    "            y_train, y_val = y0_train[train_idx], y0_train[val_idx] # Split into training and validation subsets\n",
    "            preds = [] # Store predictions from each model in this combination\n",
    "            for name in x: # Loop through each model in the combination\n",
    "                X_train = X_vars_train.iloc[train_idx][selected_predictors[name]] # Predictors for training subset\n",
    "                X_val   = X_vars_train.iloc[val_idx][selected_predictors[name]] # Predictors for validation subset\n",
    "                m = LinearRegression().fit(X_train, y_train) # Fit linear regression on the training subset\n",
    "                preds.append(m.predict(X_val)) # Predict the validation subset and store predictions\n",
    "            stacked = np.column_stack(preds) # Stack predictions side by side\n",
    "            if len(x) == 1:\n",
    "                avg_pred = stacked[:, 0] # If only one model, just use its predictions\n",
    "            else:\n",
    "                eps = 1e-12 # Small constant to avoid division by zero\n",
    "                raw_weights = np.array([1.0 / (indiv_mse[name] + eps) for name in x], dtype=float) # Inverse MSE\n",
    "                weights = raw_weights / raw_weights.sum() # Normalise weights to sum to 1\n",
    "                avg_pred = np.average(stacked, axis=1, weights=weights) # Weighted average prediction\n",
    "            fold_mse.append(mean_squared_error(y_val, avg_pred)) # Compute MSE for this fold and store it\n",
    "        cv_mse[x] = float(np.mean(fold_mse)) # Average fold MSEs for this model combination\n",
    "\n",
    "# Sort results and store in dataframe\n",
    "sorted_cv_mse = sorted(cv_mse.items(), key=lambda t: t[1]) # Sort by smallest CV error\n",
    "cv_mse_df = pd.DataFrame(sorted_cv_mse, columns=[\"Models\", \"CV_MSE\"]) # Store results in dataframe\n",
    "\n",
    "# Print results\n",
    "print(\"Individual model CV MSEs (used for weights):\")\n",
    "for k, v in indiv_mse.items():\n",
    "    print(f\"{k}: {v:.6f}\")\n",
    "\n",
    "cv_mse_df"
   ]
  },
  {
   "cell_type": "markdown",
   "metadata": {},
   "source": [
    "# 5. PCA Approach\n",
    "\n",
    "Above, we used LASSO to identify which variables in `X_vars_train` are useful predictors.\n",
    "\n",
    "In this section, we apply PCA to the full `X_vars_train` matrix in order to reduce the dimensionality. The resulting components can then be used as inputs to fit linear models and generate predictions."
   ]
  },
  {
   "cell_type": "code",
   "execution_count": 18,
   "metadata": {},
   "outputs": [
    {
     "data": {
      "image/png": "[encoded data removed]",
      "text/plain": [
       "<Figure size 800x400 with 1 Axes>"
      ]
     },
     "metadata": {},
     "output_type": "display_data"
    }
   ],
   "source": [
    "# Fit PCA on the scaled training data\n",
    "pca = PCA()\n",
    "X_pca_full = pca.fit_transform(X1_train)\n",
    "\n",
    "# Plot cumulative variance explained to decide number of components\n",
    "plt.figure(figsize=(8,4))\n",
    "plt.plot(np.cumsum(pca.explained_variance_ratio_), marker='o')\n",
    "plt.xlabel(\"Number of Components\")\n",
    "plt.ylabel(\"Cumulative Explained Variance\")\n",
    "plt.title(\"Explained Variance by PCA Components\")\n",
    "plt.grid(True)\n",
    "plt.show()"
   ]
  },
  {
   "cell_type": "markdown",
   "metadata": {},
   "source": [
    "At around 900 components, PCA explains around 90% of the variances. Therefore, we choose $k$ = 900. The elbow method does not add much here, as we would effectively have to use all 1450 components to get to the point where the variance gain flattens most sharply. We consider this 90% threshold to be a reasonable trade-off between performance and persimony."
   ]
  },
  {
   "cell_type": "code",
   "execution_count": 19,
   "metadata": {},
   "outputs": [
    {
     "data": {
      "text/html": [
       "<div>\n",
       "<style scoped>\n",
       "    .dataframe tbody tr th:only-of-type {\n",
       "        vertical-align: middle;\n",
       "    }\n",
       "\n",
       "    .dataframe tbody tr th {\n",
       "        vertical-align: top;\n",
       "    }\n",
       "\n",
       "    .dataframe thead th {\n",
       "        text-align: right;\n",
       "    }\n",
       "</style>\n",
       "<table border=\"1\" class=\"dataframe\">\n",
       "  <thead>\n",
       "    <tr style=\"text-align: right;\">\n",
       "      <th></th>\n",
       "      <th>model</th>\n",
       "      <th>cv_mse</th>\n",
       "    </tr>\n",
       "  </thead>\n",
       "  <tbody>\n",
       "    <tr>\n",
       "      <th>1</th>\n",
       "      <td>Ridge (PCA k=900, alpha=1000.0)</td>\n",
       "      <td>8.215927</td>\n",
       "    </tr>\n",
       "    <tr>\n",
       "      <th>2</th>\n",
       "      <td>Lasso (PCA k=900, alpha=0.05)</td>\n",
       "      <td>8.653468</td>\n",
       "    </tr>\n",
       "    <tr>\n",
       "      <th>3</th>\n",
       "      <td>Lasso (PCA k=900, alpha=0.01)</td>\n",
       "      <td>9.828551</td>\n",
       "    </tr>\n",
       "    <tr>\n",
       "      <th>4</th>\n",
       "      <td>Lasso (PCA k=900, alpha=0.005)</td>\n",
       "      <td>10.524674</td>\n",
       "    </tr>\n",
       "    <tr>\n",
       "      <th>5</th>\n",
       "      <td>Lasso (PCA k=900, alpha=0.001)</td>\n",
       "      <td>11.295522</td>\n",
       "    </tr>\n",
       "    <tr>\n",
       "      <th>6</th>\n",
       "      <td>Lasso (PCA k=900, alpha=0.0005)</td>\n",
       "      <td>11.409727</td>\n",
       "    </tr>\n",
       "    <tr>\n",
       "      <th>7</th>\n",
       "      <td>Lasso (PCA k=900, alpha=0.0001)</td>\n",
       "      <td>11.504808</td>\n",
       "    </tr>\n",
       "    <tr>\n",
       "      <th>8</th>\n",
       "      <td>Lasso (PCA k=900, alpha=5e-05)</td>\n",
       "      <td>11.516950</td>\n",
       "    </tr>\n",
       "    <tr>\n",
       "      <th>9</th>\n",
       "      <td>Lasso (PCA k=900, alpha=1e-05)</td>\n",
       "      <td>11.526712</td>\n",
       "    </tr>\n",
       "    <tr>\n",
       "      <th>0</th>\n",
       "      <td>Linear (PCA k=900)</td>\n",
       "      <td>11.529154</td>\n",
       "    </tr>\n",
       "  </tbody>\n",
       "</table>\n",
       "</div>"
      ],
      "text/plain": [
       "                             model     cv_mse\n",
       "1  Ridge (PCA k=900, alpha=1000.0)   8.215927\n",
       "2    Lasso (PCA k=900, alpha=0.05)   8.653468\n",
       "3    Lasso (PCA k=900, alpha=0.01)   9.828551\n",
       "4   Lasso (PCA k=900, alpha=0.005)  10.524674\n",
       "5   Lasso (PCA k=900, alpha=0.001)  11.295522\n",
       "6  Lasso (PCA k=900, alpha=0.0005)  11.409727\n",
       "7  Lasso (PCA k=900, alpha=0.0001)  11.504808\n",
       "8   Lasso (PCA k=900, alpha=5e-05)  11.516950\n",
       "9   Lasso (PCA k=900, alpha=1e-05)  11.526712\n",
       "0               Linear (PCA k=900)  11.529154"
      ]
     },
     "execution_count": 19,
     "metadata": {},
     "output_type": "execute_result"
    }
   ],
   "source": [
    "# Fit PCA with k = 800 components\n",
    "k = 900\n",
    "pca = PCA(n_components=k)\n",
    "X_pca = pca.fit_transform(X1_train)  # PCA-transformed training matrix\n",
    "\n",
    "# Set up 5-fold cross validation\n",
    "k_fold = KFold(n_splits=5, shuffle=True, random_state=42)\n",
    "\n",
    "# Evaluate Linear Regression using PCA-transformed features\n",
    "lin_mse = [] # store MSE for each fold\n",
    "for train_idx, val_idx in k_fold.split(X_pca):\n",
    "    X_tr, X_va = X_pca[train_idx], X_pca[val_idx] # split predictors into train/val folds\n",
    "    y_tr, y_va = y0_train[train_idx], y0_train[val_idx] # split target into train/val folds\n",
    "    m = LinearRegression().fit(X_tr, y_tr) # fit linear regression on training fold\n",
    "    yhat = m.predict(X_va) # predict validation fold\n",
    "    lin_mse.append(mean_squared_error(y_va, yhat)) # compute fold MSE and store\n",
    "lin_cv = float(np.mean(lin_mse)) # average CV error across folds\n",
    "\n",
    "# Evaluate Ridge Regression across a grid of alpha values\n",
    "alphas = [0.001, 0.01, 0.1, 1, 10, 100, 1000]\n",
    "ridge_results = [] # store results for each alpha\n",
    "for a in alphas:\n",
    "    fold_mse = [] # store fold errors for this alpha\n",
    "    for train_idx, val_idx in k_fold.split(X_pca):\n",
    "        X_tr, X_va = X_pca[train_idx], X_pca[val_idx]\n",
    "        y_tr, y_va = y0_train[train_idx], y0_train[val_idx]\n",
    "        m = Ridge(alpha=a).fit(X_tr, y_tr) # fit ridge with this alpha\n",
    "        yhat = m.predict(X_va)\n",
    "        fold_mse.append(mean_squared_error(y_va, yhat))\n",
    "    ridge_results.append({\"alpha\": a, \"cv_mse\": float(np.mean(fold_mse))}) # store mean error\n",
    "\n",
    "ridge_df = pd.DataFrame(ridge_results).sort_values(\"cv_mse\")\n",
    "best_ridge_alpha = float(ridge_df.iloc[0][\"alpha\"]) # best alpha\n",
    "best_ridge_cv = float(ridge_df.iloc[0][\"cv_mse\"])   # corresponding CV error\n",
    "\n",
    "# Evaluate Lasso on PCA features\n",
    "lasso_alphas = [1e-5, 5e-5, 1e-4, 5e-4, 0.001, 0.005, 0.01, 0.05]\n",
    "lasso_results = []\n",
    "for a in lasso_alphas:\n",
    "    fold_mse = []\n",
    "    lasso = Lasso(alpha=a, max_iter=10000)\n",
    "    for train_idx, val_idx in k_fold.split(X_pca):\n",
    "        X_tr, X_va = X_pca[train_idx], X_pca[val_idx]\n",
    "        y_tr, y_va = y0_train[train_idx], y0_train[val_idx]\n",
    "        lasso.fit(X_tr, y_tr)\n",
    "        yhat = lasso.predict(X_va)\n",
    "        fold_mse.append(mean_squared_error(y_va, yhat))\n",
    "    lasso_results.append({\"alpha\": a, \"cv_mse\": float(np.mean(fold_mse))})\n",
    "\n",
    "lasso_df = pd.DataFrame(lasso_results).sort_values(\"cv_mse\")\n",
    "\n",
    "# Summarise PCA model performance across different approaches\n",
    "summary = pd.DataFrame([\n",
    "    {\"model\": \"Linear (PCA k=900)\", \"cv_mse\": lin_cv},\n",
    "    {\"model\": f\"Ridge (PCA k=900, alpha={best_ridge_alpha})\", \"cv_mse\": best_ridge_cv},\n",
    "])\n",
    "if not lasso_df.empty:\n",
    "    summary = pd.concat([summary, pd.DataFrame(\n",
    "        [{\"model\": f\"Lasso (PCA k=900, alpha={row.alpha})\", \"cv_mse\": row.cv_mse}\n",
    "         for row in lasso_df.itertuples()]\n",
    "    )], ignore_index=True)\n",
    "\n",
    "# Sort and display models by CV error\n",
    "summary.sort_values(\"cv_mse\")\n"
   ]
  },
  {
   "cell_type": "markdown",
   "metadata": {},
   "source": [
    "Interestingly, the PCA models are less accurate than the LASSO models we produced above. LASSO's outperformance msut indicate that many of the predictors contribute little to nothing with respect to explanatory power. Therefore, LASSO can zero out those useless predictors. \n",
    "\n",
    "More generally, PCA is an unsupervised algorithm whereas LASSO is supervised: PCA reduces dimensionality based on variance in the predictors alone, while LASSO selects features directly according to their relevance for predicting the outcome. "
   ]
  },
  {
   "cell_type": "markdown",
   "metadata": {},
   "source": [
    "# 6. Model prediction\n",
    "\n",
    "The PCA approach does not generate any substantial improvements in MSE relative to the LASSO approach, hence we retain the latter to make predictions. However, we have improved our prediction method by using a wider range of predictors (i.e., cubics and quartics) and a weighted average rather than a simple average. Similarly to Assignment 3, we use the combination of Model 1, 4 and 5 to make our predictions."
   ]
  },
  {
   "cell_type": "code",
   "execution_count": 22,
   "metadata": {},
   "outputs": [],
   "source": [
    "# Select the models of interest\n",
    "models_to_use = [\"Model 1\", \"Model 4\", \"Model 5\"]\n",
    "\n",
    "# Grab the weights for these models (already computed in indiv_mse)\n",
    "eps = 1e-12\n",
    "raw_weights = np.array([1.0 / (indiv_mse[m] + eps) for m in models_to_use])\n",
    "weights = raw_weights / raw_weights.sum()\n",
    "\n",
    "# Create a vector to store our predictions\n",
    "preds_test = []\n",
    "\n",
    "# Loop through each model, fit each model, and then make predictions using the test set\n",
    "for name in models_to_use:\n",
    "    cols = selected_predictors[name]\n",
    "    m = LinearRegression().fit(X_vars_train[cols], y0_train)\n",
    "    preds_test.append(m.predict(X_vars_test[cols]))\n",
    "\n",
    "# Weighted average of predictions\n",
    "y_pred_test = np.average(np.column_stack(preds_test), axis=1, weights=weights)\n",
    "\n",
    "# Create the csv file for submission\n",
    "submission_ass4 = pd.read_csv(\"submission_ass4_group9.csv\")\n",
    "submission_ass4 = pd.DataFrame({'ID': test_df['ID'], 'Y': y_pred_test})\n",
    "submission_ass4.to_csv('submission_ass4_group9.csv', index=False)"
   ]
  },
  {
   "attachments": {
    "image.png": {
     "image/png": "[encoded data removed]"
    }
   },
   "cell_type": "markdown",
   "metadata": {},
   "source": [
    "![image.png](attachment:image.png)"
   ]
  }
 ],
 "metadata": {
  "colab": {
   "authorship_tag": "ABX9TyPvBIKIXeyA8d1HnXg2gd6R",
   "provenance": [
    {
     "file_id": "1Q8i8Ak6979_V4txuQQsqFJff2QuPxReQ",
     "timestamp": 1723592159774
    }
   ]
  },
  "kernelspec": {
   "display_name": "Python 3",
   "language": "python",
   "name": "python3"
  },
  "language_info": {
   "codemirror_mode": {
    "name": "ipython",
    "version": 3
   },
   "file_extension": ".py",
   "mimetype": "text/x-python",
   "name": "python",
   "nbconvert_exporter": "python",
   "pygments_lexer": "ipython3",
   "version": "3.13.3"
  }
 },
 "nbformat": 4,
 "nbformat_minor": 0
}
