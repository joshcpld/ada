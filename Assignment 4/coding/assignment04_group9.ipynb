{
 "cells": [
  {
   "cell_type": "markdown",
   "metadata": {
    "id": "8k-ZtyGzJDLX"
   },
   "source": [
    "# Task\n",
    "\n",
    "Keep using the One-piece [competition case](https://www.kaggle.com/t/f5f7783abf31495f9593b3d93a18f9eb).\n",
    "\n",
    "Build on your Assignment 3.\n",
    "\n",
    "1. Keep improving some ideas that were not explored before.\n",
    "1. Week 8 will talk about PCA as a simple summary of many variables.\n",
    "1. Get the test sample for prediction and submit your results on Kaggle to get your Kaggle score screenshot. Show the screenshot in the PDF file.\n",
    "\n",
    "**Note:**\n",
    "- All instructions in Assignment 1 apply.\n",
    "- Use $\\leq 300$ words."
   ]
  },
  {
   "cell_type": "markdown",
   "metadata": {},
   "source": [
    "## Install Packages"
   ]
  },
  {
   "cell_type": "code",
   "execution_count": 65,
   "metadata": {},
   "outputs": [],
   "source": [
    "import pandas as pd\n",
    "import numpy as np\n",
    "import plotly.graph_objects as go\n",
    "import statsmodels.api as sm\n",
    "from statsmodels.nonparametric.smoothers_lowess import lowess\n",
    "from sklearn.preprocessing import StandardScaler\n",
    "from sklearn.linear_model import  Lasso, LinearRegression,LassoCV, ElasticNetCV\n",
    "from sklearn.model_selection import cross_val_score, KFold\n",
    "from sklearn.pipeline import Pipeline\n",
    "from itertools import combinations\n",
    "from sklearn.metrics import mean_squared_error\n",
    "from sklearn.decomposition import PCA\n",
    "import matplotlib.pyplot as plt\n",
    "from sklearn.model_selection import LeaveOneOut"
   ]
  },
  {
   "cell_type": "markdown",
   "metadata": {},
   "source": [
    "## 1. Read Data"
   ]
  },
  {
   "cell_type": "code",
   "execution_count": 66,
   "metadata": {},
   "outputs": [
    {
     "data": {
      "text/html": [
       "<div>\n",
       "<style scoped>\n",
       "    .dataframe tbody tr th:only-of-type {\n",
       "        vertical-align: middle;\n",
       "    }\n",
       "\n",
       "    .dataframe tbody tr th {\n",
       "        vertical-align: top;\n",
       "    }\n",
       "\n",
       "    .dataframe thead th {\n",
       "        text-align: right;\n",
       "    }\n",
       "</style>\n",
       "<table border=\"1\" class=\"dataframe\">\n",
       "  <thead>\n",
       "    <tr style=\"text-align: right;\">\n",
       "      <th></th>\n",
       "      <th>ID</th>\n",
       "      <th>Y</th>\n",
       "      <th>X1</th>\n",
       "      <th>X2</th>\n",
       "      <th>X3</th>\n",
       "      <th>X4</th>\n",
       "      <th>X5</th>\n",
       "      <th>X6</th>\n",
       "      <th>X7</th>\n",
       "      <th>X8</th>\n",
       "      <th>...</th>\n",
       "      <th>X41</th>\n",
       "      <th>X42</th>\n",
       "      <th>X43</th>\n",
       "      <th>X44</th>\n",
       "      <th>X45</th>\n",
       "      <th>X46</th>\n",
       "      <th>X47</th>\n",
       "      <th>X48</th>\n",
       "      <th>X49</th>\n",
       "      <th>X50</th>\n",
       "    </tr>\n",
       "  </thead>\n",
       "  <tbody>\n",
       "    <tr>\n",
       "      <th>0</th>\n",
       "      <td>0</td>\n",
       "      <td>-1.399091</td>\n",
       "      <td>1.174139</td>\n",
       "      <td>1.413109</td>\n",
       "      <td>0.164693</td>\n",
       "      <td>-1.067338</td>\n",
       "      <td>0.015324</td>\n",
       "      <td>-1.280970</td>\n",
       "      <td>0.489681</td>\n",
       "      <td>-0.371982</td>\n",
       "      <td>...</td>\n",
       "      <td>-0.115044</td>\n",
       "      <td>-2.580043</td>\n",
       "      <td>-0.812428</td>\n",
       "      <td>0.772820</td>\n",
       "      <td>-0.460444</td>\n",
       "      <td>0.190422</td>\n",
       "      <td>-0.362052</td>\n",
       "      <td>-1.119038</td>\n",
       "      <td>0.916313</td>\n",
       "      <td>-1.517434</td>\n",
       "    </tr>\n",
       "    <tr>\n",
       "      <th>1</th>\n",
       "      <td>1</td>\n",
       "      <td>3.097990</td>\n",
       "      <td>0.208922</td>\n",
       "      <td>0.931231</td>\n",
       "      <td>0.838779</td>\n",
       "      <td>0.893483</td>\n",
       "      <td>-0.510555</td>\n",
       "      <td>0.900289</td>\n",
       "      <td>-0.042490</td>\n",
       "      <td>0.839400</td>\n",
       "      <td>...</td>\n",
       "      <td>1.155635</td>\n",
       "      <td>0.673035</td>\n",
       "      <td>-0.438152</td>\n",
       "      <td>-0.001316</td>\n",
       "      <td>-0.761800</td>\n",
       "      <td>1.335092</td>\n",
       "      <td>0.901978</td>\n",
       "      <td>-1.549504</td>\n",
       "      <td>-0.456224</td>\n",
       "      <td>0.223405</td>\n",
       "    </tr>\n",
       "    <tr>\n",
       "      <th>2</th>\n",
       "      <td>2</td>\n",
       "      <td>-1.707346</td>\n",
       "      <td>-0.744982</td>\n",
       "      <td>0.962118</td>\n",
       "      <td>0.615392</td>\n",
       "      <td>-0.427943</td>\n",
       "      <td>-0.014912</td>\n",
       "      <td>1.138781</td>\n",
       "      <td>1.159491</td>\n",
       "      <td>0.055467</td>\n",
       "      <td>...</td>\n",
       "      <td>0.299277</td>\n",
       "      <td>1.387495</td>\n",
       "      <td>-0.007519</td>\n",
       "      <td>-0.464825</td>\n",
       "      <td>0.830986</td>\n",
       "      <td>0.373124</td>\n",
       "      <td>0.319232</td>\n",
       "      <td>-0.577295</td>\n",
       "      <td>-1.363846</td>\n",
       "      <td>-0.347154</td>\n",
       "    </tr>\n",
       "    <tr>\n",
       "      <th>3</th>\n",
       "      <td>3</td>\n",
       "      <td>0.610625</td>\n",
       "      <td>-0.170428</td>\n",
       "      <td>-1.361771</td>\n",
       "      <td>0.206042</td>\n",
       "      <td>0.623124</td>\n",
       "      <td>0.907441</td>\n",
       "      <td>-0.873814</td>\n",
       "      <td>1.287383</td>\n",
       "      <td>0.901191</td>\n",
       "      <td>...</td>\n",
       "      <td>1.209247</td>\n",
       "      <td>0.095866</td>\n",
       "      <td>-0.287905</td>\n",
       "      <td>-1.110714</td>\n",
       "      <td>-1.660352</td>\n",
       "      <td>0.207231</td>\n",
       "      <td>-0.419119</td>\n",
       "      <td>-0.517563</td>\n",
       "      <td>-1.050697</td>\n",
       "      <td>-0.096327</td>\n",
       "    </tr>\n",
       "    <tr>\n",
       "      <th>4</th>\n",
       "      <td>4</td>\n",
       "      <td>-0.689196</td>\n",
       "      <td>-0.858792</td>\n",
       "      <td>0.321308</td>\n",
       "      <td>-0.415649</td>\n",
       "      <td>1.014056</td>\n",
       "      <td>-0.522858</td>\n",
       "      <td>0.926634</td>\n",
       "      <td>-0.390663</td>\n",
       "      <td>0.790054</td>\n",
       "      <td>...</td>\n",
       "      <td>-1.191989</td>\n",
       "      <td>-1.127448</td>\n",
       "      <td>0.246358</td>\n",
       "      <td>0.407769</td>\n",
       "      <td>1.132454</td>\n",
       "      <td>-0.016621</td>\n",
       "      <td>0.964745</td>\n",
       "      <td>0.091532</td>\n",
       "      <td>0.649593</td>\n",
       "      <td>-0.818020</td>\n",
       "    </tr>\n",
       "  </tbody>\n",
       "</table>\n",
       "<p>5 rows × 52 columns</p>\n",
       "</div>"
      ],
      "text/plain": [
       "   ID         Y        X1        X2        X3        X4        X5        X6  \\\n",
       "0   0 -1.399091  1.174139  1.413109  0.164693 -1.067338  0.015324 -1.280970   \n",
       "1   1  3.097990  0.208922  0.931231  0.838779  0.893483 -0.510555  0.900289   \n",
       "2   2 -1.707346 -0.744982  0.962118  0.615392 -0.427943 -0.014912  1.138781   \n",
       "3   3  0.610625 -0.170428 -1.361771  0.206042  0.623124  0.907441 -0.873814   \n",
       "4   4 -0.689196 -0.858792  0.321308 -0.415649  1.014056 -0.522858  0.926634   \n",
       "\n",
       "         X7        X8  ...       X41       X42       X43       X44       X45  \\\n",
       "0  0.489681 -0.371982  ... -0.115044 -2.580043 -0.812428  0.772820 -0.460444   \n",
       "1 -0.042490  0.839400  ...  1.155635  0.673035 -0.438152 -0.001316 -0.761800   \n",
       "2  1.159491  0.055467  ...  0.299277  1.387495 -0.007519 -0.464825  0.830986   \n",
       "3  1.287383  0.901191  ...  1.209247  0.095866 -0.287905 -1.110714 -1.660352   \n",
       "4 -0.390663  0.790054  ... -1.191989 -1.127448  0.246358  0.407769  1.132454   \n",
       "\n",
       "        X46       X47       X48       X49       X50  \n",
       "0  0.190422 -0.362052 -1.119038  0.916313 -1.517434  \n",
       "1  1.335092  0.901978 -1.549504 -0.456224  0.223405  \n",
       "2  0.373124  0.319232 -0.577295 -1.363846 -0.347154  \n",
       "3  0.207231 -0.419119 -0.517563 -1.050697 -0.096327  \n",
       "4 -0.016621  0.964745  0.091532  0.649593 -0.818020  \n",
       "\n",
       "[5 rows x 52 columns]"
      ]
     },
     "execution_count": 66,
     "metadata": {},
     "output_type": "execute_result"
    }
   ],
   "source": [
    "train_url = \"https://github.com/joshcpld/ada/raw/main/Assignment%202/data/train_data.csv\"\n",
    "train_df = pd.read_csv(train_url)\n",
    "test_url = \"https://github.com/joshcpld/ada/raw/main/Assignment%202/data/test_data.csv\"\n",
    "test_df = pd.read_csv(test_url)\n",
    "\n",
    "train_df.head()"
   ]
  },
  {
   "cell_type": "markdown",
   "metadata": {},
   "source": [
    "First, we separate the X predictors from our outcome variable Y."
   ]
  },
  {
   "cell_type": "code",
   "execution_count": 67,
   "metadata": {},
   "outputs": [],
   "source": [
    "# Separate the X predictors and Y outcome variable\n",
    "X0_train = train_df.drop(columns=['Y', 'ID'])\n",
    "y0_train = train_df['Y'].values\n",
    "x0_test = test_df.drop(columns=[\"ID\"])\n",
    "cols = X0_train.columns.tolist()"
   ]
  },
  {
   "cell_type": "markdown",
   "metadata": {},
   "source": [
    "## 2a. PCA"
   ]
  },
  {
   "cell_type": "code",
   "execution_count": 68,
   "metadata": {},
   "outputs": [
    {
     "name": "stdout",
     "output_type": "stream",
     "text": [
      "K by 95% explained variance threshold: k_ev = 47 (out of p = 50)\n"
     ]
    },
    {
     "data": {
      "image/png": "[encoded data removed]",
      "text/plain": [
       "<Figure size 640x480 with 1 Axes>"
      ]
     },
     "metadata": {},
     "output_type": "display_data"
    }
   ],
   "source": [
    "# Standardize X then fit PCA on X_train\n",
    "scaler = StandardScaler()\n",
    "X_train_scaled_pca = scaler.fit_transform(X0_train)\n",
    "X_test_scaled_pca  = scaler.transform(x0_test)\n",
    "\n",
    "feature_names = X0_train.columns.tolist()\n",
    "n, p = X0_train.shape\n",
    "\n",
    "pca = PCA() \n",
    "pca.fit(X_train_scaled_pca)\n",
    "\n",
    "cumexp = np.cumsum(pca.explained_variance_ratio_)\n",
    "k_ev = int(np.argmax(cumexp >= 0.95) + 1)  # K that reaches ≥95% variance\n",
    "print(f\"K by 95% explained variance threshold: k_ev = {k_ev} (out of p = {p})\")\n",
    "\n",
    "# Scree (cumulative) — optional diagnostic plot\n",
    "plt.figure()\n",
    "plt.plot(np.arange(1, len(cumexp)+1), cumexp, marker='o')\n",
    "plt.xlabel(\"Number of components\")\n",
    "plt.ylabel(\"Cumulative explained variance\")\n",
    "plt.title(\"PCA Scree (cumulative)\")\n",
    "plt.grid(True)\n",
    "plt.show()"
   ]
  },
  {
   "cell_type": "markdown",
   "metadata": {},
   "source": [
    "Pick K by Leave-One-Out CV"
   ]
  },
  {
   "cell_type": "code",
   "execution_count": 69,
   "metadata": {},
   "outputs": [
    {
     "name": "stdout",
     "output_type": "stream",
     "text": [
      "Best K by LOOCV (1..30): k_loo = 30 with MSE = 9.138519\n"
     ]
    }
   ],
   "source": [
    "max_k = int(min(30, p))\n",
    "Z_train = pca.transform(X_train_scaled_pca)\n",
    "\n",
    "loo = LeaveOneOut()\n",
    "mse_by_k = []\n",
    "\n",
    "for k in range(1, max_k+1):\n",
    "    lr = LinearRegression()\n",
    "    fold_mse = []\n",
    "    for tr, va in loo.split(Z_train):\n",
    "        lr.fit(Z_train[tr, :k], y0_train[tr])\n",
    "        yhat = lr.predict(Z_train[va, :k])\n",
    "        fold_mse.append(mean_squared_error(y0_train[va], yhat))\n",
    "    mse_by_k.append(np.mean(fold_mse))\n",
    "\n",
    "k_loo = int(np.argmin(mse_by_k) + 1)\n",
    "print(f\"Best K by LOOCV (1..{max_k}): k_loo = {k_loo} with MSE = {mse_by_k[k_loo-1]:.6f}\")"
   ]
  },
  {
   "cell_type": "markdown",
   "metadata": {},
   "source": [
    "Fit PCA with K chosen by LOOCV"
   ]
  },
  {
   "cell_type": "code",
   "execution_count": 70,
   "metadata": {},
   "outputs": [],
   "source": [
    "lr_final = LinearRegression().fit(Z_train[:, :k_loo], y0_train)\n",
    "\n",
    "# Predictions for the test set\n",
    "Z_test = pca.transform(X_test_scaled_pca)\n",
    "y_pred_test_pca = lr_final.predict(Z_test[:, :k_loo])"
   ]
  },
  {
   "cell_type": "markdown",
   "metadata": {},
   "source": [
    "## 2b. LASSO Regularisation with K-fold CV"
   ]
  },
  {
   "cell_type": "markdown",
   "metadata": {},
   "source": [
    "In this section, we begin with LASSO regularisation to reduce our parameter scope using cross-validation."
   ]
  },
  {
   "cell_type": "markdown",
   "metadata": {},
   "source": [
    "Second, we then create a matrix of higher order polynomial and interaction terms."
   ]
  },
  {
   "cell_type": "code",
   "execution_count": 71,
   "metadata": {},
   "outputs": [
    {
     "name": "stdout",
     "output_type": "stream",
     "text": [
      "Feature counts by polynomial order:\n",
      "Linear: 50\n",
      "Quadratic + interactions: 1325\n",
      "Cubic + interactions: 1375\n",
      "Quartic + interactions: 1425\n"
     ]
    }
   ],
   "source": [
    "# Define function\n",
    "def matrix(df, cols, max_order=4):\n",
    "    # Original terms: X1, X2, X3, ..., X50\n",
    "    base = df[cols].copy()\n",
    "\n",
    "    # Higher-order polynomial terms\n",
    "    poly_dfs = []\n",
    "    for order in range(2, max_order + 1):\n",
    "        if order == 2:\n",
    "            # Squared terms: X1^2, X2^2, X3^2, ..., X50^2\n",
    "            poly_df = pd.DataFrame({f\"{c}^2\": df[c]**2 for c in cols}, index=df.index)\n",
    "        elif order == 3:\n",
    "            # Cubic terms: X1^3, X2^3, X3^3, ..., X50^3\n",
    "            poly_df = pd.DataFrame({f\"{c}^3\": df[c]**3 for c in cols}, index=df.index)\n",
    "        elif order == 4:\n",
    "            # Quartic terms: X1^4, X2^4, X3^4, ..., X50^4\n",
    "            poly_df = pd.DataFrame({f\"{c}^4\": df[c]**4 for c in cols}, index=df.index)\n",
    "        else:\n",
    "            # Higher orders: X1^n, X2^n, etc.\n",
    "            poly_df = pd.DataFrame({f\"{c}^{order}\": df[c]**order for c in cols}, index=df.index)\n",
    "        poly_dfs.append(poly_df)\n",
    "\n",
    "    # Interaction terms: X1*X2, X1*X3, ..., X49*X50\n",
    "    components_to_concat = [base] + poly_dfs\n",
    "    \n",
    "    inter_dict = {}\n",
    "    for i, c1 in enumerate(cols):\n",
    "        for j in range(i+1, len(cols)):\n",
    "            c2 = cols[j]\n",
    "            inter_dict[f\"{c1}*{c2}\"] = df[c1] * df[c2]\n",
    "    inter = pd.DataFrame(inter_dict, index=df.index)\n",
    "    components_to_concat.append(inter)\n",
    "\n",
    "    # Combine all together\n",
    "    X_vars = pd.concat(components_to_concat, axis=1)\n",
    "    return X_vars\n",
    "\n",
    "# Create the polynomial and interaction terms training set\n",
    "# Set 1: Up to quadratic\n",
    "X_vars_train_quad = matrix(train_df, cols, max_order=2)\n",
    "X_vars_test_quad = matrix(x0_test, cols, max_order=2)\n",
    "\n",
    "# Set 2: Up to cubic\n",
    "X_vars_train_cubic = matrix(train_df, cols, max_order=3)\n",
    "X_vars_test_cubic = matrix(x0_test, cols, max_order=3)\n",
    "\n",
    "# Set 3: Up to quartic\n",
    "X_vars_train_quartic = matrix(train_df, cols, max_order=4)\n",
    "X_vars_test_quartic = matrix(x0_test, cols, max_order=4)\n",
    "\n",
    "# Display feature counts for different approaches\n",
    "print(\"Feature counts by polynomial order:\")\n",
    "print(f\"Linear: {len(cols)}\")\n",
    "print(f\"Quadratic + interactions: {X_vars_train_quad.shape[1]}\")\n",
    "print(f\"Cubic + interactions: {X_vars_train_cubic.shape[1]}\")\n",
    "print(f\"Quartic + interactions: {X_vars_train_quartic.shape[1]}\")"
   ]
  },
  {
   "cell_type": "markdown",
   "metadata": {},
   "source": [
    "Third, we create dictionary of feature sets"
   ]
  },
  {
   "cell_type": "code",
   "execution_count": 72,
   "metadata": {},
   "outputs": [],
   "source": [
    "feature_sets = {\n",
    "    'Quadratic': {\n",
    "        'X_train': X_vars_train_quad,\n",
    "        'X_test': X_vars_test_quad,\n",
    "        'description': 'Quadratic polynomials + interactions'\n",
    "    },\n",
    "    'Cubic': {\n",
    "        'X_train': X_vars_train_cubic,\n",
    "        'X_test': X_vars_test_cubic,\n",
    "        'description': 'Cubic polynomials + interactions'\n",
    "    },\n",
    "    'Quartic': {\n",
    "        'X_train': X_vars_train_quartic,\n",
    "        'X_test': X_vars_test_quartic,\n",
    "        'description': 'Quartic polynomials + interactions'\n",
    "    }\n",
    "}\n",
    "\n",
    "all_selected_predictors = {}\n",
    "all_lasso_features = {}\n",
    "feature_set_performance = {}"
   ]
  },
  {
   "cell_type": "markdown",
   "metadata": {},
   "source": [
    "Fourth, we evaluating different polynomial orders with LASSO regularisation"
   ]
  },
  {
   "cell_type": "code",
   "execution_count": 73,
   "metadata": {},
   "outputs": [
    {
     "name": "stdout",
     "output_type": "stream",
     "text": [
      "\n",
      "Quadratic: Quadratic polynomials + interactions\n",
      "Feature count: 1325\n",
      "Optimal Alpha: 0.06579332246575675\n",
      "alpha=0.09112 | predictors=88\n",
      "alpha=0.07743 | predictors=129\n",
      "alpha=0.06579 | predictors=186\n",
      "alpha=0.05591 | predictors=234\n",
      "alpha=0.04751 | predictors=300\n",
      "\n",
      "Selected features summary for Quadratic:\n",
      "Model 1: 88 predictors selected\n",
      "Model 2: 129 predictors selected\n",
      "Model 3: 186 predictors selected\n",
      "Model 4: 234 predictors selected\n",
      "Model 5: 300 predictors selected\n",
      "\n",
      "Cubic: Cubic polynomials + interactions\n",
      "Feature count: 1375\n",
      "Optimal Alpha: 0.06579332246575675\n",
      "alpha=0.10723 | predictors=58\n",
      "alpha=0.09112 | predictors=89\n",
      "alpha=0.07743 | predictors=134\n",
      "alpha=0.06579 | predictors=191\n",
      "alpha=0.05591 | predictors=246\n",
      "alpha=0.04751 | predictors=318\n",
      "\n",
      "Selected features summary for Cubic:\n",
      "Model 1: 58 predictors selected\n",
      "Model 2: 89 predictors selected\n",
      "Model 3: 134 predictors selected\n",
      "Model 4: 191 predictors selected\n",
      "Model 5: 246 predictors selected\n",
      "Model 6: 318 predictors selected\n",
      "\n",
      "Quartic: Quartic polynomials + interactions\n",
      "Feature count: 1425\n",
      "Optimal Alpha: 0.06579332246575675\n",
      "alpha=0.09112 | predictors=89\n",
      "alpha=0.07743 | predictors=138\n",
      "alpha=0.06579 | predictors=193\n",
      "alpha=0.05591 | predictors=245\n",
      "alpha=0.04751 | predictors=324\n",
      "\n",
      "Selected features summary for Quartic:\n",
      "Model 1: 89 predictors selected\n",
      "Model 2: 138 predictors selected\n",
      "Model 3: 193 predictors selected\n",
      "Model 4: 245 predictors selected\n",
      "Model 5: 324 predictors selected\n"
     ]
    }
   ],
   "source": [
    "for set_name, feature_data in feature_sets.items():\n",
    "    print(f\"\\n{set_name}: {feature_data['description']}\")\n",
    "    print(f\"Feature count: {feature_data['X_train'].shape[1]}\")\n",
    "\n",
    "    # Scale the predictors to ensure comparability.\n",
    "    scaler = StandardScaler()\n",
    "    X_train_scaled = scaler.fit_transform(feature_data['X_train'].values)\n",
    "\n",
    "    # Fourth, we select the 'optimal' alpha for LASSO regularisation \n",
    "    # (which we combine with cross-validation).\n",
    "\n",
    "    lasso_cv_model = LassoCV(alphas=np.logspace(-5, 2, num=100), cv=10, max_iter=10000)\n",
    "\n",
    "    # Fit the LassoCV model to the scaled training data\n",
    "    lasso_cv_model.fit(X_train_scaled, y0_train)\n",
    "\n",
    "    # The optimal alpha selected by cross-validation\n",
    "    optimal_alpha_lasso = lasso_cv_model.alpha_\n",
    "    print(\"Optimal Alpha:\", optimal_alpha_lasso)\n",
    "\n",
    "    # As we are interested in a range of models, \n",
    "    # and want to see which set of models perform the best, \n",
    "    # let us select a range of alphas one standard error from our optimal point.\n",
    "\n",
    "    # Get the mean CV error per alpha\n",
    "    mean_mse = lasso_cv_model.mse_path_.mean(axis=1)\n",
    "\n",
    "    # Calculate the standard error of the mean CV error\n",
    "    std_mse = lasso_cv_model.mse_path_.std(axis=1) / np.sqrt(lasso_cv_model.mse_path_.shape[1])\n",
    "\n",
    "    # Index of best alpha\n",
    "    optimal_alpha_lasso_index = np.where(lasso_cv_model.alphas_ == optimal_alpha_lasso)[0][0]\n",
    "\n",
    "    # Create a threshold using one standard error from the mean CV error of the optimal alpha\n",
    "    alpha_threshold = mean_mse[optimal_alpha_lasso_index] + std_mse[optimal_alpha_lasso_index]\n",
    "\n",
    "    # Apply this threshold to select a set of alphas\n",
    "    threshold_inequality = mean_mse <= alpha_threshold\n",
    "    selected_alphas = lasso_cv_model.alphas_[threshold_inequality]\n",
    "\n",
    "    # Use LASSO on these set of alphas to select a set of features for our multiple linear regression model\n",
    "    LASSO_features = {}\n",
    "    for a in selected_alphas:\n",
    "        model = Lasso(alpha=a).fit(X_train_scaled, y0_train)\n",
    "        LASSO_features[a] = model\n",
    "        n_predictors = np.sum(model.coef_ != 0)\n",
    "        print(f\"alpha={a:.5f} | predictors={n_predictors}\")\n",
    "\n",
    "    # Extract selected predictors from each LASSO model\n",
    "    selected_predictors = {}\n",
    "    model_counter = 1\n",
    "\n",
    "    for alpha, lasso_model in LASSO_features.items():\n",
    "    # Get the selected feature names\n",
    "        selected_features = feature_data['X_train'].columns[lasso_model.coef_ != 0].tolist()\n",
    "\n",
    "    \n",
    "    # Store in dictionary with model name\n",
    "        selected_predictors[f\"Model {model_counter}\"] = selected_features\n",
    "        model_counter += 1\n",
    "\n",
    "    # Print summary of selected features for each model\n",
    "    print(f\"\\nSelected features summary for {set_name}:\")\n",
    "    for model_name, features in selected_predictors.items():\n",
    "        print(f\"{model_name}: {len(features)} predictors selected\")\n",
    "\n",
    "    # Store results for this feature set\n",
    "    all_selected_predictors[set_name] = selected_predictors\n",
    "    all_lasso_features[set_name] = {\n",
    "        'models': LASSO_features,\n",
    "        'scaler': scaler,\n",
    "        'optimal_alpha': optimal_alpha_lasso,\n",
    "        'selected_alphas': selected_alphas\n",
    "    }\n",
    "    \n",
    "    # Store performance metrics for comparison\n",
    "    feature_set_performance[set_name] = {\n",
    "        'optimal_alpha': optimal_alpha_lasso,\n",
    "        'min_cv_error': mean_mse[optimal_alpha_lasso_index],\n",
    "        'n_models': len(selected_alphas),\n",
    "        'feature_count': feature_data['X_train'].shape[1]\n",
    "    }\n",
    "    "
   ]
  },
  {
   "cell_type": "markdown",
   "metadata": {},
   "source": [
    "Fifth, we identifies which polynomial order has lowest cross-validation error"
   ]
  },
  {
   "cell_type": "code",
   "execution_count": 74,
   "metadata": {},
   "outputs": [
    {
     "name": "stdout",
     "output_type": "stream",
     "text": [
      "\n",
      "=== CV summary by feature set ===\n",
      "           feature_count  n_models  optimal_alpha  min_cv_error\n",
      "Quadratic           1325         5       0.065793      4.686437\n",
      "Quartic             1425         5       0.065793      4.698392\n",
      "Cubic               1375         6       0.065793      4.703243\n",
      "\n",
      "Best set is Quadratic: Quadratic polynomials + interactions\n",
      "Models to average: 5\n"
     ]
    }
   ],
   "source": [
    "# Display comparison table\n",
    "perf_df = pd.DataFrame.from_dict(feature_set_performance, orient='index')[\n",
    "    ['feature_count', 'n_models', 'optimal_alpha', 'min_cv_error']\n",
    "]\n",
    "\n",
    "print(\"\\n=== CV summary by feature set ===\")\n",
    "print(perf_df.sort_values('min_cv_error').round({'optimal_alpha': 6, 'min_cv_error': 6}))\n",
    "\n",
    "# Identify best feature set based on CV error\n",
    "best_set = perf_df['min_cv_error'].idxmin()\n",
    "print(f\"\\nBest set is {best_set}: {feature_sets[best_set]['description']}\")\n",
    "\n",
    "selected_predictors = all_selected_predictors[best_set]\n",
    "LASSO_features = all_lasso_features[best_set]['models']\n",
    "print(f\"Models to average: {len(selected_predictors)}\")\n"
   ]
  },
  {
   "cell_type": "markdown",
   "metadata": {},
   "source": [
    "Sixth, we also explore LOWESS method to capture local trends that may not be captured by our polynomial regression models."
   ]
  },
  {
   "cell_type": "code",
   "execution_count": 75,
   "metadata": {},
   "outputs": [
    {
     "name": "stdout",
     "output_type": "stream",
     "text": [
      "Selected most frequent feature: X1 (appears in 5 models)\n"
     ]
    },
    {
     "data": {
      "application/vnd.plotly.v1+json": {
       "config": {
        "plotlyServerURL": "https://plot.ly"
       },
       "data": [
        {
         "line": {
          "color": "blue",
          "width": 2
         },
         "mode": "lines",
         "name": "Above Threshold",
         "type": "scatter",
         "x": [
          -3.193227763920305,
          -3.1218053135626422,
          -3.0503828632049794,
          -2.9789604128473166,
          -2.907537962489654,
          -2.8361155121319905,
          -2.764693061774328,
          -2.693270611416665,
          -2.621848161059002,
          -2.5504257107013393,
          -2.4790032603436765,
          -2.4075808099860136,
          -2.336158359628351,
          -2.264735909270688,
          -2.193313458913025,
          -2.1218910085553624,
          -2.050468558197699,
          -1.9790461078400365,
          -1.9076236574823737,
          -1.8362012071247107,
          -1.7647787567670479,
          -1.693356306409385,
          -1.6219338560517222,
          -1.5505114056940594,
          -1.4790889553363966,
          -1.4076665049787336,
          -1.3362440546210708,
          -1.264821604263408,
          -1.1933991539057451,
          -1.121976703548082,
          -1.0505542531904193,
          -0.9791318028327565,
          -0.9077093524750937,
          -0.8362869021174308,
          -0.764864451759768,
          -0.6934420014021052,
          -0.6220195510444424,
          -0.5505971006867796,
          -0.4791746503291163,
          -0.4077521999714535,
          -0.3363297496137907,
          -0.2649072992561279,
          -0.19348484889846507,
          -0.12206239854080225,
          -0.05063994818313944,
          0.020782502174523376,
          0.09220495253218619,
          0.163627402889849,
          0.23504985324751182,
          0.3064723036051751,
          0.3778947539628379,
          0.4493172043205007,
          0.5207396546781635,
          0.5921621050358263,
          0.6635845553934892,
          0.735007005751152,
          0.8064294561088148,
          0.8778519064664776,
          0.9492743568241409,
          1.0206968071818032,
          1.0921192575394665,
          1.1635417078971289,
          1.234964158254792,
          1.3063866086124545,
          1.3778090589701177,
          1.449231509327781,
          1.5206539596854434,
          1.5920764100431066,
          1.663498860400769,
          1.7349213107584323,
          1.8063437611160946,
          1.8777662114737579,
          1.9491886618314203,
          2.0206111121890835,
          2.092033562546746,
          2.163456012904409,
          2.2348784632620724,
          2.3063009136197348,
          2.377723363977398,
          2.4491458143350604,
          2.5205682646927237,
          2.591990715050386,
          2.6634131654080493,
          2.7348356157657117,
          2.806258066123375,
          2.8776805164810373,
          2.9491029668387005,
          3.020525417196364,
          3.091947867554026,
          3.1633703179116894,
          3.234792768269352,
          3.306215218627015,
          3.3776376689846774,
          3.4490601193423407,
          3.520482569700003,
          3.5919050200576663,
          3.6633274704153287,
          3.734749920772992,
          3.806172371130655,
          3.8775948214883176
         ],
         "y": [
          0.459502902529821,
          0.459502902529821,
          0.459502902529821,
          0.459502902529821,
          0.459502902529821,
          0.459502902529821,
          0.459502902529821,
          0.459502902529821,
          0.459502902529821,
          0.459502902529821,
          0.459502902529821,
          0.459502902529821,
          0.459502902529821,
          0.459502902529821,
          0.459502902529821,
          0.459502902529821,
          0.459502902529821,
          0.459502902529821,
          0.459502902529821,
          0.459502902529821,
          0.459502902529821,
          0.459502902529821,
          0.459502902529821,
          0.459502902529821,
          0.459502902529821,
          0.459502902529821,
          0.459502902529821,
          0.459502902529821,
          0.459502902529821,
          0.459502902529821,
          0.459502902529821,
          0.459502902529821,
          0.459502902529821,
          0.459502902529821,
          0.459502902529821,
          0.459502902529821,
          0.459502902529821,
          0.459502902529821,
          0.459502902529821,
          0.459502902529821,
          0.459502902529821,
          0.459502902529821,
          0.459502902529821,
          0.459502902529821,
          0.459502902529821,
          0.459502902529821,
          0.46382740298836334,
          0.46432686502966286,
          0.4615404665691851,
          0.45715274588370586,
          0.4527288142180008,
          0.44677568939079454,
          0.43128186885419506,
          0.43578199245291754,
          0.4714991290708505,
          0.515395990195029,
          0.5563640211976579,
          0.5815601133857473,
          0.5981592008544188,
          0.6210528863294683,
          0.6602547146614037,
          0.703272840396198,
          0.7453227655457666,
          0.7884514637878662,
          0.8334987994987451,
          0.87923394892126,
          0.9236092157521519,
          0.9668347595180571,
          1.0064156037623444,
          1.040827461658392,
          1.070671697344637,
          1.098233361517222,
          1.1283028114785911,
          1.1642581719740435,
          1.206214638282885,
          1.2523354406896292,
          1.3029450750356557,
          1.362520278023533,
          1.431695733838606,
          1.50936340637337,
          1.5906832865298544,
          1.6753843002044908,
          1.7614451000601752,
          1.8472648088951575,
          1.9329732577013041,
          2.01868170650745,
          2.103180895730423,
          2.187506217937676,
          2.2718315401449276,
          2.3561568623521807,
          2.4404821845594324,
          2.531131956539773,
          2.622698129728093,
          2.714264302916414,
          2.805830476104734,
          2.8973966492930554,
          2.9889628224813753,
          3.0805289956696966,
          3.172095168858018,
          3.263661342046338
         ]
        },
        {
         "line": {
          "color": "red",
          "width": 2
         },
         "mode": "lines",
         "name": "Below Threshold",
         "type": "scatter",
         "x": [
          -3.193227763920305,
          -3.1218053135626422,
          -3.0503828632049794,
          -2.9789604128473166,
          -2.907537962489654,
          -2.8361155121319905,
          -2.764693061774328,
          -2.693270611416665,
          -2.621848161059002,
          -2.5504257107013393,
          -2.4790032603436765,
          -2.4075808099860136,
          -2.336158359628351,
          -2.264735909270688,
          -2.193313458913025,
          -2.1218910085553624,
          -2.050468558197699,
          -1.9790461078400365,
          -1.9076236574823737,
          -1.8362012071247107,
          -1.7647787567670479,
          -1.693356306409385,
          -1.6219338560517222,
          -1.5505114056940594,
          -1.4790889553363966,
          -1.4076665049787336,
          -1.3362440546210708,
          -1.264821604263408,
          -1.1933991539057451,
          -1.121976703548082,
          -1.0505542531904193,
          -0.9791318028327565,
          -0.9077093524750937,
          -0.8362869021174308,
          -0.764864451759768,
          -0.6934420014021052,
          -0.6220195510444424,
          -0.5505971006867796,
          -0.4791746503291163,
          -0.4077521999714535,
          -0.3363297496137907,
          -0.2649072992561279,
          -0.19348484889846507,
          -0.12206239854080225,
          -0.05063994818313944,
          0.020782502174523376,
          0.09220495253218619,
          0.163627402889849,
          0.23504985324751182,
          0.3064723036051751,
          0.3778947539628379,
          0.4493172043205007,
          0.5207396546781635,
          0.5921621050358263,
          0.6635845553934892,
          0.735007005751152,
          0.8064294561088148,
          0.8778519064664776,
          0.9492743568241409,
          1.0206968071818032,
          1.0921192575394665,
          1.1635417078971289,
          1.234964158254792,
          1.3063866086124545,
          1.3778090589701177,
          1.449231509327781,
          1.5206539596854434,
          1.5920764100431066,
          1.663498860400769,
          1.7349213107584323,
          1.8063437611160946,
          1.8777662114737579,
          1.9491886618314203,
          2.0206111121890835,
          2.092033562546746,
          2.163456012904409,
          2.2348784632620724,
          2.3063009136197348,
          2.377723363977398,
          2.4491458143350604,
          2.5205682646927237,
          2.591990715050386,
          2.6634131654080493,
          2.7348356157657117,
          2.806258066123375,
          2.8776805164810373,
          2.9491029668387005,
          3.020525417196364,
          3.091947867554026,
          3.1633703179116894,
          3.234792768269352,
          3.306215218627015,
          3.3776376689846774,
          3.4490601193423407,
          3.520482569700003,
          3.5919050200576663,
          3.6633274704153287,
          3.734749920772992,
          3.806172371130655,
          3.8775948214883176
         ],
         "y": [
          -2.5895556837339733,
          -2.5016274820618523,
          -2.413699280389731,
          -2.32577107871761,
          -2.2378428770454883,
          -2.1497899003910397,
          -2.061399279222659,
          -1.9726198554822678,
          -1.8836365245444653,
          -1.7939855716357254,
          -1.7035947417125956,
          -1.613003141177828,
          -1.5217989050572505,
          -1.4301963307387935,
          -1.33837438638199,
          -1.2465751036234345,
          -1.1551279143467177,
          -1.0646838152100093,
          -0.9759484404651418,
          -0.8892821568400906,
          -0.8031887132563948,
          -0.7162581697498054,
          -0.6278819855785438,
          -0.5373126035837719,
          -0.4454262536279058,
          -0.355009291940531,
          -0.2646450596816456,
          -0.17000926051514292,
          -0.07484943131453281,
          0.012171851765507221,
          0.10020431143716513,
          0.17931364953385054,
          0.23077986540067416,
          0.2548173176446461,
          0.248404326620745,
          0.21906384197486758,
          0.19780841037339505,
          0.1780531835779916,
          0.1624586184525292,
          0.17458156913457373,
          0.2102105053810211,
          0.25074211538763136,
          0.2962128696039743,
          0.3456920587020666,
          0.398189484807742,
          0.453774978670554,
          0.46037949335617934,
          0.46037949335617934,
          0.46037949335617934,
          0.46037949335617934,
          0.46037949335617934,
          0.46037949335617934,
          0.46037949335617934,
          0.46037949335617934,
          0.46037949335617934,
          0.46037949335617934,
          0.46037949335617934,
          0.46037949335617934,
          0.46037949335617934,
          0.46037949335617934,
          0.46037949335617934,
          0.46037949335617934,
          0.46037949335617934,
          0.46037949335617934,
          0.46037949335617934,
          0.46037949335617934,
          0.46037949335617934,
          0.46037949335617934,
          0.46037949335617934,
          0.46037949335617934,
          0.46037949335617934,
          0.46037949335617934,
          0.46037949335617934,
          0.46037949335617934,
          0.46037949335617934,
          0.46037949335617934,
          0.46037949335617934,
          0.46037949335617934,
          0.46037949335617934,
          0.46037949335617934,
          0.46037949335617934,
          0.46037949335617934,
          0.46037949335617934,
          0.46037949335617934,
          0.46037949335617934,
          0.46037949335617934,
          0.46037949335617934,
          0.46037949335617934,
          0.46037949335617934,
          0.46037949335617934,
          0.46037949335617934,
          0.46037949335617934,
          0.46037949335617934,
          0.46037949335617934,
          0.46037949335617934,
          0.46037949335617934,
          0.46037949335617934,
          0.46037949335617934,
          0.46037949335617934,
          0.46037949335617934
         ]
        }
       ],
       "layout": {
        "template": {
         "data": {
          "bar": [
           {
            "error_x": {
             "color": "#2a3f5f"
            },
            "error_y": {
             "color": "#2a3f5f"
            },
            "marker": {
             "line": {
              "color": "#E5ECF6",
              "width": 0.5
             },
             "pattern": {
              "fillmode": "overlay",
              "size": 10,
              "solidity": 0.2
             }
            },
            "type": "bar"
           }
          ],
          "barpolar": [
           {
            "marker": {
             "line": {
              "color": "#E5ECF6",
              "width": 0.5
             },
             "pattern": {
              "fillmode": "overlay",
              "size": 10,
              "solidity": 0.2
             }
            },
            "type": "barpolar"
           }
          ],
          "carpet": [
           {
            "aaxis": {
             "endlinecolor": "#2a3f5f",
             "gridcolor": "white",
             "linecolor": "white",
             "minorgridcolor": "white",
             "startlinecolor": "#2a3f5f"
            },
            "baxis": {
             "endlinecolor": "#2a3f5f",
             "gridcolor": "white",
             "linecolor": "white",
             "minorgridcolor": "white",
             "startlinecolor": "#2a3f5f"
            },
            "type": "carpet"
           }
          ],
          "choropleth": [
           {
            "colorbar": {
             "outlinewidth": 0,
             "ticks": ""
            },
            "type": "choropleth"
           }
          ],
          "contour": [
           {
            "colorbar": {
             "outlinewidth": 0,
             "ticks": ""
            },
            "colorscale": [
             [
              0,
              "#0d0887"
             ],
             [
              0.1111111111111111,
              "#46039f"
             ],
             [
              0.2222222222222222,
              "#7201a8"
             ],
             [
              0.3333333333333333,
              "#9c179e"
             ],
             [
              0.4444444444444444,
              "#bd3786"
             ],
             [
              0.5555555555555556,
              "#d8576b"
             ],
             [
              0.6666666666666666,
              "#ed7953"
             ],
             [
              0.7777777777777778,
              "#fb9f3a"
             ],
             [
              0.8888888888888888,
              "#fdca26"
             ],
             [
              1,
              "#f0f921"
             ]
            ],
            "type": "contour"
           }
          ],
          "contourcarpet": [
           {
            "colorbar": {
             "outlinewidth": 0,
             "ticks": ""
            },
            "type": "contourcarpet"
           }
          ],
          "heatmap": [
           {
            "colorbar": {
             "outlinewidth": 0,
             "ticks": ""
            },
            "colorscale": [
             [
              0,
              "#0d0887"
             ],
             [
              0.1111111111111111,
              "#46039f"
             ],
             [
              0.2222222222222222,
              "#7201a8"
             ],
             [
              0.3333333333333333,
              "#9c179e"
             ],
             [
              0.4444444444444444,
              "#bd3786"
             ],
             [
              0.5555555555555556,
              "#d8576b"
             ],
             [
              0.6666666666666666,
              "#ed7953"
             ],
             [
              0.7777777777777778,
              "#fb9f3a"
             ],
             [
              0.8888888888888888,
              "#fdca26"
             ],
             [
              1,
              "#f0f921"
             ]
            ],
            "type": "heatmap"
           }
          ],
          "heatmapgl": [
           {
            "colorbar": {
             "outlinewidth": 0,
             "ticks": ""
            },
            "colorscale": [
             [
              0,
              "#0d0887"
             ],
             [
              0.1111111111111111,
              "#46039f"
             ],
             [
              0.2222222222222222,
              "#7201a8"
             ],
             [
              0.3333333333333333,
              "#9c179e"
             ],
             [
              0.4444444444444444,
              "#bd3786"
             ],
             [
              0.5555555555555556,
              "#d8576b"
             ],
             [
              0.6666666666666666,
              "#ed7953"
             ],
             [
              0.7777777777777778,
              "#fb9f3a"
             ],
             [
              0.8888888888888888,
              "#fdca26"
             ],
             [
              1,
              "#f0f921"
             ]
            ],
            "type": "heatmapgl"
           }
          ],
          "histogram": [
           {
            "marker": {
             "pattern": {
              "fillmode": "overlay",
              "size": 10,
              "solidity": 0.2
             }
            },
            "type": "histogram"
           }
          ],
          "histogram2d": [
           {
            "colorbar": {
             "outlinewidth": 0,
             "ticks": ""
            },
            "colorscale": [
             [
              0,
              "#0d0887"
             ],
             [
              0.1111111111111111,
              "#46039f"
             ],
             [
              0.2222222222222222,
              "#7201a8"
             ],
             [
              0.3333333333333333,
              "#9c179e"
             ],
             [
              0.4444444444444444,
              "#bd3786"
             ],
             [
              0.5555555555555556,
              "#d8576b"
             ],
             [
              0.6666666666666666,
              "#ed7953"
             ],
             [
              0.7777777777777778,
              "#fb9f3a"
             ],
             [
              0.8888888888888888,
              "#fdca26"
             ],
             [
              1,
              "#f0f921"
             ]
            ],
            "type": "histogram2d"
           }
          ],
          "histogram2dcontour": [
           {
            "colorbar": {
             "outlinewidth": 0,
             "ticks": ""
            },
            "colorscale": [
             [
              0,
              "#0d0887"
             ],
             [
              0.1111111111111111,
              "#46039f"
             ],
             [
              0.2222222222222222,
              "#7201a8"
             ],
             [
              0.3333333333333333,
              "#9c179e"
             ],
             [
              0.4444444444444444,
              "#bd3786"
             ],
             [
              0.5555555555555556,
              "#d8576b"
             ],
             [
              0.6666666666666666,
              "#ed7953"
             ],
             [
              0.7777777777777778,
              "#fb9f3a"
             ],
             [
              0.8888888888888888,
              "#fdca26"
             ],
             [
              1,
              "#f0f921"
             ]
            ],
            "type": "histogram2dcontour"
           }
          ],
          "mesh3d": [
           {
            "colorbar": {
             "outlinewidth": 0,
             "ticks": ""
            },
            "type": "mesh3d"
           }
          ],
          "parcoords": [
           {
            "line": {
             "colorbar": {
              "outlinewidth": 0,
              "ticks": ""
             }
            },
            "type": "parcoords"
           }
          ],
          "pie": [
           {
            "automargin": true,
            "type": "pie"
           }
          ],
          "scatter": [
           {
            "fillpattern": {
             "fillmode": "overlay",
             "size": 10,
             "solidity": 0.2
            },
            "type": "scatter"
           }
          ],
          "scatter3d": [
           {
            "line": {
             "colorbar": {
              "outlinewidth": 0,
              "ticks": ""
             }
            },
            "marker": {
             "colorbar": {
              "outlinewidth": 0,
              "ticks": ""
             }
            },
            "type": "scatter3d"
           }
          ],
          "scattercarpet": [
           {
            "marker": {
             "colorbar": {
              "outlinewidth": 0,
              "ticks": ""
             }
            },
            "type": "scattercarpet"
           }
          ],
          "scattergeo": [
           {
            "marker": {
             "colorbar": {
              "outlinewidth": 0,
              "ticks": ""
             }
            },
            "type": "scattergeo"
           }
          ],
          "scattergl": [
           {
            "marker": {
             "colorbar": {
              "outlinewidth": 0,
              "ticks": ""
             }
            },
            "type": "scattergl"
           }
          ],
          "scattermapbox": [
           {
            "marker": {
             "colorbar": {
              "outlinewidth": 0,
              "ticks": ""
             }
            },
            "type": "scattermapbox"
           }
          ],
          "scatterpolar": [
           {
            "marker": {
             "colorbar": {
              "outlinewidth": 0,
              "ticks": ""
             }
            },
            "type": "scatterpolar"
           }
          ],
          "scatterpolargl": [
           {
            "marker": {
             "colorbar": {
              "outlinewidth": 0,
              "ticks": ""
             }
            },
            "type": "scatterpolargl"
           }
          ],
          "scatterternary": [
           {
            "marker": {
             "colorbar": {
              "outlinewidth": 0,
              "ticks": ""
             }
            },
            "type": "scatterternary"
           }
          ],
          "surface": [
           {
            "colorbar": {
             "outlinewidth": 0,
             "ticks": ""
            },
            "colorscale": [
             [
              0,
              "#0d0887"
             ],
             [
              0.1111111111111111,
              "#46039f"
             ],
             [
              0.2222222222222222,
              "#7201a8"
             ],
             [
              0.3333333333333333,
              "#9c179e"
             ],
             [
              0.4444444444444444,
              "#bd3786"
             ],
             [
              0.5555555555555556,
              "#d8576b"
             ],
             [
              0.6666666666666666,
              "#ed7953"
             ],
             [
              0.7777777777777778,
              "#fb9f3a"
             ],
             [
              0.8888888888888888,
              "#fdca26"
             ],
             [
              1,
              "#f0f921"
             ]
            ],
            "type": "surface"
           }
          ],
          "table": [
           {
            "cells": {
             "fill": {
              "color": "#EBF0F8"
             },
             "line": {
              "color": "white"
             }
            },
            "header": {
             "fill": {
              "color": "#C8D4E3"
             },
             "line": {
              "color": "white"
             }
            },
            "type": "table"
           }
          ]
         },
         "layout": {
          "annotationdefaults": {
           "arrowcolor": "#2a3f5f",
           "arrowhead": 0,
           "arrowwidth": 1
          },
          "autotypenumbers": "strict",
          "coloraxis": {
           "colorbar": {
            "outlinewidth": 0,
            "ticks": ""
           }
          },
          "colorscale": {
           "diverging": [
            [
             0,
             "#8e0152"
            ],
            [
             0.1,
             "#c51b7d"
            ],
            [
             0.2,
             "#de77ae"
            ],
            [
             0.3,
             "#f1b6da"
            ],
            [
             0.4,
             "#fde0ef"
            ],
            [
             0.5,
             "#f7f7f7"
            ],
            [
             0.6,
             "#e6f5d0"
            ],
            [
             0.7,
             "#b8e186"
            ],
            [
             0.8,
             "#7fbc41"
            ],
            [
             0.9,
             "#4d9221"
            ],
            [
             1,
             "#276419"
            ]
           ],
           "sequential": [
            [
             0,
             "#0d0887"
            ],
            [
             0.1111111111111111,
             "#46039f"
            ],
            [
             0.2222222222222222,
             "#7201a8"
            ],
            [
             0.3333333333333333,
             "#9c179e"
            ],
            [
             0.4444444444444444,
             "#bd3786"
            ],
            [
             0.5555555555555556,
             "#d8576b"
            ],
            [
             0.6666666666666666,
             "#ed7953"
            ],
            [
             0.7777777777777778,
             "#fb9f3a"
            ],
            [
             0.8888888888888888,
             "#fdca26"
            ],
            [
             1,
             "#f0f921"
            ]
           ],
           "sequentialminus": [
            [
             0,
             "#0d0887"
            ],
            [
             0.1111111111111111,
             "#46039f"
            ],
            [
             0.2222222222222222,
             "#7201a8"
            ],
            [
             0.3333333333333333,
             "#9c179e"
            ],
            [
             0.4444444444444444,
             "#bd3786"
            ],
            [
             0.5555555555555556,
             "#d8576b"
            ],
            [
             0.6666666666666666,
             "#ed7953"
            ],
            [
             0.7777777777777778,
             "#fb9f3a"
            ],
            [
             0.8888888888888888,
             "#fdca26"
            ],
            [
             1,
             "#f0f921"
            ]
           ]
          },
          "colorway": [
           "#636efa",
           "#EF553B",
           "#00cc96",
           "#ab63fa",
           "#FFA15A",
           "#19d3f3",
           "#FF6692",
           "#B6E880",
           "#FF97FF",
           "#FECB52"
          ],
          "font": {
           "color": "#2a3f5f"
          },
          "geo": {
           "bgcolor": "white",
           "lakecolor": "white",
           "landcolor": "#E5ECF6",
           "showlakes": true,
           "showland": true,
           "subunitcolor": "white"
          },
          "hoverlabel": {
           "align": "left"
          },
          "hovermode": "closest",
          "mapbox": {
           "style": "light"
          },
          "paper_bgcolor": "white",
          "plot_bgcolor": "#E5ECF6",
          "polar": {
           "angularaxis": {
            "gridcolor": "white",
            "linecolor": "white",
            "ticks": ""
           },
           "bgcolor": "#E5ECF6",
           "radialaxis": {
            "gridcolor": "white",
            "linecolor": "white",
            "ticks": ""
           }
          },
          "scene": {
           "xaxis": {
            "backgroundcolor": "#E5ECF6",
            "gridcolor": "white",
            "gridwidth": 2,
            "linecolor": "white",
            "showbackground": true,
            "ticks": "",
            "zerolinecolor": "white"
           },
           "yaxis": {
            "backgroundcolor": "#E5ECF6",
            "gridcolor": "white",
            "gridwidth": 2,
            "linecolor": "white",
            "showbackground": true,
            "ticks": "",
            "zerolinecolor": "white"
           },
           "zaxis": {
            "backgroundcolor": "#E5ECF6",
            "gridcolor": "white",
            "gridwidth": 2,
            "linecolor": "white",
            "showbackground": true,
            "ticks": "",
            "zerolinecolor": "white"
           }
          },
          "shapedefaults": {
           "line": {
            "color": "#2a3f5f"
           }
          },
          "ternary": {
           "aaxis": {
            "gridcolor": "white",
            "linecolor": "white",
            "ticks": ""
           },
           "baxis": {
            "gridcolor": "white",
            "linecolor": "white",
            "ticks": ""
           },
           "bgcolor": "#E5ECF6",
           "caxis": {
            "gridcolor": "white",
            "linecolor": "white",
            "ticks": ""
           }
          },
          "title": {
           "x": 0.05
          },
          "xaxis": {
           "automargin": true,
           "gridcolor": "white",
           "linecolor": "white",
           "ticks": "",
           "title": {
            "standoff": 15
           },
           "zerolinecolor": "white",
           "zerolinewidth": 2
          },
          "yaxis": {
           "automargin": true,
           "gridcolor": "white",
           "linecolor": "white",
           "ticks": "",
           "title": {
            "standoff": 15
           },
           "zerolinecolor": "white",
           "zerolinewidth": 2
          }
         }
        },
        "xaxis": {
         "title": {
          "text": "X1"
         }
        },
        "yaxis": {
         "title": {
          "text": "Y (Outcome)"
         }
        }
       }
      }
     },
     "metadata": {},
     "output_type": "display_data"
    },
    {
     "name": "stdout",
     "output_type": "stream",
     "text": [
      "LOWESS reveals different local trends above and below X1 = 0.029\n"
     ]
    }
   ],
   "source": [
    "# Use the best performing feature set\n",
    "X_vars_train = feature_sets[best_set]['X_train']\n",
    "X_vars_test = feature_sets[best_set]['X_test']\n",
    "\n",
    "# Select a key predictor for threshold analysis\n",
    "# Using most frequently selected feature\n",
    "feature_frequency = {}\n",
    "for model_name, features in selected_predictors.items():\n",
    "    for feature in features:\n",
    "        feature_frequency[feature] = feature_frequency.get(feature, 0) + 1\n",
    "\n",
    "sorted_features = sorted(feature_frequency.items(), key=lambda x: x[1], reverse=True)\n",
    "\n",
    "if sorted_features:\n",
    "    key_predictor = sorted_features[0][0]\n",
    "    print(f\"Selected most frequent feature: {key_predictor} (appears in {feature_frequency[key_predictor]} models)\")\n",
    "else:\n",
    "    print(\"No features found for key predictor.\")\n",
    "\n",
    "# Determine threshold value (median)\n",
    "threshold_value = X_vars_train[key_predictor].median()\n",
    "\n",
    "# Create above and below indices\n",
    "above_indices = X_vars_train[key_predictor] >= threshold_value\n",
    "below_indices = X_vars_train[key_predictor] < threshold_value\n",
    "\n",
    "# Fit LOWESS models for above and below data\n",
    "fit_above = sm.nonparametric.lowess(y0_train[above_indices], X_vars_train.loc[above_indices, key_predictor])\n",
    "fit_below = sm.nonparametric.lowess(y0_train[below_indices], X_vars_train.loc[below_indices, key_predictor])\n",
    "\n",
    "# Generate range of values for prediction\n",
    "x_min, x_max = X_vars_train[key_predictor].min(), X_vars_train[key_predictor].max()\n",
    "rr = np.linspace(x_min, x_max, num=100)\n",
    "\n",
    "# Predictions for above and below data\n",
    "pred_above = np.interp(rr, fit_above[:, 0], fit_above[:, 1])\n",
    "pred_below = np.interp(rr, fit_below[:, 0], fit_below[:, 1])\n",
    "\n",
    "# Plot\n",
    "fig = go.Figure()\n",
    "\n",
    "fig.add_trace(go.Scatter(x=rr, y=pred_above, mode='lines', \n",
    "                        line=dict(color='blue', width=2), name='Above Threshold'))\n",
    "fig.add_trace(go.Scatter(x=rr, y=pred_below, mode='lines', \n",
    "                        line=dict(color='red', width=2), name='Below Threshold'))\n",
    "\n",
    "fig.update_layout(\n",
    "    xaxis_title=key_predictor,\n",
    "    yaxis_title=\"Y (Outcome)\",\n",
    ")\n",
    "\n",
    "fig.show()\n",
    "\n",
    "print(f\"LOWESS reveals different local trends above and below {key_predictor} = {threshold_value:.3f}\")"
   ]
  },
  {
   "cell_type": "markdown",
   "metadata": {},
   "source": [
    "The LOWESS confirmed the presence of nonlinear relationships that justify the polynomial regression approach"
   ]
  },
  {
   "cell_type": "markdown",
   "metadata": {},
   "source": [
    "In this section, we attempt to select which combination of multiple linear regression models performs best on the training data. The average of the model combinations that perform the best will be selected for our model prediction."
   ]
  },
  {
   "cell_type": "code",
   "execution_count": 76,
   "metadata": {},
   "outputs": [
    {
     "data": {
      "text/html": [
       "<div>\n",
       "<style scoped>\n",
       "    .dataframe tbody tr th:only-of-type {\n",
       "        vertical-align: middle;\n",
       "    }\n",
       "\n",
       "    .dataframe tbody tr th {\n",
       "        vertical-align: top;\n",
       "    }\n",
       "\n",
       "    .dataframe thead th {\n",
       "        text-align: right;\n",
       "    }\n",
       "</style>\n",
       "<table border=\"1\" class=\"dataframe\">\n",
       "  <thead>\n",
       "    <tr style=\"text-align: right;\">\n",
       "      <th></th>\n",
       "      <th>Models</th>\n",
       "      <th>CV_MSE</th>\n",
       "    </tr>\n",
       "  </thead>\n",
       "  <tbody>\n",
       "    <tr>\n",
       "      <th>0</th>\n",
       "      <td>(Model 1, Model 4, Model 5)</td>\n",
       "      <td>3.745852</td>\n",
       "    </tr>\n",
       "    <tr>\n",
       "      <th>1</th>\n",
       "      <td>(Model 1, Model 2, Model 4, Model 5)</td>\n",
       "      <td>3.750419</td>\n",
       "    </tr>\n",
       "    <tr>\n",
       "      <th>2</th>\n",
       "      <td>(Model 1, Model 3, Model 5)</td>\n",
       "      <td>3.754361</td>\n",
       "    </tr>\n",
       "    <tr>\n",
       "      <th>3</th>\n",
       "      <td>(Model 1, Model 3, Model 4, Model 5)</td>\n",
       "      <td>3.754469</td>\n",
       "    </tr>\n",
       "    <tr>\n",
       "      <th>4</th>\n",
       "      <td>(Model 1, Model 5)</td>\n",
       "      <td>3.758442</td>\n",
       "    </tr>\n",
       "    <tr>\n",
       "      <th>5</th>\n",
       "      <td>(Model 1, Model 2, Model 3, Model 4, Model 5)</td>\n",
       "      <td>3.758829</td>\n",
       "    </tr>\n",
       "    <tr>\n",
       "      <th>6</th>\n",
       "      <td>(Model 2, Model 4, Model 5)</td>\n",
       "      <td>3.770804</td>\n",
       "    </tr>\n",
       "    <tr>\n",
       "      <th>7</th>\n",
       "      <td>(Model 1, Model 2, Model 3, Model 5)</td>\n",
       "      <td>3.770859</td>\n",
       "    </tr>\n",
       "    <tr>\n",
       "      <th>8</th>\n",
       "      <td>(Model 2, Model 5)</td>\n",
       "      <td>3.774660</td>\n",
       "    </tr>\n",
       "    <tr>\n",
       "      <th>9</th>\n",
       "      <td>(Model 1, Model 2, Model 5)</td>\n",
       "      <td>3.774787</td>\n",
       "    </tr>\n",
       "    <tr>\n",
       "      <th>10</th>\n",
       "      <td>(Model 2, Model 3, Model 4, Model 5)</td>\n",
       "      <td>3.778741</td>\n",
       "    </tr>\n",
       "    <tr>\n",
       "      <th>11</th>\n",
       "      <td>(Model 2, Model 3, Model 5)</td>\n",
       "      <td>3.779767</td>\n",
       "    </tr>\n",
       "    <tr>\n",
       "      <th>12</th>\n",
       "      <td>(Model 1, Model 4)</td>\n",
       "      <td>3.794428</td>\n",
       "    </tr>\n",
       "    <tr>\n",
       "      <th>13</th>\n",
       "      <td>(Model 1, Model 3, Model 4)</td>\n",
       "      <td>3.794722</td>\n",
       "    </tr>\n",
       "    <tr>\n",
       "      <th>14</th>\n",
       "      <td>(Model 1, Model 2, Model 3, Model 4)</td>\n",
       "      <td>3.806855</td>\n",
       "    </tr>\n",
       "    <tr>\n",
       "      <th>15</th>\n",
       "      <td>(Model 2, Model 4)</td>\n",
       "      <td>3.812795</td>\n",
       "    </tr>\n",
       "    <tr>\n",
       "      <th>16</th>\n",
       "      <td>(Model 1, Model 2, Model 4)</td>\n",
       "      <td>3.814414</td>\n",
       "    </tr>\n",
       "    <tr>\n",
       "      <th>17</th>\n",
       "      <td>(Model 3, Model 4, Model 5)</td>\n",
       "      <td>3.818083</td>\n",
       "    </tr>\n",
       "    <tr>\n",
       "      <th>18</th>\n",
       "      <td>(Model 3, Model 5)</td>\n",
       "      <td>3.818878</td>\n",
       "    </tr>\n",
       "    <tr>\n",
       "      <th>19</th>\n",
       "      <td>(Model 2, Model 3, Model 4)</td>\n",
       "      <td>3.821083</td>\n",
       "    </tr>\n",
       "    <tr>\n",
       "      <th>20</th>\n",
       "      <td>(Model 3, Model 4)</td>\n",
       "      <td>3.858664</td>\n",
       "    </tr>\n",
       "    <tr>\n",
       "      <th>21</th>\n",
       "      <td>(Model 4, Model 5)</td>\n",
       "      <td>3.861326</td>\n",
       "    </tr>\n",
       "    <tr>\n",
       "      <th>22</th>\n",
       "      <td>(Model 1, Model 3)</td>\n",
       "      <td>3.863214</td>\n",
       "    </tr>\n",
       "    <tr>\n",
       "      <th>23</th>\n",
       "      <td>(Model 1, Model 2, Model 3)</td>\n",
       "      <td>3.872814</td>\n",
       "    </tr>\n",
       "    <tr>\n",
       "      <th>24</th>\n",
       "      <td>(Model 2, Model 3)</td>\n",
       "      <td>3.882602</td>\n",
       "    </tr>\n",
       "    <tr>\n",
       "      <th>25</th>\n",
       "      <td>(Model 4,)</td>\n",
       "      <td>3.901265</td>\n",
       "    </tr>\n",
       "    <tr>\n",
       "      <th>26</th>\n",
       "      <td>(Model 3,)</td>\n",
       "      <td>3.930037</td>\n",
       "    </tr>\n",
       "    <tr>\n",
       "      <th>27</th>\n",
       "      <td>(Model 5,)</td>\n",
       "      <td>3.961425</td>\n",
       "    </tr>\n",
       "    <tr>\n",
       "      <th>28</th>\n",
       "      <td>(Model 1, Model 2)</td>\n",
       "      <td>3.969679</td>\n",
       "    </tr>\n",
       "    <tr>\n",
       "      <th>29</th>\n",
       "      <td>(Model 2,)</td>\n",
       "      <td>3.995195</td>\n",
       "    </tr>\n",
       "    <tr>\n",
       "      <th>30</th>\n",
       "      <td>(Model 1,)</td>\n",
       "      <td>4.081424</td>\n",
       "    </tr>\n",
       "  </tbody>\n",
       "</table>\n",
       "</div>"
      ],
      "text/plain": [
       "                                           Models    CV_MSE\n",
       "0                     (Model 1, Model 4, Model 5)  3.745852\n",
       "1            (Model 1, Model 2, Model 4, Model 5)  3.750419\n",
       "2                     (Model 1, Model 3, Model 5)  3.754361\n",
       "3            (Model 1, Model 3, Model 4, Model 5)  3.754469\n",
       "4                              (Model 1, Model 5)  3.758442\n",
       "5   (Model 1, Model 2, Model 3, Model 4, Model 5)  3.758829\n",
       "6                     (Model 2, Model 4, Model 5)  3.770804\n",
       "7            (Model 1, Model 2, Model 3, Model 5)  3.770859\n",
       "8                              (Model 2, Model 5)  3.774660\n",
       "9                     (Model 1, Model 2, Model 5)  3.774787\n",
       "10           (Model 2, Model 3, Model 4, Model 5)  3.778741\n",
       "11                    (Model 2, Model 3, Model 5)  3.779767\n",
       "12                             (Model 1, Model 4)  3.794428\n",
       "13                    (Model 1, Model 3, Model 4)  3.794722\n",
       "14           (Model 1, Model 2, Model 3, Model 4)  3.806855\n",
       "15                             (Model 2, Model 4)  3.812795\n",
       "16                    (Model 1, Model 2, Model 4)  3.814414\n",
       "17                    (Model 3, Model 4, Model 5)  3.818083\n",
       "18                             (Model 3, Model 5)  3.818878\n",
       "19                    (Model 2, Model 3, Model 4)  3.821083\n",
       "20                             (Model 3, Model 4)  3.858664\n",
       "21                             (Model 4, Model 5)  3.861326\n",
       "22                             (Model 1, Model 3)  3.863214\n",
       "23                    (Model 1, Model 2, Model 3)  3.872814\n",
       "24                             (Model 2, Model 3)  3.882602\n",
       "25                                     (Model 4,)  3.901265\n",
       "26                                     (Model 3,)  3.930037\n",
       "27                                     (Model 5,)  3.961425\n",
       "28                             (Model 1, Model 2)  3.969679\n",
       "29                                     (Model 2,)  3.995195\n",
       "30                                     (Model 1,)  4.081424"
      ]
     },
     "execution_count": 76,
     "metadata": {},
     "output_type": "execute_result"
    }
   ],
   "source": [
    "# Create 5 fold CV to evaluate the performance of each model combination\n",
    "k_fold = KFold(n_splits=5, shuffle=True, random_state=42)\n",
    "model_names = list(selected_predictors.keys())\n",
    "cv_mse = {}\n",
    "\n",
    "# Loop through all combinations of models\n",
    "for i in range(1, len(model_names) + 1):\n",
    "    for x in combinations(model_names, i): # Generate all combinations of model names of size i\n",
    "        fold_mse = [] # Store the MSE for each fold\n",
    "        for train_idx, val_idx in k_fold.split(X_vars_train):\n",
    "            y_train, y_val = y0_train[train_idx], y0_train[val_idx] # Split the training data into training and validation subsets\n",
    "            preds = [] # Store each of the predictions into this vector\n",
    "            for name in x: # Loop through each model in the combination\n",
    "                X_train = X_vars_train.iloc[train_idx][selected_predictors[name]] # Obtain the predictors for the training model\n",
    "                X_val   = X_vars_train.iloc[val_idx][selected_predictors[name]] # Obtain the predictors for the validation model\n",
    "                m = LinearRegression().fit(X_train, y_train) # Fit the multiple linear regression model on the training subset\n",
    "                preds.append(m.predict(X_val)) # Predict the validation subset and store the predictions\n",
    "            avg_pred = np.column_stack(preds).mean(axis=1) # Average the prediction from each model combination\n",
    "            fold_mse.append(mean_squared_error(y_val, avg_pred)) # Compute the MSE for this fold and then store it\n",
    "        cv_mse[x] = np.mean(fold_mse) # Once each fold is complete, average the MSE folds to get the CV error for this model combination\n",
    "\n",
    "sorted_cv_mse = sorted(cv_mse.items(), key=lambda x: x[1]) # Sort the model combinations by the smallest CV error\n",
    "cv_mse_df = pd.DataFrame(sorted_cv_mse, columns=[\"Models\", \"CV_MSE\"]) # Store the results into a dataframe\n",
    "cv_mse_df"
   ]
  },
  {
   "cell_type": "markdown",
   "metadata": {},
   "source": [
    "Given that the combination of Model 1, 4, and 5 performs the best. We will use this combination for our final prediction set."
   ]
  },
  {
   "cell_type": "markdown",
   "metadata": {},
   "source": [
    "## 3. Model Prediction"
   ]
  },
  {
   "cell_type": "markdown",
   "metadata": {},
   "source": [
    "In this section, for lasso model we will average the predictions from Model 1, 4, and 5 for our test set."
   ]
  },
  {
   "cell_type": "code",
   "execution_count": 77,
   "metadata": {},
   "outputs": [],
   "source": [
    "# Select the models of interest\n",
    "models_to_use = [\"Model 1\", \"Model 4\", \"Model 5\"]\n",
    "\n",
    "# Create a vector to store our predictions\n",
    "preds_test = []\n",
    "\n",
    "# Loop through each model, fit each model, and then make predictions using the set set\n",
    "for name in models_to_use:\n",
    "    cols = selected_predictors[name]\n",
    "    m = LinearRegression().fit(X_vars_train[cols], y0_train)\n",
    "    preds_test.append(m.predict(X_vars_test[cols]))  \n",
    "\n",
    "# Average the predictions from each model\n",
    "y_pred_test_lasso = np.column_stack(preds_test).mean(axis=1)\n",
    "\n"
   ]
  },
  {
   "cell_type": "markdown",
   "metadata": {},
   "source": [
    "And then combine PCA and Lasso together"
   ]
  },
  {
   "cell_type": "code",
   "execution_count": null,
   "metadata": {},
   "outputs": [],
   "source": [
    "# Average the predictions from the two models\n",
    "y_pred_test = (y_pred_test_pca + y_pred_test_lasso) / 2\n",
    "\n",
    "# Create the csv file for submission\n",
    "submission_ass4_url = \"https://github.com/joshcpld/ada/blob/main/Assignment%203/data/submission.csv?raw=true\"\n",
    "submission_ass4 = pd.read_csv(submission_ass4_url)\n",
    "submission_ass4 = pd.DataFrame({'ID': test_df['ID'], 'Y': y_pred_test})\n",
    "submission_ass4.to_csv('submission_ass4_group9.csv', index=False)"
   ]
  }
 ],
 "metadata": {
  "colab": {
   "authorship_tag": "ABX9TyPvBIKIXeyA8d1HnXg2gd6R",
   "provenance": [
    {
     "file_id": "1Q8i8Ak6979_V4txuQQsqFJff2QuPxReQ",
     "timestamp": 1723592159774
    }
   ]
  },
  "kernelspec": {
   "display_name": "base",
   "language": "python",
   "name": "python3"
  },
  "language_info": {
   "codemirror_mode": {
    "name": "ipython",
    "version": 3
   },
   "file_extension": ".py",
   "mimetype": "text/x-python",
   "name": "python",
   "nbconvert_exporter": "python",
   "pygments_lexer": "ipython3",
   "version": "3.12.4"
  }
 },
 "nbformat": 4,
 "nbformat_minor": 0
}
