{
 "cells": [
  {
   "cell_type": "markdown",
   "metadata": {
    "id": "8k-ZtyGzJDLX"
   },
   "source": [
    "# Task\n",
    "\n",
    "Keep using the One-piece [competition case](https://www.kaggle.com/t/f5f7783abf31495f9593b3d93a18f9eb).\n",
    "\n",
    "Build on your Assignment 4. Some ideas to improve the prediction.\n",
    "\n",
    "1. **factors!** Create factors by using principle components and use them in the regression to see if there is any improvement. You might have done some work in Assignment 4 already, but more details can still exist.\n",
    "\n",
    "    - Shall I use all variables or part of it?\n",
    "    - Which one goes first, LASSO or PCA? Or can I have layers of them? For example, LASSO first, PCA after, and then LASSO again.\n",
    "    - How many components should I use?\n",
    "    - Should the factors be added to or used to replace the existing regressors?\n",
    "    - Is there a chance to use interactions? Interactions of $X$ or PCs?\n",
    "    - How about patial least squares?\n",
    "\n",
    "2. **Nonparametrics!**\n",
    "    - Regression tree\n",
    "    - Random forest\n",
    "    - PC and tree/forest\n",
    "    - Nonlinearity (tSNE) and tree/forest\n",
    "    - We have not talked intensively about tuning. Can you choose a good *setting* by using the idea of CV?\n",
    "\n",
    "3. There is **NO need to do everything**. Find your interest first.\n",
    "It will be great if you can create new logical ideas.\n",
    "4. Get the test sample for prediction and submit your results on Kaggle to get your Kaggle score screenshot. Show the screenshot in the PDF file.\n",
    "5. The Kaggle score is a good reference for us to understand a model's OOS performance, but it does not dominate the marking scheme.\n",
    "\n",
    "**Note**\n",
    "\n",
    "- All instructions in Assignment 1 apply.\n",
    "- Use $\\leq 300$ words."
   ]
  }
 ],
 "metadata": {
  "colab": {
   "authorship_tag": "ABX9TyNGwCt0ePDWKXpTFiQR/JU/",
   "provenance": [
    {
     "file_id": "1hZLLSeg-OJYWQl-gIG5rjhjlcH7Ww2XG",
     "timestamp": 1726015580772
    }
   ]
  },
  "kernelspec": {
   "display_name": "Python 3",
   "name": "python3"
  },
  "language_info": {
   "name": "python"
  }
 },
 "nbformat": 4,
 "nbformat_minor": 0
}
