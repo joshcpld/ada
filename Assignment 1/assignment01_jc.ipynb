{
 "cells": [
  {
   "cell_type": "markdown",
   "id": "19e4b1f6",
   "metadata": {},
   "source": [
    "# Assignment 1"
   ]
  },
  {
   "cell_type": "markdown",
   "id": "1f167793",
   "metadata": {},
   "source": [
    "## Question 1\n",
    "\n",
    "Read the training sample to a Pandas data frame"
   ]
  },
  {
   "cell_type": "code",
   "execution_count": 5,
   "id": "1e760f3f",
   "metadata": {},
   "outputs": [
    {
     "name": "stdout",
     "output_type": "stream",
     "text": [
      "   ID         Y        X1        X2        X3        X4        X5        X6  \\\n",
      "0   0 -1.399091  1.174139  1.413109  0.164693 -1.067338  0.015324 -1.280970   \n",
      "1   1  3.097990  0.208922  0.931231  0.838779  0.893483 -0.510555  0.900289   \n",
      "2   2 -1.707346 -0.744982  0.962118  0.615392 -0.427943 -0.014912  1.138781   \n",
      "3   3  0.610625 -0.170428 -1.361771  0.206042  0.623124  0.907441 -0.873814   \n",
      "4   4 -0.689196 -0.858792  0.321308 -0.415649  1.014056 -0.522858  0.926634   \n",
      "\n",
      "         X7        X8  ...       X41       X42       X43       X44       X45  \\\n",
      "0  0.489681 -0.371982  ... -0.115044 -2.580043 -0.812428  0.772820 -0.460444   \n",
      "1 -0.042490  0.839400  ...  1.155635  0.673035 -0.438152 -0.001316 -0.761800   \n",
      "2  1.159491  0.055467  ...  0.299277  1.387495 -0.007519 -0.464825  0.830986   \n",
      "3  1.287383  0.901191  ...  1.209247  0.095866 -0.287905 -1.110714 -1.660352   \n",
      "4 -0.390663  0.790054  ... -1.191989 -1.127448  0.246358  0.407769  1.132454   \n",
      "\n",
      "        X46       X47       X48       X49       X50  \n",
      "0  0.190422 -0.362052 -1.119038  0.916313 -1.517434  \n",
      "1  1.335092  0.901978 -1.549504 -0.456224  0.223405  \n",
      "2  0.373124  0.319232 -0.577295 -1.363846 -0.347154  \n",
      "3  0.207231 -0.419119 -0.517563 -1.050697 -0.096327  \n",
      "4 -0.016621  0.964745  0.091532  0.649593 -0.818020  \n",
      "\n",
      "[5 rows x 52 columns]\n"
     ]
    }
   ],
   "source": [
    "import pandas as pd\n",
    "\n",
    "train_df = pd.read_csv(r\"data/train_data.csv\")\n",
    "\n",
    "print(train_df.head())"
   ]
  },
  {
   "cell_type": "markdown",
   "id": "fcab47e9",
   "metadata": {},
   "source": [
    "## Question 2\n",
    "\n",
    "Report the correlations of the explanatory variables with the dependent variable y."
   ]
  },
  {
   "cell_type": "code",
   "execution_count": 6,
   "id": "404f77e9",
   "metadata": {},
   "outputs": [
    {
     "name": "stdout",
     "output_type": "stream",
     "text": [
      "     Correlation with Y\n",
      "X34            0.330143\n",
      "X41            0.205901\n",
      "X48            0.180286\n",
      "X46            0.149633\n",
      "X16            0.149480\n",
      "X15            0.147115\n",
      "X26            0.144194\n",
      "X10            0.141671\n",
      "X1             0.135257\n",
      "X12            0.132727\n",
      "X30            0.126337\n",
      "X22            0.125427\n",
      "X14            0.123509\n",
      "X11            0.110485\n",
      "X5             0.110160\n",
      "X43            0.109876\n",
      "X20            0.104147\n",
      "X32            0.087633\n",
      "X36            0.083855\n",
      "X21            0.075033\n",
      "X31            0.038369\n",
      "X3             0.034430\n",
      "X33            0.027626\n",
      "X18            0.024968\n",
      "X25            0.022851\n",
      "X37            0.021334\n",
      "X39            0.019053\n",
      "X27            0.016782\n",
      "X7             0.014777\n",
      "X38            0.014546\n",
      "X17            0.013900\n",
      "X2             0.010244\n",
      "X6             0.008458\n",
      "X13            0.008407\n",
      "X50            0.007810\n",
      "X4             0.007688\n",
      "X24            0.005755\n",
      "X19            0.004383\n",
      "X8             0.002121\n",
      "X35            0.002038\n",
      "X47           -0.002924\n",
      "X44           -0.002959\n",
      "X42           -0.004132\n",
      "X45           -0.006230\n",
      "X29           -0.006680\n",
      "X40           -0.008522\n",
      "X23           -0.008549\n",
      "X9            -0.022106\n",
      "X49           -0.033080\n",
      "X28           -0.033331\n"
     ]
    }
   ],
   "source": [
    "correlations = train_df.filter(regex='^X').corrwith(train_df['Y'])\n",
    "correlation_table = correlations.to_frame(name='Correlation with Y')\n",
    "print(correlation_table.sort_values(by='Correlation with Y', ascending=False))"
   ]
  },
  {
   "cell_type": "markdown",
   "id": "7005d703",
   "metadata": {},
   "source": [
    "## Question 3\n",
    "\n",
    "Choose one explanatory variable, denoted by $x$, and estimate a simple linear model\n",
    "$$y=\\beta_0+\\beta_1x + \\epsilon$$"
   ]
  },
  {
   "cell_type": "code",
   "execution_count": 7,
   "id": "d23ca862",
   "metadata": {},
   "outputs": [
    {
     "name": "stdout",
     "output_type": "stream",
     "text": [
      "Estimated linear model: y = 0.436221 + 1.165047 * X34\n"
     ]
    }
   ],
   "source": [
    "# In Question 2, correlation_table indicates X34 has the highest correlation with Y - therefore this is our predictor for Y.\n",
    "\n",
    "from sklearn.linear_model import LinearRegression\n",
    "\n",
    "model_X34 = LinearRegression()\n",
    "model_X34.fit(train_df[['X34']], train_df['Y'])\n",
    "\n",
    "print(f\"Estimated linear model: y = {model_X34.intercept_:.6f} + {model_X34.coef_[0]:.6f} * X34\")"
   ]
  },
  {
   "cell_type": "markdown",
   "id": "421fa5d5",
   "metadata": {},
   "source": [
    "## Question 4\n",
    "\n",
    "Use the estimates of $\\beta_0$ and $\\beta_1$ and the testing sample to predict $y$.\n"
   ]
  },
  {
   "cell_type": "code",
   "execution_count": 8,
   "id": "50a6b0d5",
   "metadata": {},
   "outputs": [
    {
     "name": "stdout",
     "output_type": "stream",
     "text": [
      "        ID         Y\n",
      "0     2400  0.816814\n",
      "1     2401  1.255178\n",
      "2     2402  0.455569\n",
      "3     2403 -1.719227\n",
      "4     2404  1.828901\n",
      "...    ...       ...\n",
      "1595  3995  2.770799\n",
      "1596  3996  0.614231\n",
      "1597  3997  0.981965\n",
      "1598  3998  1.086963\n",
      "1599  3999  0.018341\n",
      "\n",
      "[1600 rows x 2 columns]\n"
     ]
    }
   ],
   "source": [
    "test_df = pd.read_csv(r\"data/test_data.csv\")\n",
    "test_df['Y'] = model_X34.intercept_ + model_X34.coef_[0]* test_df['X34']\n",
    "test_result_df = test_df[['ID', 'Y']]\n",
    "\n",
    "print(test_result_df)\n",
    "\n",
    "test_result_df.to_csv(\"jc/test_predictions_jc.csv\", index=False)"
   ]
  },
  {
   "cell_type": "markdown",
   "id": "5d0aa972",
   "metadata": {},
   "source": [
    "## Question 5\n",
    "\n",
    "Show your kaggle screenshot"
   ]
  },
  {
   "cell_type": "markdown",
   "id": "c5f28382",
   "metadata": {},
   "source": [
    "\n",
    "![Kaggle Submission Screenshot](jc/jc_attempt.png)\n"
   ]
  }
 ],
 "metadata": {
  "kernelspec": {
   "display_name": "Python 3",
   "language": "python",
   "name": "python3"
  },
  "language_info": {
   "codemirror_mode": {
    "name": "ipython",
    "version": 3
   },
   "file_extension": ".py",
   "mimetype": "text/x-python",
   "name": "python",
   "nbconvert_exporter": "python",
   "pygments_lexer": "ipython3",
   "version": "3.13.3"
  }
 },
 "nbformat": 4,
 "nbformat_minor": 5
}
