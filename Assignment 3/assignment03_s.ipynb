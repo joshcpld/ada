{
 "cells": [
  {
   "cell_type": "markdown",
   "metadata": {
    "id": "8k-ZtyGzJDLX"
   },
   "source": [
    "# Task\n",
    "\n",
    "Keep using the One-piece [competition case](https://www.kaggle.com/t/f5f7783abf31495f9593b3d93a18f9eb).\n",
    "\n",
    "This time, it is based on the multiple linear regression framework as in the Assignment 2 (yes, as a TV series).\n",
    "$$y=x'\\beta + \\epsilon.$$\n",
    "\n",
    "\n",
    "1. Have you transformed any variables?\n",
    "Polynomial transformation? Interactions?\n",
    "1. Week 6 will talk about LOWESS, a simple nonparametric method.\n",
    "1. Model averaging (or model assembly in ML language, stacking in particular). If you have a few competitive models, sometimes, the average of their predictions is better than any single model's prediction.\n",
    "1. Get the test sample for prediction and submit your results on Kaggle to get your Kaggle score screenshot. Show the screenshot in the PDF file.\n",
    "\n",
    "**Note:**\n",
    "- All instructions in Assignment 1 apply.\n",
    "- Use $\\leq 300$ words."
   ]
  }
 ],
 "metadata": {
  "colab": {
   "authorship_tag": "ABX9TyPvBIKIXeyA8d1HnXg2gd6R",
   "provenance": [
    {
     "file_id": "1Q8i8Ak6979_V4txuQQsqFJff2QuPxReQ",
     "timestamp": 1723592159774
    }
   ]
  },
  "kernelspec": {
   "display_name": "Python 3",
   "name": "python3"
  },
  "language_info": {
   "name": "python"
  }
 },
 "nbformat": 4,
 "nbformat_minor": 0
}
