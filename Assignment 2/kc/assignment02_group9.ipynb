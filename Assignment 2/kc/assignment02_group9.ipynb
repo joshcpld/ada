{
 "cells": [
  {
   "cell_type": "markdown",
   "id": "b1da3b0c",
   "metadata": {},
   "source": [
    "# ADA Group 9 - Assignment 2"
   ]
  },
  {
   "cell_type": "markdown",
   "id": "99059924",
   "metadata": {},
   "source": [
    "# Task\n",
    "\n",
    "Use the One-piece [competition case](https://www.kaggle.com/t/f5f7783abf31495f9593b3d93a18f9eb).\n",
    "\n",
    "1. Read the training sample to a Pandas dataframe.\n",
    "1. Extending Assignment 1, now consider multiple linear regression models.\n",
    "$$y=\\beta_0+\\beta_1x_1+\\beta_2x_2+...+\\beta_Kx_K + \\epsilon$$\n",
    "1. Choose **one** multiple linear regression model and make predictions from the test data set.\n",
    "    - Clearly, model choice is an art now...\n",
    "    - Possibly, use forward search or backward search,\n",
    "    - or try Benjamini-Hochberg method,\n",
    "    - or consider some K-fold method for model selection,\n",
    "    - or use your experience to select key variables,\n",
    "    - or eavesdrop your rivals,\n",
    "    - or create new variables based on existing ones,\n",
    "    - or Lasso it,\n",
    "    - or some technique combination.\n",
    "    - This is a typical example of open-ended questions.\n",
    "1. Get the test sample for prediction and submit your results on Kaggle to get your Kaggle score screenshot. Show the screenshot in the PDF file."
   ]
  },
  {
   "cell_type": "markdown",
   "id": "8bc0a6aa",
   "metadata": {},
   "source": [
    "## Install Packages"
   ]
  },
  {
   "cell_type": "code",
   "execution_count": 39,
   "id": "d9864408",
   "metadata": {},
   "outputs": [],
   "source": [
    "import pandas as pd\n",
    "import numpy as np\n",
    "import plotly.express as px # pyright: ignore[reportMissingImports] t\n",
    "import plotly.graph_objects as go # pyright: ignore[reportMissingImports] t\n",
    "from sklearn.linear_model import Lasso, LinearRegression, LogisticRegression, LassoCV, ElasticNetCV, ElasticNet, RidgeCV, Ridge # pyright: ignore[reportMissingModuleSource]\n",
    "from sklearn.model_selection import train_test_split, GridSearchCV # pyright: ignore[reportMissingModuleSource]\n",
    "from sklearn.preprocessing import StandardScaler # pyright: ignore[reportMissingModuleSource]\n",
    "from sklearn.model_selection import cross_val_score\n",
    "from sklearn.metrics import accuracy_score,mean_squared_error, make_scorer # pyright: ignore[reportMissingModuleSource]\n",
    "import statsmodels.api as sm # pyright: ignore[reportMissingImports] "
   ]
  },
  {
   "cell_type": "markdown",
   "id": "f574493a",
   "metadata": {},
   "source": [
    "## 1. Read Data"
   ]
  },
  {
   "cell_type": "code",
   "execution_count": 40,
   "id": "2e6aa525",
   "metadata": {},
   "outputs": [
    {
     "data": {
      "text/html": [
       "<div>\n",
       "<style scoped>\n",
       "    .dataframe tbody tr th:only-of-type {\n",
       "        vertical-align: middle;\n",
       "    }\n",
       "\n",
       "    .dataframe tbody tr th {\n",
       "        vertical-align: top;\n",
       "    }\n",
       "\n",
       "    .dataframe thead th {\n",
       "        text-align: right;\n",
       "    }\n",
       "</style>\n",
       "<table border=\"1\" class=\"dataframe\">\n",
       "  <thead>\n",
       "    <tr style=\"text-align: right;\">\n",
       "      <th></th>\n",
       "      <th>ID</th>\n",
       "      <th>Y</th>\n",
       "      <th>X1</th>\n",
       "      <th>X2</th>\n",
       "      <th>X3</th>\n",
       "      <th>X4</th>\n",
       "      <th>X5</th>\n",
       "      <th>X6</th>\n",
       "      <th>X7</th>\n",
       "      <th>X8</th>\n",
       "      <th>...</th>\n",
       "      <th>X41</th>\n",
       "      <th>X42</th>\n",
       "      <th>X43</th>\n",
       "      <th>X44</th>\n",
       "      <th>X45</th>\n",
       "      <th>X46</th>\n",
       "      <th>X47</th>\n",
       "      <th>X48</th>\n",
       "      <th>X49</th>\n",
       "      <th>X50</th>\n",
       "    </tr>\n",
       "  </thead>\n",
       "  <tbody>\n",
       "    <tr>\n",
       "      <th>0</th>\n",
       "      <td>0</td>\n",
       "      <td>-1.399091</td>\n",
       "      <td>1.174139</td>\n",
       "      <td>1.413109</td>\n",
       "      <td>0.164693</td>\n",
       "      <td>-1.067338</td>\n",
       "      <td>0.015324</td>\n",
       "      <td>-1.280970</td>\n",
       "      <td>0.489681</td>\n",
       "      <td>-0.371982</td>\n",
       "      <td>...</td>\n",
       "      <td>-0.115044</td>\n",
       "      <td>-2.580043</td>\n",
       "      <td>-0.812428</td>\n",
       "      <td>0.772820</td>\n",
       "      <td>-0.460444</td>\n",
       "      <td>0.190422</td>\n",
       "      <td>-0.362052</td>\n",
       "      <td>-1.119038</td>\n",
       "      <td>0.916313</td>\n",
       "      <td>-1.517434</td>\n",
       "    </tr>\n",
       "    <tr>\n",
       "      <th>1</th>\n",
       "      <td>1</td>\n",
       "      <td>3.097990</td>\n",
       "      <td>0.208922</td>\n",
       "      <td>0.931231</td>\n",
       "      <td>0.838779</td>\n",
       "      <td>0.893483</td>\n",
       "      <td>-0.510555</td>\n",
       "      <td>0.900289</td>\n",
       "      <td>-0.042490</td>\n",
       "      <td>0.839400</td>\n",
       "      <td>...</td>\n",
       "      <td>1.155635</td>\n",
       "      <td>0.673035</td>\n",
       "      <td>-0.438152</td>\n",
       "      <td>-0.001316</td>\n",
       "      <td>-0.761800</td>\n",
       "      <td>1.335092</td>\n",
       "      <td>0.901978</td>\n",
       "      <td>-1.549504</td>\n",
       "      <td>-0.456224</td>\n",
       "      <td>0.223405</td>\n",
       "    </tr>\n",
       "    <tr>\n",
       "      <th>2</th>\n",
       "      <td>2</td>\n",
       "      <td>-1.707346</td>\n",
       "      <td>-0.744982</td>\n",
       "      <td>0.962118</td>\n",
       "      <td>0.615392</td>\n",
       "      <td>-0.427943</td>\n",
       "      <td>-0.014912</td>\n",
       "      <td>1.138781</td>\n",
       "      <td>1.159491</td>\n",
       "      <td>0.055467</td>\n",
       "      <td>...</td>\n",
       "      <td>0.299277</td>\n",
       "      <td>1.387495</td>\n",
       "      <td>-0.007519</td>\n",
       "      <td>-0.464825</td>\n",
       "      <td>0.830986</td>\n",
       "      <td>0.373124</td>\n",
       "      <td>0.319232</td>\n",
       "      <td>-0.577295</td>\n",
       "      <td>-1.363846</td>\n",
       "      <td>-0.347154</td>\n",
       "    </tr>\n",
       "    <tr>\n",
       "      <th>3</th>\n",
       "      <td>3</td>\n",
       "      <td>0.610625</td>\n",
       "      <td>-0.170428</td>\n",
       "      <td>-1.361771</td>\n",
       "      <td>0.206042</td>\n",
       "      <td>0.623124</td>\n",
       "      <td>0.907441</td>\n",
       "      <td>-0.873814</td>\n",
       "      <td>1.287383</td>\n",
       "      <td>0.901191</td>\n",
       "      <td>...</td>\n",
       "      <td>1.209247</td>\n",
       "      <td>0.095866</td>\n",
       "      <td>-0.287905</td>\n",
       "      <td>-1.110714</td>\n",
       "      <td>-1.660352</td>\n",
       "      <td>0.207231</td>\n",
       "      <td>-0.419119</td>\n",
       "      <td>-0.517563</td>\n",
       "      <td>-1.050697</td>\n",
       "      <td>-0.096327</td>\n",
       "    </tr>\n",
       "    <tr>\n",
       "      <th>4</th>\n",
       "      <td>4</td>\n",
       "      <td>-0.689196</td>\n",
       "      <td>-0.858792</td>\n",
       "      <td>0.321308</td>\n",
       "      <td>-0.415649</td>\n",
       "      <td>1.014056</td>\n",
       "      <td>-0.522858</td>\n",
       "      <td>0.926634</td>\n",
       "      <td>-0.390663</td>\n",
       "      <td>0.790054</td>\n",
       "      <td>...</td>\n",
       "      <td>-1.191989</td>\n",
       "      <td>-1.127448</td>\n",
       "      <td>0.246358</td>\n",
       "      <td>0.407769</td>\n",
       "      <td>1.132454</td>\n",
       "      <td>-0.016621</td>\n",
       "      <td>0.964745</td>\n",
       "      <td>0.091532</td>\n",
       "      <td>0.649593</td>\n",
       "      <td>-0.818020</td>\n",
       "    </tr>\n",
       "  </tbody>\n",
       "</table>\n",
       "<p>5 rows × 52 columns</p>\n",
       "</div>"
      ],
      "text/plain": [
       "   ID         Y        X1        X2        X3        X4        X5        X6  \\\n",
       "0   0 -1.399091  1.174139  1.413109  0.164693 -1.067338  0.015324 -1.280970   \n",
       "1   1  3.097990  0.208922  0.931231  0.838779  0.893483 -0.510555  0.900289   \n",
       "2   2 -1.707346 -0.744982  0.962118  0.615392 -0.427943 -0.014912  1.138781   \n",
       "3   3  0.610625 -0.170428 -1.361771  0.206042  0.623124  0.907441 -0.873814   \n",
       "4   4 -0.689196 -0.858792  0.321308 -0.415649  1.014056 -0.522858  0.926634   \n",
       "\n",
       "         X7        X8  ...       X41       X42       X43       X44       X45  \\\n",
       "0  0.489681 -0.371982  ... -0.115044 -2.580043 -0.812428  0.772820 -0.460444   \n",
       "1 -0.042490  0.839400  ...  1.155635  0.673035 -0.438152 -0.001316 -0.761800   \n",
       "2  1.159491  0.055467  ...  0.299277  1.387495 -0.007519 -0.464825  0.830986   \n",
       "3  1.287383  0.901191  ...  1.209247  0.095866 -0.287905 -1.110714 -1.660352   \n",
       "4 -0.390663  0.790054  ... -1.191989 -1.127448  0.246358  0.407769  1.132454   \n",
       "\n",
       "        X46       X47       X48       X49       X50  \n",
       "0  0.190422 -0.362052 -1.119038  0.916313 -1.517434  \n",
       "1  1.335092  0.901978 -1.549504 -0.456224  0.223405  \n",
       "2  0.373124  0.319232 -0.577295 -1.363846 -0.347154  \n",
       "3  0.207231 -0.419119 -0.517563 -1.050697 -0.096327  \n",
       "4 -0.016621  0.964745  0.091532  0.649593 -0.818020  \n",
       "\n",
       "[5 rows x 52 columns]"
      ]
     },
     "execution_count": 40,
     "metadata": {},
     "output_type": "execute_result"
    }
   ],
   "source": [
    "train_df = pd.read_csv('../data/train_data.csv')\n",
    "train_df.head()"
   ]
  },
  {
   "cell_type": "markdown",
   "id": "25c6adf4",
   "metadata": {},
   "source": [
    "## 2. LASSO with K-fold CV"
   ]
  },
  {
   "cell_type": "markdown",
   "id": "ad97aa6a",
   "metadata": {},
   "source": [
    "In this section, we begin with LASSO regularisation to reduce our parameter scope using cross-validation."
   ]
  },
  {
   "cell_type": "markdown",
   "id": "b8b13fdd",
   "metadata": {},
   "source": [
    "First, we scale the predictors to ensure comparability."
   ]
  },
  {
   "cell_type": "code",
   "execution_count": 41,
   "id": "e97bf4be",
   "metadata": {},
   "outputs": [],
   "source": [
    "# Separate the X predictors and Y outcome variable\n",
    "X0_train = train_df.drop(columns=['Y', 'ID'])\n",
    "y0_train = train_df['Y'].values\n",
    "\n",
    "# Scale the predictors\n",
    "scaler = StandardScaler()\n",
    "X1_train = scaler.fit_transform(X0_train)"
   ]
  },
  {
   "cell_type": "markdown",
   "id": "25434b13",
   "metadata": {},
   "source": [
    "Second, we select the 'optimal' alpha for LASSO regularisation (which we combine with cross-validation)."
   ]
  },
  {
   "cell_type": "code",
   "execution_count": 42,
   "id": "a3cb82ff",
   "metadata": {},
   "outputs": [
    {
     "name": "stdout",
     "output_type": "stream",
     "text": [
      "Optimal Alpha: 0.034304692863149154\n"
     ]
    }
   ],
   "source": [
    "lasso_cv_model = LassoCV(alphas=np.logspace(-5, 2, num=100), cv=10, max_iter=10000)\n",
    "\n",
    "# Fit the LassoCV model to the scaled training data\n",
    "lasso_cv_model.fit(X1_train, y0_train)\n",
    "\n",
    "# The optimal alpha selected by cross-validation\n",
    "optimal_alpha_lasso = lasso_cv_model.alpha_\n",
    "print(\"Optimal Alpha:\", optimal_alpha_lasso)"
   ]
  },
  {
   "cell_type": "code",
   "execution_count": 43,
   "id": "39c933e1",
   "metadata": {},
   "outputs": [
    {
     "data": {
      "text/html": [
       "<style>#sk-container-id-6 {\n",
       "  /* Definition of color scheme common for light and dark mode */\n",
       "  --sklearn-color-text: black;\n",
       "  --sklearn-color-line: gray;\n",
       "  /* Definition of color scheme for unfitted estimators */\n",
       "  --sklearn-color-unfitted-level-0: #fff5e6;\n",
       "  --sklearn-color-unfitted-level-1: #f6e4d2;\n",
       "  --sklearn-color-unfitted-level-2: #ffe0b3;\n",
       "  --sklearn-color-unfitted-level-3: chocolate;\n",
       "  /* Definition of color scheme for fitted estimators */\n",
       "  --sklearn-color-fitted-level-0: #f0f8ff;\n",
       "  --sklearn-color-fitted-level-1: #d4ebff;\n",
       "  --sklearn-color-fitted-level-2: #b3dbfd;\n",
       "  --sklearn-color-fitted-level-3: cornflowerblue;\n",
       "\n",
       "  /* Specific color for light theme */\n",
       "  --sklearn-color-text-on-default-background: var(--sg-text-color, var(--theme-code-foreground, var(--jp-content-font-color1, black)));\n",
       "  --sklearn-color-background: var(--sg-background-color, var(--theme-background, var(--jp-layout-color0, white)));\n",
       "  --sklearn-color-border-box: var(--sg-text-color, var(--theme-code-foreground, var(--jp-content-font-color1, black)));\n",
       "  --sklearn-color-icon: #696969;\n",
       "\n",
       "  @media (prefers-color-scheme: dark) {\n",
       "    /* Redefinition of color scheme for dark theme */\n",
       "    --sklearn-color-text-on-default-background: var(--sg-text-color, var(--theme-code-foreground, var(--jp-content-font-color1, white)));\n",
       "    --sklearn-color-background: var(--sg-background-color, var(--theme-background, var(--jp-layout-color0, #111)));\n",
       "    --sklearn-color-border-box: var(--sg-text-color, var(--theme-code-foreground, var(--jp-content-font-color1, white)));\n",
       "    --sklearn-color-icon: #878787;\n",
       "  }\n",
       "}\n",
       "\n",
       "#sk-container-id-6 {\n",
       "  color: var(--sklearn-color-text);\n",
       "}\n",
       "\n",
       "#sk-container-id-6 pre {\n",
       "  padding: 0;\n",
       "}\n",
       "\n",
       "#sk-container-id-6 input.sk-hidden--visually {\n",
       "  border: 0;\n",
       "  clip: rect(1px 1px 1px 1px);\n",
       "  clip: rect(1px, 1px, 1px, 1px);\n",
       "  height: 1px;\n",
       "  margin: -1px;\n",
       "  overflow: hidden;\n",
       "  padding: 0;\n",
       "  position: absolute;\n",
       "  width: 1px;\n",
       "}\n",
       "\n",
       "#sk-container-id-6 div.sk-dashed-wrapped {\n",
       "  border: 1px dashed var(--sklearn-color-line);\n",
       "  margin: 0 0.4em 0.5em 0.4em;\n",
       "  box-sizing: border-box;\n",
       "  padding-bottom: 0.4em;\n",
       "  background-color: var(--sklearn-color-background);\n",
       "}\n",
       "\n",
       "#sk-container-id-6 div.sk-container {\n",
       "  /* jupyter's `normalize.less` sets `[hidden] { display: none; }`\n",
       "     but bootstrap.min.css set `[hidden] { display: none !important; }`\n",
       "     so we also need the `!important` here to be able to override the\n",
       "     default hidden behavior on the sphinx rendered scikit-learn.org.\n",
       "     See: https://github.com/scikit-learn/scikit-learn/issues/21755 */\n",
       "  display: inline-block !important;\n",
       "  position: relative;\n",
       "}\n",
       "\n",
       "#sk-container-id-6 div.sk-text-repr-fallback {\n",
       "  display: none;\n",
       "}\n",
       "\n",
       "div.sk-parallel-item,\n",
       "div.sk-serial,\n",
       "div.sk-item {\n",
       "  /* draw centered vertical line to link estimators */\n",
       "  background-image: linear-gradient(var(--sklearn-color-text-on-default-background), var(--sklearn-color-text-on-default-background));\n",
       "  background-size: 2px 100%;\n",
       "  background-repeat: no-repeat;\n",
       "  background-position: center center;\n",
       "}\n",
       "\n",
       "/* Parallel-specific style estimator block */\n",
       "\n",
       "#sk-container-id-6 div.sk-parallel-item::after {\n",
       "  content: \"\";\n",
       "  width: 100%;\n",
       "  border-bottom: 2px solid var(--sklearn-color-text-on-default-background);\n",
       "  flex-grow: 1;\n",
       "}\n",
       "\n",
       "#sk-container-id-6 div.sk-parallel {\n",
       "  display: flex;\n",
       "  align-items: stretch;\n",
       "  justify-content: center;\n",
       "  background-color: var(--sklearn-color-background);\n",
       "  position: relative;\n",
       "}\n",
       "\n",
       "#sk-container-id-6 div.sk-parallel-item {\n",
       "  display: flex;\n",
       "  flex-direction: column;\n",
       "}\n",
       "\n",
       "#sk-container-id-6 div.sk-parallel-item:first-child::after {\n",
       "  align-self: flex-end;\n",
       "  width: 50%;\n",
       "}\n",
       "\n",
       "#sk-container-id-6 div.sk-parallel-item:last-child::after {\n",
       "  align-self: flex-start;\n",
       "  width: 50%;\n",
       "}\n",
       "\n",
       "#sk-container-id-6 div.sk-parallel-item:only-child::after {\n",
       "  width: 0;\n",
       "}\n",
       "\n",
       "/* Serial-specific style estimator block */\n",
       "\n",
       "#sk-container-id-6 div.sk-serial {\n",
       "  display: flex;\n",
       "  flex-direction: column;\n",
       "  align-items: center;\n",
       "  background-color: var(--sklearn-color-background);\n",
       "  padding-right: 1em;\n",
       "  padding-left: 1em;\n",
       "}\n",
       "\n",
       "\n",
       "/* Toggleable style: style used for estimator/Pipeline/ColumnTransformer box that is\n",
       "clickable and can be expanded/collapsed.\n",
       "- Pipeline and ColumnTransformer use this feature and define the default style\n",
       "- Estimators will overwrite some part of the style using the `sk-estimator` class\n",
       "*/\n",
       "\n",
       "/* Pipeline and ColumnTransformer style (default) */\n",
       "\n",
       "#sk-container-id-6 div.sk-toggleable {\n",
       "  /* Default theme specific background. It is overwritten whether we have a\n",
       "  specific estimator or a Pipeline/ColumnTransformer */\n",
       "  background-color: var(--sklearn-color-background);\n",
       "}\n",
       "\n",
       "/* Toggleable label */\n",
       "#sk-container-id-6 label.sk-toggleable__label {\n",
       "  cursor: pointer;\n",
       "  display: block;\n",
       "  width: 100%;\n",
       "  margin-bottom: 0;\n",
       "  padding: 0.5em;\n",
       "  box-sizing: border-box;\n",
       "  text-align: center;\n",
       "}\n",
       "\n",
       "#sk-container-id-6 label.sk-toggleable__label-arrow:before {\n",
       "  /* Arrow on the left of the label */\n",
       "  content: \"▸\";\n",
       "  float: left;\n",
       "  margin-right: 0.25em;\n",
       "  color: var(--sklearn-color-icon);\n",
       "}\n",
       "\n",
       "#sk-container-id-6 label.sk-toggleable__label-arrow:hover:before {\n",
       "  color: var(--sklearn-color-text);\n",
       "}\n",
       "\n",
       "/* Toggleable content - dropdown */\n",
       "\n",
       "#sk-container-id-6 div.sk-toggleable__content {\n",
       "  max-height: 0;\n",
       "  max-width: 0;\n",
       "  overflow: hidden;\n",
       "  text-align: left;\n",
       "  /* unfitted */\n",
       "  background-color: var(--sklearn-color-unfitted-level-0);\n",
       "}\n",
       "\n",
       "#sk-container-id-6 div.sk-toggleable__content.fitted {\n",
       "  /* fitted */\n",
       "  background-color: var(--sklearn-color-fitted-level-0);\n",
       "}\n",
       "\n",
       "#sk-container-id-6 div.sk-toggleable__content pre {\n",
       "  margin: 0.2em;\n",
       "  border-radius: 0.25em;\n",
       "  color: var(--sklearn-color-text);\n",
       "  /* unfitted */\n",
       "  background-color: var(--sklearn-color-unfitted-level-0);\n",
       "}\n",
       "\n",
       "#sk-container-id-6 div.sk-toggleable__content.fitted pre {\n",
       "  /* unfitted */\n",
       "  background-color: var(--sklearn-color-fitted-level-0);\n",
       "}\n",
       "\n",
       "#sk-container-id-6 input.sk-toggleable__control:checked~div.sk-toggleable__content {\n",
       "  /* Expand drop-down */\n",
       "  max-height: 200px;\n",
       "  max-width: 100%;\n",
       "  overflow: auto;\n",
       "}\n",
       "\n",
       "#sk-container-id-6 input.sk-toggleable__control:checked~label.sk-toggleable__label-arrow:before {\n",
       "  content: \"▾\";\n",
       "}\n",
       "\n",
       "/* Pipeline/ColumnTransformer-specific style */\n",
       "\n",
       "#sk-container-id-6 div.sk-label input.sk-toggleable__control:checked~label.sk-toggleable__label {\n",
       "  color: var(--sklearn-color-text);\n",
       "  background-color: var(--sklearn-color-unfitted-level-2);\n",
       "}\n",
       "\n",
       "#sk-container-id-6 div.sk-label.fitted input.sk-toggleable__control:checked~label.sk-toggleable__label {\n",
       "  background-color: var(--sklearn-color-fitted-level-2);\n",
       "}\n",
       "\n",
       "/* Estimator-specific style */\n",
       "\n",
       "/* Colorize estimator box */\n",
       "#sk-container-id-6 div.sk-estimator input.sk-toggleable__control:checked~label.sk-toggleable__label {\n",
       "  /* unfitted */\n",
       "  background-color: var(--sklearn-color-unfitted-level-2);\n",
       "}\n",
       "\n",
       "#sk-container-id-6 div.sk-estimator.fitted input.sk-toggleable__control:checked~label.sk-toggleable__label {\n",
       "  /* fitted */\n",
       "  background-color: var(--sklearn-color-fitted-level-2);\n",
       "}\n",
       "\n",
       "#sk-container-id-6 div.sk-label label.sk-toggleable__label,\n",
       "#sk-container-id-6 div.sk-label label {\n",
       "  /* The background is the default theme color */\n",
       "  color: var(--sklearn-color-text-on-default-background);\n",
       "}\n",
       "\n",
       "/* On hover, darken the color of the background */\n",
       "#sk-container-id-6 div.sk-label:hover label.sk-toggleable__label {\n",
       "  color: var(--sklearn-color-text);\n",
       "  background-color: var(--sklearn-color-unfitted-level-2);\n",
       "}\n",
       "\n",
       "/* Label box, darken color on hover, fitted */\n",
       "#sk-container-id-6 div.sk-label.fitted:hover label.sk-toggleable__label.fitted {\n",
       "  color: var(--sklearn-color-text);\n",
       "  background-color: var(--sklearn-color-fitted-level-2);\n",
       "}\n",
       "\n",
       "/* Estimator label */\n",
       "\n",
       "#sk-container-id-6 div.sk-label label {\n",
       "  font-family: monospace;\n",
       "  font-weight: bold;\n",
       "  display: inline-block;\n",
       "  line-height: 1.2em;\n",
       "}\n",
       "\n",
       "#sk-container-id-6 div.sk-label-container {\n",
       "  text-align: center;\n",
       "}\n",
       "\n",
       "/* Estimator-specific */\n",
       "#sk-container-id-6 div.sk-estimator {\n",
       "  font-family: monospace;\n",
       "  border: 1px dotted var(--sklearn-color-border-box);\n",
       "  border-radius: 0.25em;\n",
       "  box-sizing: border-box;\n",
       "  margin-bottom: 0.5em;\n",
       "  /* unfitted */\n",
       "  background-color: var(--sklearn-color-unfitted-level-0);\n",
       "}\n",
       "\n",
       "#sk-container-id-6 div.sk-estimator.fitted {\n",
       "  /* fitted */\n",
       "  background-color: var(--sklearn-color-fitted-level-0);\n",
       "}\n",
       "\n",
       "/* on hover */\n",
       "#sk-container-id-6 div.sk-estimator:hover {\n",
       "  /* unfitted */\n",
       "  background-color: var(--sklearn-color-unfitted-level-2);\n",
       "}\n",
       "\n",
       "#sk-container-id-6 div.sk-estimator.fitted:hover {\n",
       "  /* fitted */\n",
       "  background-color: var(--sklearn-color-fitted-level-2);\n",
       "}\n",
       "\n",
       "/* Specification for estimator info (e.g. \"i\" and \"?\") */\n",
       "\n",
       "/* Common style for \"i\" and \"?\" */\n",
       "\n",
       ".sk-estimator-doc-link,\n",
       "a:link.sk-estimator-doc-link,\n",
       "a:visited.sk-estimator-doc-link {\n",
       "  float: right;\n",
       "  font-size: smaller;\n",
       "  line-height: 1em;\n",
       "  font-family: monospace;\n",
       "  background-color: var(--sklearn-color-background);\n",
       "  border-radius: 1em;\n",
       "  height: 1em;\n",
       "  width: 1em;\n",
       "  text-decoration: none !important;\n",
       "  margin-left: 1ex;\n",
       "  /* unfitted */\n",
       "  border: var(--sklearn-color-unfitted-level-1) 1pt solid;\n",
       "  color: var(--sklearn-color-unfitted-level-1);\n",
       "}\n",
       "\n",
       ".sk-estimator-doc-link.fitted,\n",
       "a:link.sk-estimator-doc-link.fitted,\n",
       "a:visited.sk-estimator-doc-link.fitted {\n",
       "  /* fitted */\n",
       "  border: var(--sklearn-color-fitted-level-1) 1pt solid;\n",
       "  color: var(--sklearn-color-fitted-level-1);\n",
       "}\n",
       "\n",
       "/* On hover */\n",
       "div.sk-estimator:hover .sk-estimator-doc-link:hover,\n",
       ".sk-estimator-doc-link:hover,\n",
       "div.sk-label-container:hover .sk-estimator-doc-link:hover,\n",
       ".sk-estimator-doc-link:hover {\n",
       "  /* unfitted */\n",
       "  background-color: var(--sklearn-color-unfitted-level-3);\n",
       "  color: var(--sklearn-color-background);\n",
       "  text-decoration: none;\n",
       "}\n",
       "\n",
       "div.sk-estimator.fitted:hover .sk-estimator-doc-link.fitted:hover,\n",
       ".sk-estimator-doc-link.fitted:hover,\n",
       "div.sk-label-container:hover .sk-estimator-doc-link.fitted:hover,\n",
       ".sk-estimator-doc-link.fitted:hover {\n",
       "  /* fitted */\n",
       "  background-color: var(--sklearn-color-fitted-level-3);\n",
       "  color: var(--sklearn-color-background);\n",
       "  text-decoration: none;\n",
       "}\n",
       "\n",
       "/* Span, style for the box shown on hovering the info icon */\n",
       ".sk-estimator-doc-link span {\n",
       "  display: none;\n",
       "  z-index: 9999;\n",
       "  position: relative;\n",
       "  font-weight: normal;\n",
       "  right: .2ex;\n",
       "  padding: .5ex;\n",
       "  margin: .5ex;\n",
       "  width: min-content;\n",
       "  min-width: 20ex;\n",
       "  max-width: 50ex;\n",
       "  color: var(--sklearn-color-text);\n",
       "  box-shadow: 2pt 2pt 4pt #999;\n",
       "  /* unfitted */\n",
       "  background: var(--sklearn-color-unfitted-level-0);\n",
       "  border: .5pt solid var(--sklearn-color-unfitted-level-3);\n",
       "}\n",
       "\n",
       ".sk-estimator-doc-link.fitted span {\n",
       "  /* fitted */\n",
       "  background: var(--sklearn-color-fitted-level-0);\n",
       "  border: var(--sklearn-color-fitted-level-3);\n",
       "}\n",
       "\n",
       ".sk-estimator-doc-link:hover span {\n",
       "  display: block;\n",
       "}\n",
       "\n",
       "/* \"?\"-specific style due to the `<a>` HTML tag */\n",
       "\n",
       "#sk-container-id-6 a.estimator_doc_link {\n",
       "  float: right;\n",
       "  font-size: 1rem;\n",
       "  line-height: 1em;\n",
       "  font-family: monospace;\n",
       "  background-color: var(--sklearn-color-background);\n",
       "  border-radius: 1rem;\n",
       "  height: 1rem;\n",
       "  width: 1rem;\n",
       "  text-decoration: none;\n",
       "  /* unfitted */\n",
       "  color: var(--sklearn-color-unfitted-level-1);\n",
       "  border: var(--sklearn-color-unfitted-level-1) 1pt solid;\n",
       "}\n",
       "\n",
       "#sk-container-id-6 a.estimator_doc_link.fitted {\n",
       "  /* fitted */\n",
       "  border: var(--sklearn-color-fitted-level-1) 1pt solid;\n",
       "  color: var(--sklearn-color-fitted-level-1);\n",
       "}\n",
       "\n",
       "/* On hover */\n",
       "#sk-container-id-6 a.estimator_doc_link:hover {\n",
       "  /* unfitted */\n",
       "  background-color: var(--sklearn-color-unfitted-level-3);\n",
       "  color: var(--sklearn-color-background);\n",
       "  text-decoration: none;\n",
       "}\n",
       "\n",
       "#sk-container-id-6 a.estimator_doc_link.fitted:hover {\n",
       "  /* fitted */\n",
       "  background-color: var(--sklearn-color-fitted-level-3);\n",
       "}\n",
       "</style><div id=\"sk-container-id-6\" class=\"sk-top-container\"><div class=\"sk-text-repr-fallback\"><pre>Lasso(alpha=0.034304692863149154)</pre><b>In a Jupyter environment, please rerun this cell to show the HTML representation or trust the notebook. <br />On GitHub, the HTML representation is unable to render, please try loading this page with nbviewer.org.</b></div><div class=\"sk-container\" hidden><div class=\"sk-item\"><div class=\"sk-estimator fitted sk-toggleable\"><input class=\"sk-toggleable__control sk-hidden--visually\" id=\"sk-estimator-id-6\" type=\"checkbox\" checked><label for=\"sk-estimator-id-6\" class=\"sk-toggleable__label fitted sk-toggleable__label-arrow fitted\">&nbsp;&nbsp;Lasso<a class=\"sk-estimator-doc-link fitted\" rel=\"noreferrer\" target=\"_blank\" href=\"https://scikit-learn.org/1.4/modules/generated/sklearn.linear_model.Lasso.html\">?<span>Documentation for Lasso</span></a><span class=\"sk-estimator-doc-link fitted\">i<span>Fitted</span></span></label><div class=\"sk-toggleable__content fitted\"><pre>Lasso(alpha=0.034304692863149154)</pre></div> </div></div></div></div>"
      ],
      "text/plain": [
       "Lasso(alpha=0.034304692863149154)"
      ]
     },
     "execution_count": 43,
     "metadata": {},
     "output_type": "execute_result"
    }
   ],
   "source": [
    "lasso_cv_model = Lasso(alpha=optimal_alpha_lasso)\n",
    "lasso_cv_model.fit(X1_train, y0_train)\n",
    "lasso_cv_model"
   ]
  },
  {
   "cell_type": "markdown",
   "id": "b194b5df",
   "metadata": {},
   "source": [
    "## 3. Ridge Regularisation with K-fold CV"
   ]
  },
  {
   "cell_type": "markdown",
   "id": "e61cc619",
   "metadata": {},
   "source": [
    "In this section, we use ridge regularisation to reduce our parameter scope using cross-validation."
   ]
  },
  {
   "cell_type": "code",
   "execution_count": 44,
   "id": "46b7d090",
   "metadata": {},
   "outputs": [
    {
     "name": "stdout",
     "output_type": "stream",
     "text": [
      "Optimal Alpha: 72.20809018385457\n"
     ]
    }
   ],
   "source": [
    "ridge_cv_model = RidgeCV(alphas=np.logspace(-5, 2, num=100), cv=10, scoring='neg_mean_squared_error')\n",
    "\n",
    "# Fit the RidgeCV model to the scaled training data\n",
    "ridge_cv_model.fit(X1_train, y0_train)\n",
    "\n",
    "# The optimal alpha selected by cross-validation\n",
    "optimal_alpha_ridge = ridge_cv_model.alpha_\n",
    "print(\"Optimal Alpha:\", optimal_alpha_ridge)"
   ]
  },
  {
   "cell_type": "code",
   "execution_count": 45,
   "id": "e4afad38",
   "metadata": {},
   "outputs": [
    {
     "data": {
      "text/html": [
       "<style>#sk-container-id-7 {\n",
       "  /* Definition of color scheme common for light and dark mode */\n",
       "  --sklearn-color-text: black;\n",
       "  --sklearn-color-line: gray;\n",
       "  /* Definition of color scheme for unfitted estimators */\n",
       "  --sklearn-color-unfitted-level-0: #fff5e6;\n",
       "  --sklearn-color-unfitted-level-1: #f6e4d2;\n",
       "  --sklearn-color-unfitted-level-2: #ffe0b3;\n",
       "  --sklearn-color-unfitted-level-3: chocolate;\n",
       "  /* Definition of color scheme for fitted estimators */\n",
       "  --sklearn-color-fitted-level-0: #f0f8ff;\n",
       "  --sklearn-color-fitted-level-1: #d4ebff;\n",
       "  --sklearn-color-fitted-level-2: #b3dbfd;\n",
       "  --sklearn-color-fitted-level-3: cornflowerblue;\n",
       "\n",
       "  /* Specific color for light theme */\n",
       "  --sklearn-color-text-on-default-background: var(--sg-text-color, var(--theme-code-foreground, var(--jp-content-font-color1, black)));\n",
       "  --sklearn-color-background: var(--sg-background-color, var(--theme-background, var(--jp-layout-color0, white)));\n",
       "  --sklearn-color-border-box: var(--sg-text-color, var(--theme-code-foreground, var(--jp-content-font-color1, black)));\n",
       "  --sklearn-color-icon: #696969;\n",
       "\n",
       "  @media (prefers-color-scheme: dark) {\n",
       "    /* Redefinition of color scheme for dark theme */\n",
       "    --sklearn-color-text-on-default-background: var(--sg-text-color, var(--theme-code-foreground, var(--jp-content-font-color1, white)));\n",
       "    --sklearn-color-background: var(--sg-background-color, var(--theme-background, var(--jp-layout-color0, #111)));\n",
       "    --sklearn-color-border-box: var(--sg-text-color, var(--theme-code-foreground, var(--jp-content-font-color1, white)));\n",
       "    --sklearn-color-icon: #878787;\n",
       "  }\n",
       "}\n",
       "\n",
       "#sk-container-id-7 {\n",
       "  color: var(--sklearn-color-text);\n",
       "}\n",
       "\n",
       "#sk-container-id-7 pre {\n",
       "  padding: 0;\n",
       "}\n",
       "\n",
       "#sk-container-id-7 input.sk-hidden--visually {\n",
       "  border: 0;\n",
       "  clip: rect(1px 1px 1px 1px);\n",
       "  clip: rect(1px, 1px, 1px, 1px);\n",
       "  height: 1px;\n",
       "  margin: -1px;\n",
       "  overflow: hidden;\n",
       "  padding: 0;\n",
       "  position: absolute;\n",
       "  width: 1px;\n",
       "}\n",
       "\n",
       "#sk-container-id-7 div.sk-dashed-wrapped {\n",
       "  border: 1px dashed var(--sklearn-color-line);\n",
       "  margin: 0 0.4em 0.5em 0.4em;\n",
       "  box-sizing: border-box;\n",
       "  padding-bottom: 0.4em;\n",
       "  background-color: var(--sklearn-color-background);\n",
       "}\n",
       "\n",
       "#sk-container-id-7 div.sk-container {\n",
       "  /* jupyter's `normalize.less` sets `[hidden] { display: none; }`\n",
       "     but bootstrap.min.css set `[hidden] { display: none !important; }`\n",
       "     so we also need the `!important` here to be able to override the\n",
       "     default hidden behavior on the sphinx rendered scikit-learn.org.\n",
       "     See: https://github.com/scikit-learn/scikit-learn/issues/21755 */\n",
       "  display: inline-block !important;\n",
       "  position: relative;\n",
       "}\n",
       "\n",
       "#sk-container-id-7 div.sk-text-repr-fallback {\n",
       "  display: none;\n",
       "}\n",
       "\n",
       "div.sk-parallel-item,\n",
       "div.sk-serial,\n",
       "div.sk-item {\n",
       "  /* draw centered vertical line to link estimators */\n",
       "  background-image: linear-gradient(var(--sklearn-color-text-on-default-background), var(--sklearn-color-text-on-default-background));\n",
       "  background-size: 2px 100%;\n",
       "  background-repeat: no-repeat;\n",
       "  background-position: center center;\n",
       "}\n",
       "\n",
       "/* Parallel-specific style estimator block */\n",
       "\n",
       "#sk-container-id-7 div.sk-parallel-item::after {\n",
       "  content: \"\";\n",
       "  width: 100%;\n",
       "  border-bottom: 2px solid var(--sklearn-color-text-on-default-background);\n",
       "  flex-grow: 1;\n",
       "}\n",
       "\n",
       "#sk-container-id-7 div.sk-parallel {\n",
       "  display: flex;\n",
       "  align-items: stretch;\n",
       "  justify-content: center;\n",
       "  background-color: var(--sklearn-color-background);\n",
       "  position: relative;\n",
       "}\n",
       "\n",
       "#sk-container-id-7 div.sk-parallel-item {\n",
       "  display: flex;\n",
       "  flex-direction: column;\n",
       "}\n",
       "\n",
       "#sk-container-id-7 div.sk-parallel-item:first-child::after {\n",
       "  align-self: flex-end;\n",
       "  width: 50%;\n",
       "}\n",
       "\n",
       "#sk-container-id-7 div.sk-parallel-item:last-child::after {\n",
       "  align-self: flex-start;\n",
       "  width: 50%;\n",
       "}\n",
       "\n",
       "#sk-container-id-7 div.sk-parallel-item:only-child::after {\n",
       "  width: 0;\n",
       "}\n",
       "\n",
       "/* Serial-specific style estimator block */\n",
       "\n",
       "#sk-container-id-7 div.sk-serial {\n",
       "  display: flex;\n",
       "  flex-direction: column;\n",
       "  align-items: center;\n",
       "  background-color: var(--sklearn-color-background);\n",
       "  padding-right: 1em;\n",
       "  padding-left: 1em;\n",
       "}\n",
       "\n",
       "\n",
       "/* Toggleable style: style used for estimator/Pipeline/ColumnTransformer box that is\n",
       "clickable and can be expanded/collapsed.\n",
       "- Pipeline and ColumnTransformer use this feature and define the default style\n",
       "- Estimators will overwrite some part of the style using the `sk-estimator` class\n",
       "*/\n",
       "\n",
       "/* Pipeline and ColumnTransformer style (default) */\n",
       "\n",
       "#sk-container-id-7 div.sk-toggleable {\n",
       "  /* Default theme specific background. It is overwritten whether we have a\n",
       "  specific estimator or a Pipeline/ColumnTransformer */\n",
       "  background-color: var(--sklearn-color-background);\n",
       "}\n",
       "\n",
       "/* Toggleable label */\n",
       "#sk-container-id-7 label.sk-toggleable__label {\n",
       "  cursor: pointer;\n",
       "  display: block;\n",
       "  width: 100%;\n",
       "  margin-bottom: 0;\n",
       "  padding: 0.5em;\n",
       "  box-sizing: border-box;\n",
       "  text-align: center;\n",
       "}\n",
       "\n",
       "#sk-container-id-7 label.sk-toggleable__label-arrow:before {\n",
       "  /* Arrow on the left of the label */\n",
       "  content: \"▸\";\n",
       "  float: left;\n",
       "  margin-right: 0.25em;\n",
       "  color: var(--sklearn-color-icon);\n",
       "}\n",
       "\n",
       "#sk-container-id-7 label.sk-toggleable__label-arrow:hover:before {\n",
       "  color: var(--sklearn-color-text);\n",
       "}\n",
       "\n",
       "/* Toggleable content - dropdown */\n",
       "\n",
       "#sk-container-id-7 div.sk-toggleable__content {\n",
       "  max-height: 0;\n",
       "  max-width: 0;\n",
       "  overflow: hidden;\n",
       "  text-align: left;\n",
       "  /* unfitted */\n",
       "  background-color: var(--sklearn-color-unfitted-level-0);\n",
       "}\n",
       "\n",
       "#sk-container-id-7 div.sk-toggleable__content.fitted {\n",
       "  /* fitted */\n",
       "  background-color: var(--sklearn-color-fitted-level-0);\n",
       "}\n",
       "\n",
       "#sk-container-id-7 div.sk-toggleable__content pre {\n",
       "  margin: 0.2em;\n",
       "  border-radius: 0.25em;\n",
       "  color: var(--sklearn-color-text);\n",
       "  /* unfitted */\n",
       "  background-color: var(--sklearn-color-unfitted-level-0);\n",
       "}\n",
       "\n",
       "#sk-container-id-7 div.sk-toggleable__content.fitted pre {\n",
       "  /* unfitted */\n",
       "  background-color: var(--sklearn-color-fitted-level-0);\n",
       "}\n",
       "\n",
       "#sk-container-id-7 input.sk-toggleable__control:checked~div.sk-toggleable__content {\n",
       "  /* Expand drop-down */\n",
       "  max-height: 200px;\n",
       "  max-width: 100%;\n",
       "  overflow: auto;\n",
       "}\n",
       "\n",
       "#sk-container-id-7 input.sk-toggleable__control:checked~label.sk-toggleable__label-arrow:before {\n",
       "  content: \"▾\";\n",
       "}\n",
       "\n",
       "/* Pipeline/ColumnTransformer-specific style */\n",
       "\n",
       "#sk-container-id-7 div.sk-label input.sk-toggleable__control:checked~label.sk-toggleable__label {\n",
       "  color: var(--sklearn-color-text);\n",
       "  background-color: var(--sklearn-color-unfitted-level-2);\n",
       "}\n",
       "\n",
       "#sk-container-id-7 div.sk-label.fitted input.sk-toggleable__control:checked~label.sk-toggleable__label {\n",
       "  background-color: var(--sklearn-color-fitted-level-2);\n",
       "}\n",
       "\n",
       "/* Estimator-specific style */\n",
       "\n",
       "/* Colorize estimator box */\n",
       "#sk-container-id-7 div.sk-estimator input.sk-toggleable__control:checked~label.sk-toggleable__label {\n",
       "  /* unfitted */\n",
       "  background-color: var(--sklearn-color-unfitted-level-2);\n",
       "}\n",
       "\n",
       "#sk-container-id-7 div.sk-estimator.fitted input.sk-toggleable__control:checked~label.sk-toggleable__label {\n",
       "  /* fitted */\n",
       "  background-color: var(--sklearn-color-fitted-level-2);\n",
       "}\n",
       "\n",
       "#sk-container-id-7 div.sk-label label.sk-toggleable__label,\n",
       "#sk-container-id-7 div.sk-label label {\n",
       "  /* The background is the default theme color */\n",
       "  color: var(--sklearn-color-text-on-default-background);\n",
       "}\n",
       "\n",
       "/* On hover, darken the color of the background */\n",
       "#sk-container-id-7 div.sk-label:hover label.sk-toggleable__label {\n",
       "  color: var(--sklearn-color-text);\n",
       "  background-color: var(--sklearn-color-unfitted-level-2);\n",
       "}\n",
       "\n",
       "/* Label box, darken color on hover, fitted */\n",
       "#sk-container-id-7 div.sk-label.fitted:hover label.sk-toggleable__label.fitted {\n",
       "  color: var(--sklearn-color-text);\n",
       "  background-color: var(--sklearn-color-fitted-level-2);\n",
       "}\n",
       "\n",
       "/* Estimator label */\n",
       "\n",
       "#sk-container-id-7 div.sk-label label {\n",
       "  font-family: monospace;\n",
       "  font-weight: bold;\n",
       "  display: inline-block;\n",
       "  line-height: 1.2em;\n",
       "}\n",
       "\n",
       "#sk-container-id-7 div.sk-label-container {\n",
       "  text-align: center;\n",
       "}\n",
       "\n",
       "/* Estimator-specific */\n",
       "#sk-container-id-7 div.sk-estimator {\n",
       "  font-family: monospace;\n",
       "  border: 1px dotted var(--sklearn-color-border-box);\n",
       "  border-radius: 0.25em;\n",
       "  box-sizing: border-box;\n",
       "  margin-bottom: 0.5em;\n",
       "  /* unfitted */\n",
       "  background-color: var(--sklearn-color-unfitted-level-0);\n",
       "}\n",
       "\n",
       "#sk-container-id-7 div.sk-estimator.fitted {\n",
       "  /* fitted */\n",
       "  background-color: var(--sklearn-color-fitted-level-0);\n",
       "}\n",
       "\n",
       "/* on hover */\n",
       "#sk-container-id-7 div.sk-estimator:hover {\n",
       "  /* unfitted */\n",
       "  background-color: var(--sklearn-color-unfitted-level-2);\n",
       "}\n",
       "\n",
       "#sk-container-id-7 div.sk-estimator.fitted:hover {\n",
       "  /* fitted */\n",
       "  background-color: var(--sklearn-color-fitted-level-2);\n",
       "}\n",
       "\n",
       "/* Specification for estimator info (e.g. \"i\" and \"?\") */\n",
       "\n",
       "/* Common style for \"i\" and \"?\" */\n",
       "\n",
       ".sk-estimator-doc-link,\n",
       "a:link.sk-estimator-doc-link,\n",
       "a:visited.sk-estimator-doc-link {\n",
       "  float: right;\n",
       "  font-size: smaller;\n",
       "  line-height: 1em;\n",
       "  font-family: monospace;\n",
       "  background-color: var(--sklearn-color-background);\n",
       "  border-radius: 1em;\n",
       "  height: 1em;\n",
       "  width: 1em;\n",
       "  text-decoration: none !important;\n",
       "  margin-left: 1ex;\n",
       "  /* unfitted */\n",
       "  border: var(--sklearn-color-unfitted-level-1) 1pt solid;\n",
       "  color: var(--sklearn-color-unfitted-level-1);\n",
       "}\n",
       "\n",
       ".sk-estimator-doc-link.fitted,\n",
       "a:link.sk-estimator-doc-link.fitted,\n",
       "a:visited.sk-estimator-doc-link.fitted {\n",
       "  /* fitted */\n",
       "  border: var(--sklearn-color-fitted-level-1) 1pt solid;\n",
       "  color: var(--sklearn-color-fitted-level-1);\n",
       "}\n",
       "\n",
       "/* On hover */\n",
       "div.sk-estimator:hover .sk-estimator-doc-link:hover,\n",
       ".sk-estimator-doc-link:hover,\n",
       "div.sk-label-container:hover .sk-estimator-doc-link:hover,\n",
       ".sk-estimator-doc-link:hover {\n",
       "  /* unfitted */\n",
       "  background-color: var(--sklearn-color-unfitted-level-3);\n",
       "  color: var(--sklearn-color-background);\n",
       "  text-decoration: none;\n",
       "}\n",
       "\n",
       "div.sk-estimator.fitted:hover .sk-estimator-doc-link.fitted:hover,\n",
       ".sk-estimator-doc-link.fitted:hover,\n",
       "div.sk-label-container:hover .sk-estimator-doc-link.fitted:hover,\n",
       ".sk-estimator-doc-link.fitted:hover {\n",
       "  /* fitted */\n",
       "  background-color: var(--sklearn-color-fitted-level-3);\n",
       "  color: var(--sklearn-color-background);\n",
       "  text-decoration: none;\n",
       "}\n",
       "\n",
       "/* Span, style for the box shown on hovering the info icon */\n",
       ".sk-estimator-doc-link span {\n",
       "  display: none;\n",
       "  z-index: 9999;\n",
       "  position: relative;\n",
       "  font-weight: normal;\n",
       "  right: .2ex;\n",
       "  padding: .5ex;\n",
       "  margin: .5ex;\n",
       "  width: min-content;\n",
       "  min-width: 20ex;\n",
       "  max-width: 50ex;\n",
       "  color: var(--sklearn-color-text);\n",
       "  box-shadow: 2pt 2pt 4pt #999;\n",
       "  /* unfitted */\n",
       "  background: var(--sklearn-color-unfitted-level-0);\n",
       "  border: .5pt solid var(--sklearn-color-unfitted-level-3);\n",
       "}\n",
       "\n",
       ".sk-estimator-doc-link.fitted span {\n",
       "  /* fitted */\n",
       "  background: var(--sklearn-color-fitted-level-0);\n",
       "  border: var(--sklearn-color-fitted-level-3);\n",
       "}\n",
       "\n",
       ".sk-estimator-doc-link:hover span {\n",
       "  display: block;\n",
       "}\n",
       "\n",
       "/* \"?\"-specific style due to the `<a>` HTML tag */\n",
       "\n",
       "#sk-container-id-7 a.estimator_doc_link {\n",
       "  float: right;\n",
       "  font-size: 1rem;\n",
       "  line-height: 1em;\n",
       "  font-family: monospace;\n",
       "  background-color: var(--sklearn-color-background);\n",
       "  border-radius: 1rem;\n",
       "  height: 1rem;\n",
       "  width: 1rem;\n",
       "  text-decoration: none;\n",
       "  /* unfitted */\n",
       "  color: var(--sklearn-color-unfitted-level-1);\n",
       "  border: var(--sklearn-color-unfitted-level-1) 1pt solid;\n",
       "}\n",
       "\n",
       "#sk-container-id-7 a.estimator_doc_link.fitted {\n",
       "  /* fitted */\n",
       "  border: var(--sklearn-color-fitted-level-1) 1pt solid;\n",
       "  color: var(--sklearn-color-fitted-level-1);\n",
       "}\n",
       "\n",
       "/* On hover */\n",
       "#sk-container-id-7 a.estimator_doc_link:hover {\n",
       "  /* unfitted */\n",
       "  background-color: var(--sklearn-color-unfitted-level-3);\n",
       "  color: var(--sklearn-color-background);\n",
       "  text-decoration: none;\n",
       "}\n",
       "\n",
       "#sk-container-id-7 a.estimator_doc_link.fitted:hover {\n",
       "  /* fitted */\n",
       "  background-color: var(--sklearn-color-fitted-level-3);\n",
       "}\n",
       "</style><div id=\"sk-container-id-7\" class=\"sk-top-container\"><div class=\"sk-text-repr-fallback\"><pre>Ridge(alpha=72.20809018385457)</pre><b>In a Jupyter environment, please rerun this cell to show the HTML representation or trust the notebook. <br />On GitHub, the HTML representation is unable to render, please try loading this page with nbviewer.org.</b></div><div class=\"sk-container\" hidden><div class=\"sk-item\"><div class=\"sk-estimator fitted sk-toggleable\"><input class=\"sk-toggleable__control sk-hidden--visually\" id=\"sk-estimator-id-7\" type=\"checkbox\" checked><label for=\"sk-estimator-id-7\" class=\"sk-toggleable__label fitted sk-toggleable__label-arrow fitted\">&nbsp;&nbsp;Ridge<a class=\"sk-estimator-doc-link fitted\" rel=\"noreferrer\" target=\"_blank\" href=\"https://scikit-learn.org/1.4/modules/generated/sklearn.linear_model.Ridge.html\">?<span>Documentation for Ridge</span></a><span class=\"sk-estimator-doc-link fitted\">i<span>Fitted</span></span></label><div class=\"sk-toggleable__content fitted\"><pre>Ridge(alpha=72.20809018385457)</pre></div> </div></div></div></div>"
      ],
      "text/plain": [
       "Ridge(alpha=72.20809018385457)"
      ]
     },
     "execution_count": 45,
     "metadata": {},
     "output_type": "execute_result"
    }
   ],
   "source": [
    "ridge_cv_model = Ridge(alpha=optimal_alpha_ridge)\n",
    "ridge_cv_model.fit(X1_train, y0_train)\n",
    "ridge_cv_model"
   ]
  },
  {
   "cell_type": "markdown",
   "id": "1c9eb6e6",
   "metadata": {},
   "source": [
    "## 4. ElasticNet with K-fold CV"
   ]
  },
  {
   "cell_type": "markdown",
   "id": "aa4779e7",
   "metadata": {},
   "source": [
    "In this section, we expand on our use of LASSO and we use ElasticNet. This essentially incorporates both LASSO and Ridge regression for parameter regularisation."
   ]
  },
  {
   "cell_type": "code",
   "execution_count": 46,
   "id": "68ddcfd0",
   "metadata": {},
   "outputs": [
    {
     "name": "stdout",
     "output_type": "stream",
     "text": [
      "0.034304692863149154 1.0\n"
     ]
    }
   ],
   "source": [
    "# elastic net and cross-validation\n",
    "alphas = np.logspace(-5, 2, 100)  # Range of alpha values to test\n",
    "l1_ratios = [0.1, 0.5, 0.7, 0.9, 0.95, 0.99, 1]  # Range of l1_ratio values to test\n",
    "elastic_net = ElasticNetCV(alphas=np.logspace(-5, 2, 100), l1_ratio=l1_ratios, cv=10, max_iter=10000, n_jobs=-1)\n",
    "elastic_net.fit(X1_train, y0_train)\n",
    "best_alpha = elastic_net.alpha_\n",
    "best_l1_ratio = elastic_net.l1_ratio_\n",
    "\n",
    "# results\n",
    "print(best_alpha, best_l1_ratio)"
   ]
  },
  {
   "cell_type": "markdown",
   "id": "f02d6968",
   "metadata": {},
   "source": [
    "Let us compare LASSO CV, Ridge CV, and ElasticNet CV to OLS on a graph to see the effects of regularisation."
   ]
  },
  {
   "cell_type": "code",
   "execution_count": 47,
   "id": "ed47599e",
   "metadata": {},
   "outputs": [
    {
     "data": {
      "application/vnd.plotly.v1+json": {
       "config": {
        "plotlyServerURL": "https://plot.ly"
       },
       "data": [
        {
         "hovertemplate": "variable=OLS Coefficient<br>Feature=%{x}<br>Coefficient=%{y}<extra></extra>",
         "legendgroup": "OLS Coefficient",
         "marker": {
          "color": "#636efa",
          "symbol": "circle"
         },
         "mode": "markers",
         "name": "OLS Coefficient",
         "orientation": "v",
         "showlegend": true,
         "type": "scatter",
         "x": [
          "X1",
          "X2",
          "X3",
          "X4",
          "X5",
          "X6",
          "X7",
          "X8",
          "X9",
          "X10",
          "X11",
          "X12",
          "X13",
          "X14",
          "X15",
          "X16",
          "X17",
          "X18",
          "X19",
          "X20",
          "X21",
          "X22",
          "X23",
          "X24",
          "X25",
          "X26",
          "X27",
          "X28",
          "X29",
          "X30",
          "X31",
          "X32",
          "X33",
          "X34",
          "X35",
          "X36",
          "X37",
          "X38",
          "X39",
          "X40",
          "X41",
          "X42",
          "X43",
          "X44",
          "X45",
          "X46",
          "X47",
          "X48",
          "X49",
          "X50"
         ],
         "xaxis": "x",
         "y": [
          0.5504987486815401,
          -0.025776538168414298,
          0.10660282091571288,
          0.02259835730628676,
          0.424080937622252,
          0.054089008125157906,
          0.013963883222768814,
          0.006223910365111163,
          -0.03572373737368652,
          0.5406405438752689,
          0.41530705928921763,
          0.48089243447111985,
          0.03075745118367032,
          0.4205434260133137,
          0.48177159249520335,
          0.5630207517489663,
          -0.015498291961701494,
          0.03788055475521309,
          0.05513277782561313,
          0.4774532322099172,
          0.29153148379500105,
          0.4870213075147782,
          -0.03895120535386862,
          -0.03206042407238183,
          0.06235226706572011,
          0.5705599304357282,
          0.049928990435627985,
          -0.04488458994097089,
          -0.026142215428719875,
          0.43109170878719494,
          0.08265379338476653,
          0.34566753085653523,
          0.024134431149806235,
          1.2072104885288772,
          -0.05477017116452315,
          0.3053270882064717,
          0.06165030870350291,
          0.11541407697547314,
          0.033073458964001184,
          0.04157874755303198,
          0.7311535312645988,
          0.010671918526486503,
          0.3646624766355864,
          0.0046817770659362545,
          -0.0239780980302962,
          0.5096192009923729,
          0.057167941277175116,
          0.5974672405248922,
          -0.08656809312265264,
          0.018044467091408542
         ],
         "yaxis": "y"
        },
        {
         "hovertemplate": "variable=LASSO Coefficient<br>Feature=%{x}<br>Coefficient=%{y}<extra></extra>",
         "legendgroup": "LASSO Coefficient",
         "marker": {
          "color": "#EF553B",
          "symbol": "circle"
         },
         "mode": "markers",
         "name": "LASSO Coefficient",
         "orientation": "v",
         "showlegend": true,
         "type": "scatter",
         "x": [
          "X1",
          "X2",
          "X3",
          "X4",
          "X5",
          "X6",
          "X7",
          "X8",
          "X9",
          "X10",
          "X11",
          "X12",
          "X13",
          "X14",
          "X15",
          "X16",
          "X17",
          "X18",
          "X19",
          "X20",
          "X21",
          "X22",
          "X23",
          "X24",
          "X25",
          "X26",
          "X27",
          "X28",
          "X29",
          "X30",
          "X31",
          "X32",
          "X33",
          "X34",
          "X35",
          "X36",
          "X37",
          "X38",
          "X39",
          "X40",
          "X41",
          "X42",
          "X43",
          "X44",
          "X45",
          "X46",
          "X47",
          "X48",
          "X49",
          "X50"
         ],
         "xaxis": "x",
         "y": [
          0.5046852608472856,
          0,
          0.06973275063651888,
          0,
          0.3869520485412019,
          0.016533357155253222,
          0,
          0,
          -0.003845505848092763,
          0.5096106070584695,
          0.3799874472672576,
          0.43979245158251723,
          0,
          0.38887524548038827,
          0.45133868995562937,
          0.5253193224216357,
          0,
          0.008907212573540072,
          0.01596280780977088,
          0.43774677248781113,
          0.2558366076639993,
          0.4524509192802211,
          -0.005070024849003396,
          0,
          0.027579381384452623,
          0.5276509039363888,
          0.01532010450185901,
          -0.010493558657701914,
          0,
          0.3945792241533861,
          0.05214483187894518,
          0.30461123673927937,
          0,
          1.1746877052868383,
          -0.014437560814562668,
          0.2685022243373822,
          0.02781693197889578,
          0.07639954826243787,
          0.0056973641791366525,
          0.00005538250652933858,
          0.6967969162399182,
          0,
          0.3348614470250343,
          0,
          0,
          0.4800205612458901,
          0.01782675897828474,
          0.5673077351612463,
          -0.05341695559912419,
          0
         ],
         "yaxis": "y"
        },
        {
         "hovertemplate": "variable=ElasticNet Coefficient<br>Feature=%{x}<br>Coefficient=%{y}<extra></extra>",
         "legendgroup": "ElasticNet Coefficient",
         "marker": {
          "color": "#00cc96",
          "symbol": "circle"
         },
         "mode": "markers",
         "name": "ElasticNet Coefficient",
         "orientation": "v",
         "showlegend": true,
         "type": "scatter",
         "x": [
          "X1",
          "X2",
          "X3",
          "X4",
          "X5",
          "X6",
          "X7",
          "X8",
          "X9",
          "X10",
          "X11",
          "X12",
          "X13",
          "X14",
          "X15",
          "X16",
          "X17",
          "X18",
          "X19",
          "X20",
          "X21",
          "X22",
          "X23",
          "X24",
          "X25",
          "X26",
          "X27",
          "X28",
          "X29",
          "X30",
          "X31",
          "X32",
          "X33",
          "X34",
          "X35",
          "X36",
          "X37",
          "X38",
          "X39",
          "X40",
          "X41",
          "X42",
          "X43",
          "X44",
          "X45",
          "X46",
          "X47",
          "X48",
          "X49",
          "X50"
         ],
         "xaxis": "x",
         "y": [
          0.5046852608472856,
          0,
          0.06973275063651888,
          0,
          0.3869520485412019,
          0.016533357155253222,
          0,
          0,
          -0.003845505848092763,
          0.5096106070584695,
          0.3799874472672576,
          0.43979245158251723,
          0,
          0.38887524548038827,
          0.45133868995562937,
          0.5253193224216357,
          0,
          0.008907212573540072,
          0.01596280780977088,
          0.43774677248781113,
          0.2558366076639993,
          0.4524509192802211,
          -0.005070024849003396,
          0,
          0.027579381384452623,
          0.5276509039363888,
          0.01532010450185901,
          -0.010493558657701914,
          0,
          0.3945792241533861,
          0.05214483187894518,
          0.30461123673927937,
          0,
          1.1746877052868383,
          -0.014437560814562668,
          0.2685022243373822,
          0.02781693197889578,
          0.07639954826243787,
          0.0056973641791366525,
          0.00005538250652933858,
          0.6967969162399182,
          0,
          0.3348614470250343,
          0,
          0,
          0.4800205612458901,
          0.01782675897828474,
          0.5673077351612463,
          -0.05341695559912419,
          0
         ],
         "yaxis": "y"
        },
        {
         "hovertemplate": "variable=Ridge Coefficient<br>Feature=%{x}<br>Coefficient=%{y}<extra></extra>",
         "legendgroup": "Ridge Coefficient",
         "marker": {
          "color": "#ab63fa",
          "symbol": "circle"
         },
         "mode": "markers",
         "name": "Ridge Coefficient",
         "orientation": "v",
         "showlegend": true,
         "type": "scatter",
         "x": [
          "X1",
          "X2",
          "X3",
          "X4",
          "X5",
          "X6",
          "X7",
          "X8",
          "X9",
          "X10",
          "X11",
          "X12",
          "X13",
          "X14",
          "X15",
          "X16",
          "X17",
          "X18",
          "X19",
          "X20",
          "X21",
          "X22",
          "X23",
          "X24",
          "X25",
          "X26",
          "X27",
          "X28",
          "X29",
          "X30",
          "X31",
          "X32",
          "X33",
          "X34",
          "X35",
          "X36",
          "X37",
          "X38",
          "X39",
          "X40",
          "X41",
          "X42",
          "X43",
          "X44",
          "X45",
          "X46",
          "X47",
          "X48",
          "X49",
          "X50"
         ],
         "xaxis": "x",
         "y": [
          0.5323132128795465,
          -0.0232414147354666,
          0.10410109683141198,
          0.022302420646373198,
          0.41089159470194286,
          0.05165985342945957,
          0.014809735819169624,
          0.005803908003594882,
          -0.03604270927470703,
          0.5237104994792545,
          0.4028028117022604,
          0.46630478615599186,
          0.03000574201662077,
          0.4086440791875812,
          0.4688933811198206,
          0.5455383746631718,
          -0.013371582663379216,
          0.03820263328628673,
          0.05248720785027628,
          0.4603614856780449,
          0.28241871843296507,
          0.4716119784598854,
          -0.037469571580906316,
          -0.02957641958451237,
          0.06111385140338602,
          0.5517379725628321,
          0.04852708624217792,
          -0.04556752749074933,
          -0.02530098400871852,
          0.4191832511381432,
          0.08177709156489288,
          0.33420356547979857,
          0.02554354846636539,
          1.1712338878744286,
          -0.05127864815451793,
          0.2963750442369294,
          0.0599563520512018,
          0.11015709429170163,
          0.03284965740811974,
          0.03843991951151433,
          0.7096536036040927,
          0.009716259299533526,
          0.35495273590906384,
          0.003926783052500921,
          -0.02298802014671416,
          0.4955920737553555,
          0.05347846704500453,
          0.5815027865917494,
          -0.08480761319527907,
          0.017631510013685806
         ],
         "yaxis": "y"
        }
       ],
       "layout": {
        "legend": {
         "title": {
          "text": "variable"
         },
         "tracegroupgap": 0
        },
        "template": {
         "data": {
          "bar": [
           {
            "error_x": {
             "color": "#2a3f5f"
            },
            "error_y": {
             "color": "#2a3f5f"
            },
            "marker": {
             "line": {
              "color": "#E5ECF6",
              "width": 0.5
             },
             "pattern": {
              "fillmode": "overlay",
              "size": 10,
              "solidity": 0.2
             }
            },
            "type": "bar"
           }
          ],
          "barpolar": [
           {
            "marker": {
             "line": {
              "color": "#E5ECF6",
              "width": 0.5
             },
             "pattern": {
              "fillmode": "overlay",
              "size": 10,
              "solidity": 0.2
             }
            },
            "type": "barpolar"
           }
          ],
          "carpet": [
           {
            "aaxis": {
             "endlinecolor": "#2a3f5f",
             "gridcolor": "white",
             "linecolor": "white",
             "minorgridcolor": "white",
             "startlinecolor": "#2a3f5f"
            },
            "baxis": {
             "endlinecolor": "#2a3f5f",
             "gridcolor": "white",
             "linecolor": "white",
             "minorgridcolor": "white",
             "startlinecolor": "#2a3f5f"
            },
            "type": "carpet"
           }
          ],
          "choropleth": [
           {
            "colorbar": {
             "outlinewidth": 0,
             "ticks": ""
            },
            "type": "choropleth"
           }
          ],
          "contour": [
           {
            "colorbar": {
             "outlinewidth": 0,
             "ticks": ""
            },
            "colorscale": [
             [
              0,
              "#0d0887"
             ],
             [
              0.1111111111111111,
              "#46039f"
             ],
             [
              0.2222222222222222,
              "#7201a8"
             ],
             [
              0.3333333333333333,
              "#9c179e"
             ],
             [
              0.4444444444444444,
              "#bd3786"
             ],
             [
              0.5555555555555556,
              "#d8576b"
             ],
             [
              0.6666666666666666,
              "#ed7953"
             ],
             [
              0.7777777777777778,
              "#fb9f3a"
             ],
             [
              0.8888888888888888,
              "#fdca26"
             ],
             [
              1,
              "#f0f921"
             ]
            ],
            "type": "contour"
           }
          ],
          "contourcarpet": [
           {
            "colorbar": {
             "outlinewidth": 0,
             "ticks": ""
            },
            "type": "contourcarpet"
           }
          ],
          "heatmap": [
           {
            "colorbar": {
             "outlinewidth": 0,
             "ticks": ""
            },
            "colorscale": [
             [
              0,
              "#0d0887"
             ],
             [
              0.1111111111111111,
              "#46039f"
             ],
             [
              0.2222222222222222,
              "#7201a8"
             ],
             [
              0.3333333333333333,
              "#9c179e"
             ],
             [
              0.4444444444444444,
              "#bd3786"
             ],
             [
              0.5555555555555556,
              "#d8576b"
             ],
             [
              0.6666666666666666,
              "#ed7953"
             ],
             [
              0.7777777777777778,
              "#fb9f3a"
             ],
             [
              0.8888888888888888,
              "#fdca26"
             ],
             [
              1,
              "#f0f921"
             ]
            ],
            "type": "heatmap"
           }
          ],
          "heatmapgl": [
           {
            "colorbar": {
             "outlinewidth": 0,
             "ticks": ""
            },
            "colorscale": [
             [
              0,
              "#0d0887"
             ],
             [
              0.1111111111111111,
              "#46039f"
             ],
             [
              0.2222222222222222,
              "#7201a8"
             ],
             [
              0.3333333333333333,
              "#9c179e"
             ],
             [
              0.4444444444444444,
              "#bd3786"
             ],
             [
              0.5555555555555556,
              "#d8576b"
             ],
             [
              0.6666666666666666,
              "#ed7953"
             ],
             [
              0.7777777777777778,
              "#fb9f3a"
             ],
             [
              0.8888888888888888,
              "#fdca26"
             ],
             [
              1,
              "#f0f921"
             ]
            ],
            "type": "heatmapgl"
           }
          ],
          "histogram": [
           {
            "marker": {
             "pattern": {
              "fillmode": "overlay",
              "size": 10,
              "solidity": 0.2
             }
            },
            "type": "histogram"
           }
          ],
          "histogram2d": [
           {
            "colorbar": {
             "outlinewidth": 0,
             "ticks": ""
            },
            "colorscale": [
             [
              0,
              "#0d0887"
             ],
             [
              0.1111111111111111,
              "#46039f"
             ],
             [
              0.2222222222222222,
              "#7201a8"
             ],
             [
              0.3333333333333333,
              "#9c179e"
             ],
             [
              0.4444444444444444,
              "#bd3786"
             ],
             [
              0.5555555555555556,
              "#d8576b"
             ],
             [
              0.6666666666666666,
              "#ed7953"
             ],
             [
              0.7777777777777778,
              "#fb9f3a"
             ],
             [
              0.8888888888888888,
              "#fdca26"
             ],
             [
              1,
              "#f0f921"
             ]
            ],
            "type": "histogram2d"
           }
          ],
          "histogram2dcontour": [
           {
            "colorbar": {
             "outlinewidth": 0,
             "ticks": ""
            },
            "colorscale": [
             [
              0,
              "#0d0887"
             ],
             [
              0.1111111111111111,
              "#46039f"
             ],
             [
              0.2222222222222222,
              "#7201a8"
             ],
             [
              0.3333333333333333,
              "#9c179e"
             ],
             [
              0.4444444444444444,
              "#bd3786"
             ],
             [
              0.5555555555555556,
              "#d8576b"
             ],
             [
              0.6666666666666666,
              "#ed7953"
             ],
             [
              0.7777777777777778,
              "#fb9f3a"
             ],
             [
              0.8888888888888888,
              "#fdca26"
             ],
             [
              1,
              "#f0f921"
             ]
            ],
            "type": "histogram2dcontour"
           }
          ],
          "mesh3d": [
           {
            "colorbar": {
             "outlinewidth": 0,
             "ticks": ""
            },
            "type": "mesh3d"
           }
          ],
          "parcoords": [
           {
            "line": {
             "colorbar": {
              "outlinewidth": 0,
              "ticks": ""
             }
            },
            "type": "parcoords"
           }
          ],
          "pie": [
           {
            "automargin": true,
            "type": "pie"
           }
          ],
          "scatter": [
           {
            "fillpattern": {
             "fillmode": "overlay",
             "size": 10,
             "solidity": 0.2
            },
            "type": "scatter"
           }
          ],
          "scatter3d": [
           {
            "line": {
             "colorbar": {
              "outlinewidth": 0,
              "ticks": ""
             }
            },
            "marker": {
             "colorbar": {
              "outlinewidth": 0,
              "ticks": ""
             }
            },
            "type": "scatter3d"
           }
          ],
          "scattercarpet": [
           {
            "marker": {
             "colorbar": {
              "outlinewidth": 0,
              "ticks": ""
             }
            },
            "type": "scattercarpet"
           }
          ],
          "scattergeo": [
           {
            "marker": {
             "colorbar": {
              "outlinewidth": 0,
              "ticks": ""
             }
            },
            "type": "scattergeo"
           }
          ],
          "scattergl": [
           {
            "marker": {
             "colorbar": {
              "outlinewidth": 0,
              "ticks": ""
             }
            },
            "type": "scattergl"
           }
          ],
          "scattermapbox": [
           {
            "marker": {
             "colorbar": {
              "outlinewidth": 0,
              "ticks": ""
             }
            },
            "type": "scattermapbox"
           }
          ],
          "scatterpolar": [
           {
            "marker": {
             "colorbar": {
              "outlinewidth": 0,
              "ticks": ""
             }
            },
            "type": "scatterpolar"
           }
          ],
          "scatterpolargl": [
           {
            "marker": {
             "colorbar": {
              "outlinewidth": 0,
              "ticks": ""
             }
            },
            "type": "scatterpolargl"
           }
          ],
          "scatterternary": [
           {
            "marker": {
             "colorbar": {
              "outlinewidth": 0,
              "ticks": ""
             }
            },
            "type": "scatterternary"
           }
          ],
          "surface": [
           {
            "colorbar": {
             "outlinewidth": 0,
             "ticks": ""
            },
            "colorscale": [
             [
              0,
              "#0d0887"
             ],
             [
              0.1111111111111111,
              "#46039f"
             ],
             [
              0.2222222222222222,
              "#7201a8"
             ],
             [
              0.3333333333333333,
              "#9c179e"
             ],
             [
              0.4444444444444444,
              "#bd3786"
             ],
             [
              0.5555555555555556,
              "#d8576b"
             ],
             [
              0.6666666666666666,
              "#ed7953"
             ],
             [
              0.7777777777777778,
              "#fb9f3a"
             ],
             [
              0.8888888888888888,
              "#fdca26"
             ],
             [
              1,
              "#f0f921"
             ]
            ],
            "type": "surface"
           }
          ],
          "table": [
           {
            "cells": {
             "fill": {
              "color": "#EBF0F8"
             },
             "line": {
              "color": "white"
             }
            },
            "header": {
             "fill": {
              "color": "#C8D4E3"
             },
             "line": {
              "color": "white"
             }
            },
            "type": "table"
           }
          ]
         },
         "layout": {
          "annotationdefaults": {
           "arrowcolor": "#2a3f5f",
           "arrowhead": 0,
           "arrowwidth": 1
          },
          "autotypenumbers": "strict",
          "coloraxis": {
           "colorbar": {
            "outlinewidth": 0,
            "ticks": ""
           }
          },
          "colorscale": {
           "diverging": [
            [
             0,
             "#8e0152"
            ],
            [
             0.1,
             "#c51b7d"
            ],
            [
             0.2,
             "#de77ae"
            ],
            [
             0.3,
             "#f1b6da"
            ],
            [
             0.4,
             "#fde0ef"
            ],
            [
             0.5,
             "#f7f7f7"
            ],
            [
             0.6,
             "#e6f5d0"
            ],
            [
             0.7,
             "#b8e186"
            ],
            [
             0.8,
             "#7fbc41"
            ],
            [
             0.9,
             "#4d9221"
            ],
            [
             1,
             "#276419"
            ]
           ],
           "sequential": [
            [
             0,
             "#0d0887"
            ],
            [
             0.1111111111111111,
             "#46039f"
            ],
            [
             0.2222222222222222,
             "#7201a8"
            ],
            [
             0.3333333333333333,
             "#9c179e"
            ],
            [
             0.4444444444444444,
             "#bd3786"
            ],
            [
             0.5555555555555556,
             "#d8576b"
            ],
            [
             0.6666666666666666,
             "#ed7953"
            ],
            [
             0.7777777777777778,
             "#fb9f3a"
            ],
            [
             0.8888888888888888,
             "#fdca26"
            ],
            [
             1,
             "#f0f921"
            ]
           ],
           "sequentialminus": [
            [
             0,
             "#0d0887"
            ],
            [
             0.1111111111111111,
             "#46039f"
            ],
            [
             0.2222222222222222,
             "#7201a8"
            ],
            [
             0.3333333333333333,
             "#9c179e"
            ],
            [
             0.4444444444444444,
             "#bd3786"
            ],
            [
             0.5555555555555556,
             "#d8576b"
            ],
            [
             0.6666666666666666,
             "#ed7953"
            ],
            [
             0.7777777777777778,
             "#fb9f3a"
            ],
            [
             0.8888888888888888,
             "#fdca26"
            ],
            [
             1,
             "#f0f921"
            ]
           ]
          },
          "colorway": [
           "#636efa",
           "#EF553B",
           "#00cc96",
           "#ab63fa",
           "#FFA15A",
           "#19d3f3",
           "#FF6692",
           "#B6E880",
           "#FF97FF",
           "#FECB52"
          ],
          "font": {
           "color": "#2a3f5f"
          },
          "geo": {
           "bgcolor": "white",
           "lakecolor": "white",
           "landcolor": "#E5ECF6",
           "showlakes": true,
           "showland": true,
           "subunitcolor": "white"
          },
          "hoverlabel": {
           "align": "left"
          },
          "hovermode": "closest",
          "mapbox": {
           "style": "light"
          },
          "paper_bgcolor": "white",
          "plot_bgcolor": "#E5ECF6",
          "polar": {
           "angularaxis": {
            "gridcolor": "white",
            "linecolor": "white",
            "ticks": ""
           },
           "bgcolor": "#E5ECF6",
           "radialaxis": {
            "gridcolor": "white",
            "linecolor": "white",
            "ticks": ""
           }
          },
          "scene": {
           "xaxis": {
            "backgroundcolor": "#E5ECF6",
            "gridcolor": "white",
            "gridwidth": 2,
            "linecolor": "white",
            "showbackground": true,
            "ticks": "",
            "zerolinecolor": "white"
           },
           "yaxis": {
            "backgroundcolor": "#E5ECF6",
            "gridcolor": "white",
            "gridwidth": 2,
            "linecolor": "white",
            "showbackground": true,
            "ticks": "",
            "zerolinecolor": "white"
           },
           "zaxis": {
            "backgroundcolor": "#E5ECF6",
            "gridcolor": "white",
            "gridwidth": 2,
            "linecolor": "white",
            "showbackground": true,
            "ticks": "",
            "zerolinecolor": "white"
           }
          },
          "shapedefaults": {
           "line": {
            "color": "#2a3f5f"
           }
          },
          "ternary": {
           "aaxis": {
            "gridcolor": "white",
            "linecolor": "white",
            "ticks": ""
           },
           "baxis": {
            "gridcolor": "white",
            "linecolor": "white",
            "ticks": ""
           },
           "bgcolor": "#E5ECF6",
           "caxis": {
            "gridcolor": "white",
            "linecolor": "white",
            "ticks": ""
           }
          },
          "title": {
           "x": 0.05
          },
          "xaxis": {
           "automargin": true,
           "gridcolor": "white",
           "linecolor": "white",
           "ticks": "",
           "title": {
            "standoff": 15
           },
           "zerolinecolor": "white",
           "zerolinewidth": 2
          },
          "yaxis": {
           "automargin": true,
           "gridcolor": "white",
           "linecolor": "white",
           "ticks": "",
           "title": {
            "standoff": 15
           },
           "zerolinecolor": "white",
           "zerolinewidth": 2
          }
         }
        },
        "title": {
         "text": "OLS vs LASSO vs Ridge vs ElasticNet Coefficients"
        },
        "xaxis": {
         "anchor": "y",
         "domain": [
          0,
          1
         ],
         "tickangle": -45,
         "title": {
          "text": "Feature"
         }
        },
        "yaxis": {
         "anchor": "x",
         "domain": [
          0,
          1
         ],
         "title": {
          "text": "Coefficient"
         }
        }
       }
      }
     },
     "metadata": {},
     "output_type": "display_data"
    }
   ],
   "source": [
    "# Get the coefficients and feature names for Lasso and ElasticNet\n",
    "lasso_coefficients = lasso_cv_model.coef_\n",
    "elastic_net_coefficients = elastic_net.coef_\n",
    "ridge_coefficients = ridge_cv_model.coef_\n",
    "feature_names = X0_train.columns\n",
    "\n",
    "# Initialize the OLS regression model\n",
    "ols_model = LinearRegression()\n",
    "# Fit the OLS model to the training data\n",
    "ols_model.fit(X1_train, y0_train)\n",
    "# Get the coefficients for OLS\n",
    "ols_coefficients = ols_model.coef_\n",
    "\n",
    "# Create DataFrames for Lasso and OLS coefficients\n",
    "lasso_coeff_df = pd.DataFrame({'Feature': feature_names, 'LASSO Coefficient': lasso_coefficients})\n",
    "elastic_net_coeff_df = pd.DataFrame({'Feature': feature_names, 'ElasticNet Coefficient': elastic_net_coefficients})\n",
    "ridge_coeffcients_df = pd.DataFrame({'Feature': feature_names, 'Ridge Coefficient': ridge_coefficients})\n",
    "ols_coeff_df = pd.DataFrame({'Feature': feature_names, 'OLS Coefficient': ols_coefficients})\n",
    "\n",
    "# Combine the DataFrames\n",
    "combined_coeff_df = pd.merge(ols_coeff_df, lasso_coeff_df, on='Feature')\n",
    "combined_coeff_df = pd.merge(combined_coeff_df, elastic_net_coeff_df, on='Feature')\n",
    "combined_coeff_df = pd.merge(combined_coeff_df, ridge_coeffcients_df, on='Feature')\n",
    "\n",
    "# Create an interactive scatter plot using Plotly\n",
    "fig = px.scatter(combined_coeff_df, x='Feature', y=['OLS Coefficient', 'LASSO Coefficient', 'ElasticNet Coefficient', 'Ridge Coefficient'],\n",
    "                 title='OLS vs LASSO vs Ridge vs ElasticNet Coefficients', labels={'value': 'Coefficient'})\n",
    "\n",
    "# Customize layout\n",
    "fig.update_layout(xaxis={'tickangle': -45, 'title': 'Feature'},\n",
    "                  yaxis={'title': 'Coefficient'})\n",
    "\n",
    "# Show the interactive plot\n",
    "fig.show()"
   ]
  },
  {
   "cell_type": "markdown",
   "id": "a9e0484b",
   "metadata": {},
   "source": [
    "As can be observed, we still recover a majority of our parameters in all regularisation techniques."
   ]
  },
  {
   "cell_type": "markdown",
   "id": "30975a53",
   "metadata": {},
   "source": [
    "# 4. Model Evaluation"
   ]
  },
  {
   "cell_type": "code",
   "execution_count": 48,
   "id": "3479508a",
   "metadata": {},
   "outputs": [
    {
     "name": "stdout",
     "output_type": "stream",
     "text": [
      "Mean CV MSE: 7.399768681029597\n",
      "Mean CV RMSE: 2.720251584142466\n"
     ]
    }
   ],
   "source": [
    "lasso_cv_mse = -cross_val_score(\n",
    "    lasso_cv_model, \n",
    "    X1_train, \n",
    "    y0_train,\n",
    "    cv=10,\n",
    "    scoring=\"neg_mean_squared_error\"\n",
    ")\n",
    "print(\"Mean CV MSE:\", np.mean(lasso_cv_mse))\n",
    "print(\"Mean CV RMSE:\", np.sqrt(np.mean(lasso_cv_mse)))"
   ]
  },
  {
   "cell_type": "code",
   "execution_count": 49,
   "id": "a488298d",
   "metadata": {},
   "outputs": [
    {
     "name": "stdout",
     "output_type": "stream",
     "text": [
      "Mean CV MSE: 7.442807161081619\n",
      "Mean CV RMSE: 2.7281508684604705\n"
     ]
    }
   ],
   "source": [
    "ridge_cv_mse = -cross_val_score(\n",
    "    ridge_cv_model, \n",
    "    X1_train, \n",
    "    y0_train,\n",
    "    cv=10,\n",
    "    scoring=\"neg_mean_squared_error\"\n",
    ")\n",
    "print(\"Mean CV MSE:\", np.mean(ridge_cv_mse))\n",
    "print(\"Mean CV RMSE:\", np.sqrt(np.mean(ridge_cv_mse)))"
   ]
  },
  {
   "cell_type": "code",
   "execution_count": 50,
   "id": "ab911552",
   "metadata": {},
   "outputs": [
    {
     "name": "stdout",
     "output_type": "stream",
     "text": [
      "Mean CV MSE: 7.411231813570614\n",
      "Mean CV RMSE: 2.7223577673719914\n"
     ]
    }
   ],
   "source": [
    "elastic_net_cv_mse = -cross_val_score(\n",
    "    elastic_net, \n",
    "    X1_train, \n",
    "    y0_train,\n",
    "    cv=10,\n",
    "    scoring=\"neg_mean_squared_error\"\n",
    ")\n",
    "\n",
    "print(\"Mean CV MSE:\", np.mean(elastic_net_cv_mse))\n",
    "print(\"Mean CV RMSE:\", np.sqrt(np.mean(elastic_net_cv_mse)))"
   ]
  },
  {
   "cell_type": "markdown",
   "id": "43a03500",
   "metadata": {},
   "source": [
    "Given that LASSO has a smaller MSE than Ridge and Elastic Net, we use LASSO for our predictions. This is not a surprise as the L1 ratio for the Elastic Net is 1."
   ]
  },
  {
   "cell_type": "markdown",
   "id": "4b78c02d",
   "metadata": {},
   "source": [
    "# 5. Model Prediction"
   ]
  },
  {
   "cell_type": "code",
   "execution_count": 51,
   "id": "8414b544",
   "metadata": {},
   "outputs": [],
   "source": [
    "test_df = pd.read_csv('../data/test_data.csv')\n",
    "test_X0 = test_df.drop(columns=['ID'])\n",
    "test_X1 = scaler.transform(test_X0)\n",
    "\n",
    "# Predict Y using Lasso\n",
    "Y_pred = lasso_cv_model.predict(test_X1)\n",
    "\n",
    "# Create the data frame with each ID and the predicted Y value\n",
    "\n",
    "test_df['Y_pred'] = Y_pred\n",
    "pred_df = test_df[['ID', 'Y_pred']]\n",
    "\n",
    "#print(submission_df.head())\n",
    "\n",
    "submission_ass2 = pd.read_csv('../data/submission.csv')\n",
    "submission_ass2['Y'] = pred_df[['Y_pred']].values\n",
    "submission_ass2.to_csv(\"submission_ass2_group9.csv\", index=False)"
   ]
  },
  {
   "attachments": {
    "Leaderboard Screenshot.png": {
     "image/png": "[encoded data removed]"
    }
   },
   "cell_type": "markdown",
   "id": "3cda60b1",
   "metadata": {},
   "source": [
    "![Leaderboard Screenshot.png](<attachment:Leaderboard Screenshot.png>)"
   ]
  }
 ],
 "metadata": {
  "kernelspec": {
   "display_name": "base",
   "language": "python",
   "name": "python3"
  },
  "language_info": {
   "codemirror_mode": {
    "name": "ipython",
    "version": 3
   },
   "file_extension": ".py",
   "mimetype": "text/x-python",
   "name": "python",
   "nbconvert_exporter": "python",
   "pygments_lexer": "ipython3",
   "version": "3.12.4"
  }
 },
 "nbformat": 4,
 "nbformat_minor": 5
}
