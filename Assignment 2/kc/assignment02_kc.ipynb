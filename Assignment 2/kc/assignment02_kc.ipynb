{
 "cells": [
  {
   "cell_type": "markdown",
   "id": "b1da3b0c",
   "metadata": {},
   "source": [
    "# Assignment 2"
   ]
  },
  {
   "cell_type": "code",
   "execution_count": 33,
   "id": "d9864408",
   "metadata": {},
   "outputs": [],
   "source": [
    "import numpy as np\n",
    "import pandas as pd\n",
    "\n",
    "from sklearn.preprocessing import StandardScaler\n",
    "from sklearn.pipeline import Pipeline\n",
    "from sklearn.linear_model import Lasso, LinearRegression, LogisticRegression, LassoCV, ElasticNetCV, ElasticNet\n",
    "from sklearn.model_selection import train_test_split, GridSearchCV"
   ]
  },
  {
   "cell_type": "markdown",
   "id": "f574493a",
   "metadata": {},
   "source": [
    "# 1) Read data"
   ]
  },
  {
   "cell_type": "code",
   "execution_count": 34,
   "id": "2e6aa525",
   "metadata": {},
   "outputs": [
    {
     "name": "stdout",
     "output_type": "stream",
     "text": [
      "   ID         Y        X1        X2        X3        X4        X5        X6  \\\n",
      "0   0 -1.399091  1.174139  1.413109  0.164693 -1.067338  0.015324 -1.280970   \n",
      "1   1  3.097990  0.208922  0.931231  0.838779  0.893483 -0.510555  0.900289   \n",
      "2   2 -1.707346 -0.744982  0.962118  0.615392 -0.427943 -0.014912  1.138781   \n",
      "3   3  0.610625 -0.170428 -1.361771  0.206042  0.623124  0.907441 -0.873814   \n",
      "4   4 -0.689196 -0.858792  0.321308 -0.415649  1.014056 -0.522858  0.926634   \n",
      "\n",
      "         X7        X8  ...       X41       X42       X43       X44       X45  \\\n",
      "0  0.489681 -0.371982  ... -0.115044 -2.580043 -0.812428  0.772820 -0.460444   \n",
      "1 -0.042490  0.839400  ...  1.155635  0.673035 -0.438152 -0.001316 -0.761800   \n",
      "2  1.159491  0.055467  ...  0.299277  1.387495 -0.007519 -0.464825  0.830986   \n",
      "3  1.287383  0.901191  ...  1.209247  0.095866 -0.287905 -1.110714 -1.660352   \n",
      "4 -0.390663  0.790054  ... -1.191989 -1.127448  0.246358  0.407769  1.132454   \n",
      "\n",
      "        X46       X47       X48       X49       X50  \n",
      "0  0.190422 -0.362052 -1.119038  0.916313 -1.517434  \n",
      "1  1.335092  0.901978 -1.549504 -0.456224  0.223405  \n",
      "2  0.373124  0.319232 -0.577295 -1.363846 -0.347154  \n",
      "3  0.207231 -0.419119 -0.517563 -1.050697 -0.096327  \n",
      "4 -0.016621  0.964745  0.091532  0.649593 -0.818020  \n",
      "\n",
      "[5 rows x 52 columns]\n"
     ]
    }
   ],
   "source": [
    "train_df = pd.read_csv(r\"Assignment 1/data/train_data.csv\")\n",
    "test_df  = pd.read_csv(r\"Assignment 1/data/test_data.csv\")\n",
    "print(train_df.head())"
   ]
  },
  {
   "cell_type": "markdown",
   "id": "25c6adf4",
   "metadata": {},
   "source": [
    "# 2) Correlations with Y"
   ]
  },
  {
   "cell_type": "code",
   "execution_count": 35,
   "id": "038ff7b2",
   "metadata": {},
   "outputs": [
    {
     "name": "stdout",
     "output_type": "stream",
     "text": [
      "     Correlation with Y\n",
      "X34            0.330143\n",
      "X41            0.205901\n",
      "X48            0.180286\n",
      "X46            0.149633\n",
      "X16            0.149480\n",
      "X15            0.147115\n",
      "X26            0.144194\n",
      "X10            0.141671\n",
      "X1             0.135257\n",
      "X12            0.132727\n",
      "X30            0.126337\n",
      "X22            0.125427\n",
      "X14            0.123509\n",
      "X11            0.110485\n",
      "X5             0.110160\n",
      "X43            0.109876\n",
      "X20            0.104147\n",
      "X32            0.087633\n",
      "X36            0.083855\n",
      "X21            0.075033\n",
      "X31            0.038369\n",
      "X3             0.034430\n",
      "X33            0.027626\n",
      "X18            0.024968\n",
      "X25            0.022851\n",
      "X37            0.021334\n",
      "X39            0.019053\n",
      "X27            0.016782\n",
      "X7             0.014777\n",
      "X38            0.014546\n",
      "X17            0.013900\n",
      "X2             0.010244\n",
      "X6             0.008458\n",
      "X13            0.008407\n",
      "X50            0.007810\n",
      "X4             0.007688\n",
      "X24            0.005755\n",
      "X19            0.004383\n",
      "X8             0.002121\n",
      "X35            0.002038\n",
      "X47           -0.002924\n",
      "X44           -0.002959\n",
      "X42           -0.004132\n",
      "X45           -0.006230\n",
      "X29           -0.006680\n",
      "X40           -0.008522\n",
      "X23           -0.008549\n",
      "X9            -0.022106\n",
      "X49           -0.033080\n",
      "X28           -0.033331\n"
     ]
    }
   ],
   "source": [
    "correlations = train_df.filter(regex='^X').corrwith(train_df['Y'])\n",
    "correlation_table = correlations.to_frame(name='Correlation with Y')\n",
    "print(correlation_table.sort_values(by='Correlation with Y', ascending=False))"
   ]
  },
  {
   "cell_type": "markdown",
   "id": "07a3a348",
   "metadata": {},
   "source": [
    "# 3) Scaler and K-Fold CV"
   ]
  },
  {
   "cell_type": "code",
   "execution_count": 36,
   "id": "e97bf4be",
   "metadata": {},
   "outputs": [],
   "source": [
    "X_train = train_df[x_cols].values\n",
    "y_train = train_df[\"Y\"].values\n",
    "X_test  = test_df[x_cols].values\n",
    "kf = KFold(n_splits=10, shuffle=True, random_state=42)\n",
    "\n",
    "scaler = StandardScaler()\n",
    "X_train_std = scaler.fit_transform(X_train) \n",
    "X_test_std  = scaler.transform(X_test)  "
   ]
  },
  {
   "cell_type": "markdown",
   "id": "067d37fd",
   "metadata": {},
   "source": [
    "# 4) LassoCV"
   ]
  },
  {
   "cell_type": "code",
   "execution_count": 37,
   "id": "1ce401c0",
   "metadata": {},
   "outputs": [
    {
     "name": "stdout",
     "output_type": "stream",
     "text": [
      "\n",
      "LassoCV best alpha: 0.035565\n",
      "LassoCV RMSE: 2.724556\n"
     ]
    }
   ],
   "source": [
    "alphas = np.logspace(-4, 1, 50)\n",
    "\n",
    "lasso_cv = LassoCV(\n",
    "    alphas=alphas,\n",
    "    cv=kf,\n",
    "    random_state=42,\n",
    "    max_iter=10000\n",
    ")\n",
    "lasso_cv.fit(X_train_std, y_train)\n",
    "\n",
    "lasso_mse_path = lasso_cv.mse_path_\n",
    "lasso_cv_rmse  = float(np.sqrt(lasso_mse_path.mean(axis=1).min()))\n",
    "print(f\"\\nLassoCV best alpha: {lasso_cv.alpha_:.6f}\")\n",
    "print(f\"LassoCV RMSE: {lasso_cv_rmse:.6f}\")"
   ]
  },
  {
   "cell_type": "markdown",
   "id": "1c9eb6e6",
   "metadata": {},
   "source": [
    "# 5) ElasticNetCV"
   ]
  },
  {
   "cell_type": "code",
   "execution_count": 38,
   "id": "68ddcfd0",
   "metadata": {},
   "outputs": [
    {
     "name": "stdout",
     "output_type": "stream",
     "text": [
      "ElasticNetCV best alpha: 0.044984\n",
      "ElasticNetCV best l1_ratio: 0.90\n",
      "ElasticNetCV CV RMSE: 2.724970\n"
     ]
    }
   ],
   "source": [
    "l1_ratios = np.linspace(0.1, 0.9, 9)\n",
    "\n",
    "enet_cv = ElasticNetCV(\n",
    "    alphas=alphas,\n",
    "    l1_ratio=l1_ratios,\n",
    "    cv=kf,\n",
    "    random_state=42,\n",
    "    max_iter=10000\n",
    ")\n",
    "enet_cv.fit(X_train_std, y_train)\n",
    "\n",
    "enet_mse_path = enet_cv.mse_path_\n",
    "enet_cv_rmse  = float(np.sqrt(enet_mse_path.mean(axis=2).min()))\n",
    "print(f\"ElasticNetCV best alpha: {enet_cv.alpha_:.6f}\")\n",
    "print(f\"ElasticNetCV best l1_ratio: {enet_cv.l1_ratio_:.2f}\")\n",
    "print(f\"ElasticNetCV CV RMSE: {enet_cv_rmse:.6f}\")"
   ]
  },
  {
   "cell_type": "markdown",
   "id": "30975a53",
   "metadata": {},
   "source": [
    "# 6) Choose the best model by CV RMSE"
   ]
  },
  {
   "cell_type": "code",
   "execution_count": 39,
   "id": "dd779c6f",
   "metadata": {},
   "outputs": [
    {
     "name": "stdout",
     "output_type": "stream",
     "text": [
      "\n",
      "Chosen model: Lasso\n"
     ]
    }
   ],
   "source": [
    "if lasso_cv_rmse <= enet_cv_rmse:\n",
    "    chosen_name = \"Lasso\"\n",
    "    chosen_model = lasso_cv\n",
    "else:\n",
    "    chosen_name = \"Elastic Net\"\n",
    "    chosen_model = enet_cv\n",
    "\n",
    "print(f\"\\nChosen model: {chosen_name}\")"
   ]
  },
  {
   "cell_type": "markdown",
   "id": "4b78c02d",
   "metadata": {},
   "source": [
    "# 7) Predict on test set"
   ]
  },
  {
   "cell_type": "code",
   "execution_count": 40,
   "id": "8414b544",
   "metadata": {},
   "outputs": [
    {
     "name": "stdout",
     "output_type": "stream",
     "text": [
      "     ID         Y\n",
      "0  2400  0.565183\n",
      "1  2401 -0.190046\n",
      "2  2402 -1.126926\n",
      "3  2403 -2.092995\n",
      "4  2404  2.912655\n"
     ]
    }
   ],
   "source": [
    "test_pred = chosen_model.predict(X_test_std)\n",
    "submission_df = pd.DataFrame({\"ID\": test_df[\"ID\"], \"Y\": test_pred})\n",
    "\n",
    "print(submission_df.head())\n",
    "\n",
    "submission_df.to_csv(r\"Assignment 2/kc/submission_assignment2.csv\", index=False)"
   ]
  }
 ],
 "metadata": {
  "kernelspec": {
   "display_name": "base",
   "language": "python",
   "name": "python3"
  },
  "language_info": {
   "codemirror_mode": {
    "name": "ipython",
    "version": 3
   },
   "file_extension": ".py",
   "mimetype": "text/x-python",
   "name": "python",
   "nbconvert_exporter": "python",
   "pygments_lexer": "ipython3",
   "version": "3.12.4"
  }
 },
 "nbformat": 4,
 "nbformat_minor": 5
}
